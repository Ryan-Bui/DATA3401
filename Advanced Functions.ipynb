{
 "cells": [
  {
   "cell_type": "markdown",
   "id": "5ad7e3ac",
   "metadata": {},
   "source": [
    "## Importing Packages\n"
   ]
  },
  {
   "cell_type": "code",
   "execution_count": 1,
   "id": "5ac42956",
   "metadata": {},
   "outputs": [
    {
     "data": {
      "text/plain": [
       "'posix'"
      ]
     },
     "execution_count": 1,
     "metadata": {},
     "output_type": "execute_result"
    }
   ],
   "source": [
    "import os\n",
    "os.name"
   ]
  },
  {
   "cell_type": "code",
   "execution_count": 2,
   "id": "8b8f4e3a",
   "metadata": {},
   "outputs": [
    {
     "data": {
      "text/plain": [
       "'/home/weldan913'"
      ]
     },
     "execution_count": 2,
     "metadata": {},
     "output_type": "execute_result"
    }
   ],
   "source": [
    "os.environ['HOME']"
   ]
  },
  {
   "cell_type": "code",
   "execution_count": 3,
   "id": "13091edb",
   "metadata": {},
   "outputs": [
    {
     "data": {
      "text/plain": [
       "posix.uname_result(sysname='Linux', nodename='TABLET-51ADB9AH', release='5.10.16.3-microsoft-standard-WSL2', version='#1 SMP Fri Apr 2 22:23:49 UTC 2021', machine='x86_64')"
      ]
     },
     "execution_count": 3,
     "metadata": {},
     "output_type": "execute_result"
    }
   ],
   "source": [
    "os.uname()"
   ]
  },
  {
   "cell_type": "code",
   "execution_count": 5,
   "id": "1e0f2e16",
   "metadata": {},
   "outputs": [
    {
     "data": {
      "text/plain": [
       "sys.version_info(major=3, minor=8, micro=10, releaselevel='final', serial=0)"
      ]
     },
     "execution_count": 5,
     "metadata": {},
     "output_type": "execute_result"
    }
   ],
   "source": [
    "import sys\n",
    "sys.implementation.version"
   ]
  },
  {
   "cell_type": "code",
   "execution_count": 6,
   "id": "43b39214",
   "metadata": {},
   "outputs": [
    {
     "data": {
      "text/plain": [
       "['/mnt/c/users/buiry/data3401',\n",
       " '/usr/lib/python38.zip',\n",
       " '/usr/lib/python3.8',\n",
       " '/usr/lib/python3.8/lib-dynload',\n",
       " '',\n",
       " '/usr/local/lib/python3.8/dist-packages',\n",
       " '/usr/lib/python3/dist-packages',\n",
       " '/usr/local/lib/python3.8/dist-packages/IPython/extensions',\n",
       " '/home/weldan913/.ipython']"
      ]
     },
     "execution_count": 6,
     "metadata": {},
     "output_type": "execute_result"
    }
   ],
   "source": [
    "sys.path"
   ]
  },
  {
   "cell_type": "code",
   "execution_count": 7,
   "id": "30717bdd",
   "metadata": {},
   "outputs": [
    {
     "data": {
      "text/plain": [
       "'linux'"
      ]
     },
     "execution_count": 7,
     "metadata": {},
     "output_type": "execute_result"
    }
   ],
   "source": [
    "sys.platform"
   ]
  },
  {
   "cell_type": "markdown",
   "id": "e6d598d3",
   "metadata": {},
   "source": [
    "## Advanced Values, Variables, and Types\n",
    "1. Tuples\n",
    "2. More about lists \n",
    "3. DIctionaries\n",
    "4. is and id functions"
   ]
  },
  {
   "cell_type": "code",
   "execution_count": null,
   "id": "cef336c3",
   "metadata": {},
   "outputs": [],
   "source": []
  },
  {
   "cell_type": "markdown",
   "id": "17103dbc",
   "metadata": {},
   "source": [
    "## More Advanced Functions\n",
    "1. Recursive Functions\n",
    "2. Functions with arbitrary number of variables\n",
    "3. Passing functions as arguments\n"
   ]
  },
  {
   "cell_type": "code",
   "execution_count": 2,
   "id": "db7b58d3",
   "metadata": {},
   "outputs": [],
   "source": [
    "def factorial(n):\n",
    "    out = 1 \n",
    "    for i in range(2,n+1):\n",
    "        out*=i\n",
    "    return out"
   ]
  },
  {
   "cell_type": "code",
   "execution_count": 3,
   "id": "a8c1a2c0",
   "metadata": {},
   "outputs": [
    {
     "data": {
      "text/plain": [
       "120"
      ]
     },
     "execution_count": 3,
     "metadata": {},
     "output_type": "execute_result"
    }
   ],
   "source": [
    "factorial(5)"
   ]
  },
  {
   "cell_type": "code",
   "execution_count": 4,
   "id": "05efa8af",
   "metadata": {},
   "outputs": [],
   "source": [
    "def factorial2(n):\n",
    "    if n==1:\n",
    "        return n\n",
    "    else: \n",
    "        return n*factorial2(n-1)\n",
    "    "
   ]
  },
  {
   "cell_type": "code",
   "execution_count": 5,
   "id": "74f8ac37",
   "metadata": {},
   "outputs": [],
   "source": [
    "def exponentiate(base,power):\n",
    "    # return base**power\n",
    "    if power == 1:\n",
    "        return base\n",
    "    if power == 0:\n",
    "        return 1\n",
    "    else:\n",
    "        return base*exponentiate(base,power-1)"
   ]
  },
  {
   "cell_type": "code",
   "execution_count": 6,
   "id": "fcc36d67",
   "metadata": {},
   "outputs": [
    {
     "data": {
      "text/plain": [
       "27"
      ]
     },
     "execution_count": 6,
     "metadata": {},
     "output_type": "execute_result"
    }
   ],
   "source": [
    "exponentiate(3,3)"
   ]
  },
  {
   "cell_type": "code",
   "execution_count": 7,
   "id": "3bd01f06",
   "metadata": {},
   "outputs": [
    {
     "data": {
      "text/plain": [
       "81"
      ]
     },
     "execution_count": 7,
     "metadata": {},
     "output_type": "execute_result"
    }
   ],
   "source": [
    "exponentiate(3,4)"
   ]
  },
  {
   "cell_type": "code",
   "execution_count": 9,
   "id": "8240d427",
   "metadata": {},
   "outputs": [
    {
     "data": {
      "text/plain": [
       "1"
      ]
     },
     "execution_count": 9,
     "metadata": {},
     "output_type": "execute_result"
    }
   ],
   "source": [
    "exponentiate(3,0)"
   ]
  },
  {
   "cell_type": "code",
   "execution_count": 10,
   "id": "fee27245",
   "metadata": {},
   "outputs": [
    {
     "data": {
      "text/plain": [
       "3"
      ]
     },
     "execution_count": 10,
     "metadata": {},
     "output_type": "execute_result"
    }
   ],
   "source": [
    "exponentiate(3,1)"
   ]
  },
  {
   "cell_type": "code",
   "execution_count": 12,
   "id": "c9774ea7",
   "metadata": {},
   "outputs": [
    {
     "data": {
      "text/plain": [
       "1024"
      ]
     },
     "execution_count": 12,
     "metadata": {},
     "output_type": "execute_result"
    }
   ],
   "source": [
    "exponentiate(2,10)"
   ]
  },
  {
   "cell_type": "code",
   "execution_count": 13,
   "id": "c0f02653",
   "metadata": {},
   "outputs": [
    {
     "ename": "RecursionError",
     "evalue": "maximum recursion depth exceeded in comparison",
     "output_type": "error",
     "traceback": [
      "\u001b[0;31m---------------------------------------------------------------------------\u001b[0m",
      "\u001b[0;31mRecursionError\u001b[0m                            Traceback (most recent call last)",
      "\u001b[0;32m/tmp/ipykernel_234/2438821345.py\u001b[0m in \u001b[0;36m<module>\u001b[0;34m\u001b[0m\n\u001b[0;32m----> 1\u001b[0;31m \u001b[0mexponentiate\u001b[0m\u001b[0;34m(\u001b[0m\u001b[0;36m2\u001b[0m\u001b[0;34m,\u001b[0m\u001b[0;34m-\u001b[0m\u001b[0;36m2\u001b[0m\u001b[0;34m)\u001b[0m\u001b[0;34m\u001b[0m\u001b[0;34m\u001b[0m\u001b[0m\n\u001b[0m",
      "\u001b[0;32m/tmp/ipykernel_234/1572129672.py\u001b[0m in \u001b[0;36mexponentiate\u001b[0;34m(base, power)\u001b[0m\n\u001b[1;32m      6\u001b[0m         \u001b[0;32mreturn\u001b[0m \u001b[0;36m1\u001b[0m\u001b[0;34m\u001b[0m\u001b[0;34m\u001b[0m\u001b[0m\n\u001b[1;32m      7\u001b[0m     \u001b[0;32melse\u001b[0m\u001b[0;34m:\u001b[0m\u001b[0;34m\u001b[0m\u001b[0;34m\u001b[0m\u001b[0m\n\u001b[0;32m----> 8\u001b[0;31m         \u001b[0;32mreturn\u001b[0m \u001b[0mbase\u001b[0m\u001b[0;34m*\u001b[0m\u001b[0mexponentiate\u001b[0m\u001b[0;34m(\u001b[0m\u001b[0mbase\u001b[0m\u001b[0;34m,\u001b[0m\u001b[0mpower\u001b[0m\u001b[0;34m-\u001b[0m\u001b[0;36m1\u001b[0m\u001b[0;34m)\u001b[0m\u001b[0;34m\u001b[0m\u001b[0;34m\u001b[0m\u001b[0m\n\u001b[0m",
      "... last 1 frames repeated, from the frame below ...\n",
      "\u001b[0;32m/tmp/ipykernel_234/1572129672.py\u001b[0m in \u001b[0;36mexponentiate\u001b[0;34m(base, power)\u001b[0m\n\u001b[1;32m      6\u001b[0m         \u001b[0;32mreturn\u001b[0m \u001b[0;36m1\u001b[0m\u001b[0;34m\u001b[0m\u001b[0;34m\u001b[0m\u001b[0m\n\u001b[1;32m      7\u001b[0m     \u001b[0;32melse\u001b[0m\u001b[0;34m:\u001b[0m\u001b[0;34m\u001b[0m\u001b[0;34m\u001b[0m\u001b[0m\n\u001b[0;32m----> 8\u001b[0;31m         \u001b[0;32mreturn\u001b[0m \u001b[0mbase\u001b[0m\u001b[0;34m*\u001b[0m\u001b[0mexponentiate\u001b[0m\u001b[0;34m(\u001b[0m\u001b[0mbase\u001b[0m\u001b[0;34m,\u001b[0m\u001b[0mpower\u001b[0m\u001b[0;34m-\u001b[0m\u001b[0;36m1\u001b[0m\u001b[0;34m)\u001b[0m\u001b[0;34m\u001b[0m\u001b[0;34m\u001b[0m\u001b[0m\n\u001b[0m",
      "\u001b[0;31mRecursionError\u001b[0m: maximum recursion depth exceeded in comparison"
     ]
    }
   ],
   "source": [
    "exponentiate(2,-2)"
   ]
  },
  {
   "cell_type": "code",
   "execution_count": 16,
   "id": "8aa88de3",
   "metadata": {},
   "outputs": [],
   "source": [
    "def exp2(base,power):\n",
    "    #allow all integers\n",
    "    if power == 0:\n",
    "        return 1\n",
    "    elif power > 0:\n",
    "        return base*exp2(base,power-1)\n",
    "    elif power < 0:\n",
    "        return exp2(1/base,-power)"
   ]
  },
  {
   "cell_type": "code",
   "execution_count": 17,
   "id": "7f8663d8",
   "metadata": {},
   "outputs": [],
   "source": [
    "def factorial3(n):\n",
    "    return n if n==1 else n*factorial3(n-1)"
   ]
  },
  {
   "cell_type": "code",
   "execution_count": 18,
   "id": "eac57fc5",
   "metadata": {},
   "outputs": [
    {
     "data": {
      "text/plain": [
       "120"
      ]
     },
     "execution_count": 18,
     "metadata": {},
     "output_type": "execute_result"
    }
   ],
   "source": [
    "factorial3(5)"
   ]
  },
  {
   "cell_type": "markdown",
   "id": "3b9f2634",
   "metadata": {},
   "source": [
    "## Vectors and Matrices\n",
    "1. A matrix can be represented as a list of lists in Python. A mxn matrix will be m lists of length n\n",
    "2. A column vector is a matrix of size mx1, and a row vector is a matrix of size 1xn\n",
    "3. When can we multiply objects?\n",
    "    3a. We can multiply a matrix (or vector) by a scalar (number) (returns a matrix/vector)\n",
    "    3b. We can \"multiply\" two vectors of the same length by their dot product (returns a scalar)\n",
    "    3c. We can multiply an mxn matrix by an nxs matrix, resulting in an mxs matrix\n",
    "    \n"
   ]
  },
  {
   "cell_type": "code",
   "execution_count": 19,
   "id": "d19d881f",
   "metadata": {},
   "outputs": [],
   "source": [
    "def zero_matrix(m,n):\n",
    "    return [[0]*n for i in range(m)]"
   ]
  },
  {
   "cell_type": "code",
   "execution_count": 21,
   "id": "0570ded7",
   "metadata": {},
   "outputs": [],
   "source": [
    "def display_matrix(matrix):\n",
    "    for i in range(len(matrix)):\n",
    "        print(matrix[i])"
   ]
  },
  {
   "cell_type": "code",
   "execution_count": 22,
   "id": "f461e7eb",
   "metadata": {},
   "outputs": [
    {
     "name": "stdout",
     "output_type": "stream",
     "text": [
      "[0, 0, 0, 0, 0, 0, 0]\n",
      "[0, 0, 0, 0, 0, 0, 0]\n",
      "[0, 0, 0, 0, 0, 0, 0]\n",
      "[0, 0, 0, 0, 0, 0, 0]\n",
      "[0, 0, 0, 0, 0, 0, 0]\n"
     ]
    }
   ],
   "source": [
    "A = zero_matrix(5,7)\n",
    "display_matrix(A)"
   ]
  },
  {
   "cell_type": "code",
   "execution_count": 23,
   "id": "8a0a69d4",
   "metadata": {},
   "outputs": [],
   "source": [
    "def scalar_list_multiply(scalar,lst):\n",
    "    out = []\n",
    "    for i in lst:\n",
    "        out.append(scalar*i)\n",
    "    return out"
   ]
  },
  {
   "cell_type": "code",
   "execution_count": 25,
   "id": "6cf07bf9",
   "metadata": {},
   "outputs": [
    {
     "ename": "SyntaxError",
     "evalue": "invalid syntax (2511547417.py, line 1)",
     "output_type": "error",
     "traceback": [
      "\u001b[0;36m  File \u001b[0;32m\"/tmp/ipykernel_234/2511547417.py\"\u001b[0;36m, line \u001b[0;32m1\u001b[0m\n\u001b[0;31m    scalar_list_multiply(lst1,lst2):\u001b[0m\n\u001b[0m                                    ^\u001b[0m\n\u001b[0;31mSyntaxError\u001b[0m\u001b[0;31m:\u001b[0m invalid syntax\n"
     ]
    }
   ],
   "source": [
    "scalar_list_multiply(lst1,lst2):\n",
    "    ## NOT DOT PRODUCT\n",
    "    if len(lst1)!=len(lst2):\n",
    "        print(\"Error: lists must be the same length\")\n",
    "        return None\n",
    "    else:\n",
    "        out = []\n",
    "        for item1,item2 in zip(lst)\n"
   ]
  },
  {
   "cell_type": "code",
   "execution_count": 5,
   "id": "c85d6b4e",
   "metadata": {},
   "outputs": [],
   "source": [
    "def list_list_multiply(lst1,lst2):\n",
    "    ## NOT dot product!!!\n",
    "    if len(lst1)!=len(lst2):\n",
    "        print(\"Error: lists must be the same length.\")\n",
    "        return None\n",
    "    else:\n",
    "        out = []\n",
    "        for item1,item2 in zip(lst1,lst2):\n",
    "            out.append(item1*item2)\n",
    "        return out"
   ]
  },
  {
   "cell_type": "code",
   "execution_count": 6,
   "id": "380a54d5",
   "metadata": {},
   "outputs": [],
   "source": [
    "def multiply(a,b):\n",
    "    if isinstance(a,(float,int)) and isinstance(b,(float,int)):\n",
    "        return a*b\n",
    "    elif isinstance(a,list) and isinstance(b,list):\n",
    "        return list_list_multiply(a,b)\n",
    "    elif isinstance (a,list) and isinstance(b,(float,int)):\n",
    "        scalar_list_multiply(b,a)\n",
    "    elif isinstance (b,list) and isinstance(a,(float,int)):\n",
    "        scalar_list_multiply(a,b)\n",
    "    else:\n",
    "        print(\"Invalid input.\")\n",
    "        return None\n",
    "    "
   ]
  },
  {
   "cell_type": "code",
   "execution_count": 7,
   "id": "b38a36d0",
   "metadata": {},
   "outputs": [
    {
     "data": {
      "text/plain": [
       "[2, 10, 18, 28]"
      ]
     },
     "execution_count": 7,
     "metadata": {},
     "output_type": "execute_result"
    }
   ],
   "source": [
    "multiply([1,2,3,4],[2,5,6,7])"
   ]
  },
  {
   "cell_type": "markdown",
   "id": "73d7f039",
   "metadata": {},
   "source": [
    "# More on advance functions\n",
    "Functions with arbitrary number of inputs"
   ]
  },
  {
   "cell_type": "code",
   "execution_count": 29,
   "id": "889fbdb3",
   "metadata": {},
   "outputs": [],
   "source": [
    "def add(*args):\n",
    "    temp = 0\n",
    "    for a in args:\n",
    "        temp += a\n",
    "    return temp"
   ]
  },
  {
   "cell_type": "code",
   "execution_count": 30,
   "id": "01f096a7",
   "metadata": {},
   "outputs": [
    {
     "name": "stdout",
     "output_type": "stream",
     "text": [
      "1\n"
     ]
    }
   ],
   "source": [
    "print(add(1))"
   ]
  },
  {
   "cell_type": "code",
   "execution_count": 31,
   "id": "009e29aa",
   "metadata": {},
   "outputs": [
    {
     "name": "stdout",
     "output_type": "stream",
     "text": [
      "10\n"
     ]
    }
   ],
   "source": [
    "print(add(1,2,3,4))"
   ]
  },
  {
   "cell_type": "code",
   "execution_count": 34,
   "id": "4655c287",
   "metadata": {},
   "outputs": [],
   "source": [
    "def add2(arg1, arg2, *args):\n",
    "    temp = arg1 + arg2 \n",
    "    for a in args:\n",
    "        temp+=a\n",
    "    return temp"
   ]
  },
  {
   "cell_type": "code",
   "execution_count": 35,
   "id": "f16a73ab",
   "metadata": {},
   "outputs": [
    {
     "ename": "TypeError",
     "evalue": "add2() missing 1 required positional argument: 'arg2'",
     "output_type": "error",
     "traceback": [
      "\u001b[0;31m---------------------------------------------------------------------------\u001b[0m",
      "\u001b[0;31mTypeError\u001b[0m                                 Traceback (most recent call last)",
      "\u001b[0;32m/tmp/ipykernel_234/695299768.py\u001b[0m in \u001b[0;36m<module>\u001b[0;34m\u001b[0m\n\u001b[0;32m----> 1\u001b[0;31m \u001b[0madd2\u001b[0m\u001b[0;34m(\u001b[0m\u001b[0;36m1\u001b[0m\u001b[0;34m)\u001b[0m\u001b[0;34m\u001b[0m\u001b[0;34m\u001b[0m\u001b[0m\n\u001b[0m",
      "\u001b[0;31mTypeError\u001b[0m: add2() missing 1 required positional argument: 'arg2'"
     ]
    }
   ],
   "source": [
    "add2(1)"
   ]
  },
  {
   "cell_type": "code",
   "execution_count": 36,
   "id": "111bad8f",
   "metadata": {},
   "outputs": [
    {
     "data": {
      "text/plain": [
       "3"
      ]
     },
     "execution_count": 36,
     "metadata": {},
     "output_type": "execute_result"
    }
   ],
   "source": [
    "add2(1,2)"
   ]
  },
  {
   "cell_type": "code",
   "execution_count": 37,
   "id": "053265f8",
   "metadata": {},
   "outputs": [
    {
     "data": {
      "text/plain": [
       "15"
      ]
     },
     "execution_count": 37,
     "metadata": {},
     "output_type": "execute_result"
    }
   ],
   "source": [
    "add2(1,2,3,4,5)"
   ]
  },
  {
   "cell_type": "code",
   "execution_count": 43,
   "id": "3ed6bce5",
   "metadata": {},
   "outputs": [],
   "source": [
    "# Functions as input arguments to functions\n",
    "\n",
    "def is_odd(x):\n",
    "    return x%2==1\n",
    "def is_even(x):\n",
    "    return x%2==0\n",
    "def less_than_10(x):\n",
    "    return x<10\n",
    "def filter_function(lst,function):\n",
    "    out_list = list() # []\n",
    "    for num in lst:\n",
    "        if function(num):\n",
    "            out_list.append(num)\n",
    "            \n",
    "    return out_list"
   ]
  },
  {
   "cell_type": "code",
   "execution_count": 44,
   "id": "992c386d",
   "metadata": {},
   "outputs": [
    {
     "data": {
      "text/plain": [
       "[1, 3, 5, 7, 9]"
      ]
     },
     "execution_count": 44,
     "metadata": {},
     "output_type": "execute_result"
    }
   ],
   "source": [
    "filter_function([1,2,3,4,5,6,7,8,9,10],is_odd)"
   ]
  },
  {
   "cell_type": "code",
   "execution_count": 45,
   "id": "92322ffa",
   "metadata": {},
   "outputs": [
    {
     "data": {
      "text/plain": [
       "[2, 4, 6, 8, 10]"
      ]
     },
     "execution_count": 45,
     "metadata": {},
     "output_type": "execute_result"
    }
   ],
   "source": [
    "filter_function([1,2,3,4,5,6,7,8,9,10],is_even)"
   ]
  },
  {
   "cell_type": "code",
   "execution_count": 46,
   "id": "8f5add56",
   "metadata": {},
   "outputs": [
    {
     "data": {
      "text/plain": [
       "[1, 2, 3, 4, 5, 6, 7, 8, 9]"
      ]
     },
     "execution_count": 46,
     "metadata": {},
     "output_type": "execute_result"
    }
   ],
   "source": [
    "filter_function([1,2,3,4,5,6,7,8,9,10],less_than_10)"
   ]
  },
  {
   "cell_type": "code",
   "execution_count": 48,
   "id": "1dba3df8",
   "metadata": {},
   "outputs": [],
   "source": [
    "# Functions that return functions\n",
    "\n",
    "def make_filter(function):\n",
    "    def filter_function(lst):\n",
    "        out_list = []\n",
    "        for num in lst:\n",
    "            if function(num):\n",
    "                out_list.append(num)\n",
    "        return out_list\n",
    "    return filter_function"
   ]
  },
  {
   "cell_type": "code",
   "execution_count": 49,
   "id": "62ef8e8f",
   "metadata": {},
   "outputs": [],
   "source": [
    "filter_odd = make_filter(is_odd)"
   ]
  },
  {
   "cell_type": "code",
   "execution_count": 50,
   "id": "77f3ea29",
   "metadata": {},
   "outputs": [
    {
     "data": {
      "text/plain": [
       "<map at 0x7fe9dc050160>"
      ]
     },
     "execution_count": 50,
     "metadata": {},
     "output_type": "execute_result"
    }
   ],
   "source": [
    "map(str,range(1,5))"
   ]
  },
  {
   "cell_type": "code",
   "execution_count": 51,
   "id": "169f8d7b",
   "metadata": {},
   "outputs": [
    {
     "data": {
      "text/plain": [
       "['1', '2', '3', '4']"
      ]
     },
     "execution_count": 51,
     "metadata": {},
     "output_type": "execute_result"
    }
   ],
   "source": [
    "list(map(str,range(1,5)))"
   ]
  },
  {
   "cell_type": "code",
   "execution_count": 52,
   "id": "77ae03ce",
   "metadata": {},
   "outputs": [],
   "source": [
    "def my_map(function,lst):\n",
    "    out = []\n",
    "    for item in lst:\n",
    "        out.append(function(item))\n",
    "    return out"
   ]
  },
  {
   "cell_type": "code",
   "execution_count": 54,
   "id": "18099cc9",
   "metadata": {},
   "outputs": [
    {
     "name": "stdout",
     "output_type": "stream",
     "text": [
      "[1, 4, 9]\n",
      "[1, 8, 27]\n"
     ]
    }
   ],
   "source": [
    "def square(x):\n",
    "    return x*x\n",
    "def cube(x):\n",
    "    return x*x*x\n",
    "\n",
    "print(my_map(square,[1,2,3]))\n",
    "print(my_map(cube,[1,2,3]))"
   ]
  },
  {
   "cell_type": "code",
   "execution_count": 55,
   "id": "0fb77238",
   "metadata": {},
   "outputs": [],
   "source": [
    "def operator(function):\n",
    "    def my_map2(lst):\n",
    "        out = []\n",
    "        for item in lst:\n",
    "            out.append(function(item))\n",
    "        return out\n",
    "    return my_map2\n"
   ]
  },
  {
   "cell_type": "code",
   "execution_count": 56,
   "id": "8eddd4e9",
   "metadata": {},
   "outputs": [
    {
     "name": "stdout",
     "output_type": "stream",
     "text": [
      "[4, 16, 36]\n",
      "[8, 64, 216]\n"
     ]
    }
   ],
   "source": [
    "square_operator = operator(square)\n",
    "cube_operator = operator(cube)\n",
    "print(square_operator([2,4,6]))\n",
    "print(cube_operator([2,4,6]))\n"
   ]
  },
  {
   "cell_type": "code",
   "execution_count": 67,
   "id": "981c6ba8",
   "metadata": {},
   "outputs": [],
   "source": [
    "def minimum(lst):\n",
    "    a_min = lst[0]\n",
    "    counter = 0\n",
    "    index = 0\n",
    "    for ele in lst:\n",
    "        \n",
    "        if ele<a_min:\n",
    "            a_min = ele\n",
    "            index = counter\n",
    "            print(index)\n",
    "        counter += 1\n",
    "            \n",
    "        \n",
    "            \n",
    "    return a_min,index"
   ]
  },
  {
   "cell_type": "code",
   "execution_count": 68,
   "id": "49e308d7",
   "metadata": {},
   "outputs": [],
   "source": [
    "lst1 = [-2,1,-6,-7,8]"
   ]
  },
  {
   "cell_type": "code",
   "execution_count": 69,
   "id": "4bb314af",
   "metadata": {},
   "outputs": [
    {
     "name": "stdout",
     "output_type": "stream",
     "text": [
      "2\n",
      "3\n"
     ]
    },
    {
     "data": {
      "text/plain": [
       "(-7, 3)"
      ]
     },
     "execution_count": 69,
     "metadata": {},
     "output_type": "execute_result"
    }
   ],
   "source": [
    "minimum(lst1)"
   ]
  },
  {
   "cell_type": "code",
   "execution_count": null,
   "id": "bc5dd555",
   "metadata": {},
   "outputs": [],
   "source": []
  },
  {
   "cell_type": "code",
   "execution_count": null,
   "id": "dc85ddc9",
   "metadata": {},
   "outputs": [],
   "source": []
  }
 ],
 "metadata": {
  "kernelspec": {
   "display_name": "Python 3 (ipykernel)",
   "language": "python",
   "name": "python3"
  },
  "language_info": {
   "codemirror_mode": {
    "name": "ipython",
    "version": 3
   },
   "file_extension": ".py",
   "mimetype": "text/x-python",
   "name": "python",
   "nbconvert_exporter": "python",
   "pygments_lexer": "ipython3",
   "version": "3.8.10"
  }
 },
 "nbformat": 4,
 "nbformat_minor": 5
}
