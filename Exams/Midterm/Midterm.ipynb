{
 "cells": [
  {
   "cell_type": "markdown",
   "id": "c96d9e92",
   "metadata": {},
   "source": [
    " # <center>Midterm Exam &ndash; DATA 3401 (Fall 2021)</center>\n",
    "\n",
    "## Start Date: 10/22\n",
    "## Due Date: 10/24 (at the **end** of the lab period (5:00pm))\n",
    "There will be **no Lab on Friday 10/24**\n",
    "\n",
    "## Midterm Rules\n",
    "This midterm exam is essentially like a short-term lab. Please work the exercises below **on your own**.  When you have completed the exam, you should push your completed jupyter notebook to your GitHub repo for this class in the **Exams->Midterm** folder.\n",
    "\n",
    "You may not discuss the problems with **anyone else**, including persons on an online internet forum. Consulting an outside source like this will be considered an academic integrity violation.\n",
    "\n",
    "You may use all class resources including previous labs and lectures, and anything posted on the course GitHub repo. \n",
    "\n",
    "You may not use any function that trivializes a problem. For example, if I ask you to write a `max` function that computes the maximum entry in a list, you are not allowed to use the pre-defined Python function `max`; you must write your own."
   ]
  },
  {
   "cell_type": "markdown",
   "id": "b248e94f",
   "metadata": {},
   "source": [
    "## Exercise 1\n",
    "1. Write a script or function that asks the user to input 3 numbers, and output the product of the 3 numbers.\n",
    "1. Your code should display an error message if one of the inputs is not a number.\n",
    "1. Test your code on the following inputs:  \n",
    "    1. (5, -10, 20.0)\n",
    "    1. (1, \"blah\", 5)"
   ]
  },
  {
   "cell_type": "code",
   "execution_count": 47,
   "id": "91a379dc",
   "metadata": {},
   "outputs": [],
   "source": [
    "def product(num1,num2,num3):\n",
    "    if type(num1) != int and type(num1) != float:\n",
    "        print('Error: 1st input is not a number!')\n",
    "    elif type(num2) != int and type(num2) != float:\n",
    "        print('Error: 2nd input is not a number!')\n",
    "    elif type(num3) != int and type(num3) != float:\n",
    "        print('Error: 3rd input is not a number!')\n",
    "    else: return num1*num2*num3\n",
    "    \n",
    "        \n",
    "\n",
    "       "
   ]
  },
  {
   "cell_type": "code",
   "execution_count": 51,
   "id": "59192869",
   "metadata": {},
   "outputs": [
    {
     "data": {
      "text/plain": [
       "-1000.0"
      ]
     },
     "execution_count": 51,
     "metadata": {},
     "output_type": "execute_result"
    }
   ],
   "source": [
    "product(5,-10,20.0)"
   ]
  },
  {
   "cell_type": "code",
   "execution_count": 52,
   "id": "2ff791a7",
   "metadata": {},
   "outputs": [
    {
     "name": "stdout",
     "output_type": "stream",
     "text": [
      "Error: 2nd input is not a number!\n"
     ]
    }
   ],
   "source": [
    "product(1,\"blah\",5)"
   ]
  },
  {
   "cell_type": "markdown",
   "id": "de820e1a",
   "metadata": {},
   "source": [
    "## Exercise 2\n",
    "Suppose the first element of a sequence is $a_0 = 1$, the second element is $a_1 = 3$, and for every $i>1$, the $i$--th element of the sequence is defined by the recursive relation $a_i = \\frac{(a_{i-1}-a_{i-2})^2}{3}$. (So $a_2 = 4/3$)\n",
    "1. Write a function which outputs the $n$--th element of this sequence for a given integer $n$\n",
    "2. Test your function for $n = 1, 5, 10, 15,$ and $20$"
   ]
  },
  {
   "cell_type": "code",
   "execution_count": 282,
   "id": "7f177d85",
   "metadata": {},
   "outputs": [],
   "source": [
    "def fib_weird(f):\n",
    "    a_0 = 1\n",
    "    a_1 = 3\n",
    "    a_new = 4/3\n",
    "    counter = 2\n",
    "    if f == 0:\n",
    "        return 1\n",
    "    while counter <= f:\n",
    "        a_0 = a_1\n",
    "        a_1 = a_new\n",
    "        a_new = ((a_0-a_1)**2)/3\n",
    "        counter +=1\n",
    "    return a_1\n",
    "    "
   ]
  },
  {
   "cell_type": "code",
   "execution_count": 283,
   "id": "3341b1f8",
   "metadata": {},
   "outputs": [
    {
     "data": {
      "text/plain": [
       "3"
      ]
     },
     "execution_count": 283,
     "metadata": {},
     "output_type": "execute_result"
    }
   ],
   "source": [
    "fib_weird(1)"
   ]
  },
  {
   "cell_type": "code",
   "execution_count": 284,
   "id": "c038a950",
   "metadata": {},
   "outputs": [
    {
     "data": {
      "text/plain": [
       "0.25264753615031454"
      ]
     },
     "execution_count": 284,
     "metadata": {},
     "output_type": "execute_result"
    }
   ],
   "source": [
    "fib_weird(5)"
   ]
  },
  {
   "cell_type": "code",
   "execution_count": 285,
   "id": "68d79371",
   "metadata": {},
   "outputs": [
    {
     "data": {
      "text/plain": [
       "3.986380447622439e-09"
      ]
     },
     "execution_count": 285,
     "metadata": {},
     "output_type": "execute_result"
    }
   ],
   "source": [
    "fib_weird(10)"
   ]
  },
  {
   "cell_type": "code",
   "execution_count": 286,
   "id": "211214a9",
   "metadata": {},
   "outputs": [
    {
     "data": {
      "text/plain": [
       "2.2496046712168145e-35"
      ]
     },
     "execution_count": 286,
     "metadata": {},
     "output_type": "execute_result"
    }
   ],
   "source": [
    "fib_weird(15)"
   ]
  },
  {
   "cell_type": "code",
   "execution_count": 287,
   "id": "7622e3e0",
   "metadata": {},
   "outputs": [
    {
     "data": {
      "text/plain": [
       "4.003939782244758e-285"
      ]
     },
     "execution_count": 287,
     "metadata": {},
     "output_type": "execute_result"
    }
   ],
   "source": [
    "fib_weird(20)"
   ]
  },
  {
   "cell_type": "markdown",
   "id": "577f0668",
   "metadata": {},
   "source": [
    "## Exercise 3\n",
    "1. Write a function which takes a list as input and outputs the largest **integer** entry. If there is none, return `None`.\n",
    "1. Test your function on the following lists\n",
    "    1. \\[ 1, 9, 10.2, 6, -2\\]\n",
    "    1. \\[1.2, 3/4, \"Hello World\"\\]"
   ]
  },
  {
   "cell_type": "code",
   "execution_count": 225,
   "id": "2de1e731",
   "metadata": {},
   "outputs": [],
   "source": [
    "def maxint(lst):\n",
    "    if type(lst) != list:\n",
    "        print(\"Error input must be a list!\")\n",
    "    int_list = []\n",
    "    for i in lst:\n",
    "        if type(i) == int:\n",
    "            int_list.append(i)\n",
    "            \n",
    "    if len(int_list) == 0:\n",
    "        return print(None)\n",
    "    \n",
    "    int_max = int_list[0]\n",
    "    for j in int_list:\n",
    "        if j>int_max:\n",
    "            int_max = j\n",
    "    return int_max\n",
    "    "
   ]
  },
  {
   "cell_type": "code",
   "execution_count": 226,
   "id": "70303f9e",
   "metadata": {},
   "outputs": [
    {
     "data": {
      "text/plain": [
       "9"
      ]
     },
     "execution_count": 226,
     "metadata": {},
     "output_type": "execute_result"
    }
   ],
   "source": [
    "maxint([1,9,10.2,6,-2])"
   ]
  },
  {
   "cell_type": "code",
   "execution_count": 227,
   "id": "316547d8",
   "metadata": {},
   "outputs": [
    {
     "name": "stdout",
     "output_type": "stream",
     "text": [
      "None\n"
     ]
    }
   ],
   "source": [
    "maxint([1.2,3/4,\"Hello World\"])"
   ]
  },
  {
   "cell_type": "code",
   "execution_count": 121,
   "id": "d0a5f375",
   "metadata": {},
   "outputs": [],
   "source": []
  },
  {
   "cell_type": "code",
   "execution_count": 122,
   "id": "de7745c9",
   "metadata": {},
   "outputs": [],
   "source": []
  },
  {
   "cell_type": "code",
   "execution_count": 101,
   "id": "4d4815e4",
   "metadata": {},
   "outputs": [],
   "source": []
  },
  {
   "cell_type": "markdown",
   "id": "bcb4a104",
   "metadata": {},
   "source": [
    "## Exercise 4\n",
    "1. Create a program that will make a deck of cards. Each card should be represented as a tuple of the form `(value, suit)`, where `value` is a number between 2 and 10, Jack, Queen, King, or Ace, and `suit` is one of Spades, Clubs, Diamonds, or Hearts.\n",
    "1. Create a function that takes in a hand (list) of 5 cards, and determines whether or not the hand is a \"flush\", meaning that all 5 cards are of the same suit.\n",
    "1. Test your function by inputting the following hands:\n",
    "    1. Ace of Hearts, King of Hearts, Queen of Hearts, Jack of Hearts, 2 of Hearts\n",
    "    1. 2 of Clubs, 3 of Spades, 4 of Clubs, 10 of Diamonds, Jack of Spades"
   ]
  },
  {
   "cell_type": "code",
   "execution_count": 353,
   "id": "c440fdba",
   "metadata": {},
   "outputs": [],
   "source": [
    "def create_deck():\n",
    "    cards = ['Ace',2,3,4,5,6,7,8,9,10,'Jack','Queen','King']\n",
    "    deck = []\n",
    "    for i in range(13):\n",
    "        deck.append((test_cards[i],'Hearts'))\n",
    "    for i in range(13):\n",
    "        deck.append((test_cards[i],'Clubs'))\n",
    "    for i in range(13):\n",
    "        deck.append((test_cards[i],'Spades'))\n",
    "    for i in range(13):\n",
    "        deck.append((test_cards[i],'Diamonds'))\n",
    "    return deck\n",
    "def flush(hand):\n",
    "    suit = []\n",
    "    for i in range(len(hand)):\n",
    "        suit.append(hand[i][1])\n",
    "    check_hearts = suit.count('Hearts')\n",
    "    check_clubs = suit.count('Clubs')\n",
    "    check_diamonds = suit.count('Diamonds')\n",
    "    check_spades = suit.count('Spades')\n",
    "    if check_hearts == 5:\n",
    "        return True\n",
    "    elif check_clubs == 5:\n",
    "        return True\n",
    "    elif check_spades == 5:\n",
    "        return True\n",
    "    elif check_diamonds == 5:\n",
    "        return True\n",
    "    else:\n",
    "        return False"
   ]
  },
  {
   "cell_type": "code",
   "execution_count": 354,
   "id": "18007d65",
   "metadata": {},
   "outputs": [
    {
     "data": {
      "text/plain": [
       "[('Ace', 'Hearts'),\n",
       " (2, 'Hearts'),\n",
       " (3, 'Hearts'),\n",
       " (4, 'Hearts'),\n",
       " (5, 'Hearts'),\n",
       " (6, 'Hearts'),\n",
       " (7, 'Hearts'),\n",
       " (8, 'Hearts'),\n",
       " (9, 'Hearts'),\n",
       " (10, 'Hearts'),\n",
       " ('Jack', 'Hearts'),\n",
       " ('Queen', 'Hearts'),\n",
       " ('King', 'Hearts'),\n",
       " ('Ace', 'Clubs'),\n",
       " (2, 'Clubs'),\n",
       " (3, 'Clubs'),\n",
       " (4, 'Clubs'),\n",
       " (5, 'Clubs'),\n",
       " (6, 'Clubs'),\n",
       " (7, 'Clubs'),\n",
       " (8, 'Clubs'),\n",
       " (9, 'Clubs'),\n",
       " (10, 'Clubs'),\n",
       " ('Jack', 'Clubs'),\n",
       " ('Queen', 'Clubs'),\n",
       " ('King', 'Clubs'),\n",
       " ('Ace', 'Spades'),\n",
       " (2, 'Spades'),\n",
       " (3, 'Spades'),\n",
       " (4, 'Spades'),\n",
       " (5, 'Spades'),\n",
       " (6, 'Spades'),\n",
       " (7, 'Spades'),\n",
       " (8, 'Spades'),\n",
       " (9, 'Spades'),\n",
       " (10, 'Spades'),\n",
       " ('Jack', 'Spades'),\n",
       " ('Queen', 'Spades'),\n",
       " ('King', 'Spades'),\n",
       " ('Ace', 'Diamonds'),\n",
       " (2, 'Diamonds'),\n",
       " (3, 'Diamonds'),\n",
       " (4, 'Diamonds'),\n",
       " (5, 'Diamonds'),\n",
       " (6, 'Diamonds'),\n",
       " (7, 'Diamonds'),\n",
       " (8, 'Diamonds'),\n",
       " (9, 'Diamonds'),\n",
       " (10, 'Diamonds'),\n",
       " ('Jack', 'Diamonds'),\n",
       " ('Queen', 'Diamonds'),\n",
       " ('King', 'Diamonds')]"
      ]
     },
     "execution_count": 354,
     "metadata": {},
     "output_type": "execute_result"
    }
   ],
   "source": [
    "create_deck()\n",
    "        "
   ]
  },
  {
   "cell_type": "code",
   "execution_count": 355,
   "id": "660274f3",
   "metadata": {},
   "outputs": [
    {
     "data": {
      "text/plain": [
       "True"
      ]
     },
     "execution_count": 355,
     "metadata": {},
     "output_type": "execute_result"
    }
   ],
   "source": [
    "flush([('Ace','Hearts'),('King','Hearts'),('Queen','Hearts'),('Jack','Hearts'),('Two','Hearts')])\n"
   ]
  },
  {
   "cell_type": "code",
   "execution_count": 356,
   "id": "f7ac0c6a",
   "metadata": {},
   "outputs": [
    {
     "data": {
      "text/plain": [
       "False"
      ]
     },
     "execution_count": 356,
     "metadata": {},
     "output_type": "execute_result"
    }
   ],
   "source": [
    "flush([(2,'Clubs'),(3,'Spades '),(4,'Clubs'),(10,'Diamonds'),('Jack','Spades')])"
   ]
  },
  {
   "cell_type": "code",
   "execution_count": 357,
   "id": "4a01a31e",
   "metadata": {},
   "outputs": [
    {
     "data": {
      "text/plain": [
       "True"
      ]
     },
     "execution_count": 357,
     "metadata": {},
     "output_type": "execute_result"
    }
   ],
   "source": [
    "flush([('Ace','Spades'),('King','Spades'),('Queen','Spades'),('Jack','Spades'),('Two','Spades')])\n"
   ]
  },
  {
   "cell_type": "markdown",
   "id": "43e0dc08",
   "metadata": {},
   "source": [
    "## Exercise 5\n",
    "1. Write a function or script that takes in a string and whose output is the input string minus all of a specified character.  For example, an input of \"Hello World\" where \"l\" is removed should result in \"Heo Word\"\n",
    "1. Test your function by specifying \"i\" to be removed from \"Supercalifragilisticexpialidocious\"\n",
    "1. Test your function by specifying \"data\" to be removed from \"data 3401 introduction to python for data science\""
   ]
  },
  {
   "cell_type": "code",
   "execution_count": 216,
   "id": "81e1266e",
   "metadata": {},
   "outputs": [],
   "source": [
    "def remove_character():\n",
    "    string = input('Put Phrase Here:  ')\n",
    "    character = input('What would you like to remove?  ')\n",
    "    temp = character\n",
    "    for character in string:\n",
    "        if character in string:\n",
    "            new_string = string.replace(temp,\"\")\n",
    "    return new_string"
   ]
  },
  {
   "cell_type": "code",
   "execution_count": 214,
   "id": "5d460863",
   "metadata": {},
   "outputs": [
    {
     "name": "stdout",
     "output_type": "stream",
     "text": [
      "Put Phrase Here:  Hello World\n",
      "Which Letter would you like to remove?  l\n"
     ]
    },
    {
     "data": {
      "text/plain": [
       "'Heo Word'"
      ]
     },
     "execution_count": 214,
     "metadata": {},
     "output_type": "execute_result"
    }
   ],
   "source": [
    "remove_character()"
   ]
  },
  {
   "cell_type": "code",
   "execution_count": 215,
   "id": "7a7cb8a3",
   "metadata": {},
   "outputs": [
    {
     "name": "stdout",
     "output_type": "stream",
     "text": [
      "Put Phrase Here:  Supercalifragilisticexpialidocious\n",
      "Which Letter would you like to remove?  i\n"
     ]
    },
    {
     "data": {
      "text/plain": [
       "'Supercalfraglstcexpaldocous'"
      ]
     },
     "execution_count": 215,
     "metadata": {},
     "output_type": "execute_result"
    }
   ],
   "source": [
    "remove_character()"
   ]
  },
  {
   "cell_type": "code",
   "execution_count": 217,
   "id": "48a0cbf0",
   "metadata": {},
   "outputs": [
    {
     "name": "stdout",
     "output_type": "stream",
     "text": [
      "Put Phrase Here:  data 3401 introduction to python for data science\n",
      "What would you like to remove?  data\n"
     ]
    },
    {
     "data": {
      "text/plain": [
       "' 3401 introduction to python for  science'"
      ]
     },
     "execution_count": 217,
     "metadata": {},
     "output_type": "execute_result"
    }
   ],
   "source": [
    "remove_character()"
   ]
  },
  {
   "cell_type": "code",
   "execution_count": null,
   "id": "4233bdd1",
   "metadata": {},
   "outputs": [],
   "source": []
  },
  {
   "cell_type": "code",
   "execution_count": null,
   "id": "931a8fab",
   "metadata": {},
   "outputs": [],
   "source": []
  },
  {
   "cell_type": "code",
   "execution_count": null,
   "id": "113e50df",
   "metadata": {},
   "outputs": [],
   "source": []
  },
  {
   "cell_type": "code",
   "execution_count": null,
   "id": "bc1c3dc5",
   "metadata": {},
   "outputs": [],
   "source": []
  },
  {
   "cell_type": "code",
   "execution_count": null,
   "id": "e8cd1e2c",
   "metadata": {},
   "outputs": [],
   "source": []
  },
  {
   "cell_type": "code",
   "execution_count": null,
   "id": "23d59120",
   "metadata": {},
   "outputs": [],
   "source": []
  },
  {
   "cell_type": "code",
   "execution_count": null,
   "id": "3e466d61",
   "metadata": {},
   "outputs": [],
   "source": []
  },
  {
   "cell_type": "code",
   "execution_count": null,
   "id": "fe086818",
   "metadata": {},
   "outputs": [],
   "source": []
  },
  {
   "cell_type": "code",
   "execution_count": null,
   "id": "b4712ad9",
   "metadata": {},
   "outputs": [],
   "source": []
  },
  {
   "cell_type": "code",
   "execution_count": null,
   "id": "c2ea8326",
   "metadata": {},
   "outputs": [],
   "source": []
  }
 ],
 "metadata": {
  "kernelspec": {
   "display_name": "Python 3 (ipykernel)",
   "language": "python",
   "name": "python3"
  },
  "language_info": {
   "codemirror_mode": {
    "name": "ipython",
    "version": 3
   },
   "file_extension": ".py",
   "mimetype": "text/x-python",
   "name": "python",
   "nbconvert_exporter": "python",
   "pygments_lexer": "ipython3",
   "version": "3.8.10"
  }
 },
 "nbformat": 4,
 "nbformat_minor": 5
}
