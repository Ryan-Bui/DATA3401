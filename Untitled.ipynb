{
 "cells": [
  {
   "cell_type": "markdown",
   "id": "3f8a70af",
   "metadata": {},
   "source": [
    "# File IO (Input/Output)\n",
    "Python makes it easy to read/write files. There are two types of files we will need to be aware of:\n",
    "\n",
    "\n"
   ]
  },
  {
   "cell_type": "code",
   "execution_count": 1,
   "id": "bbd6d946",
   "metadata": {},
   "outputs": [
    {
     "name": "stdout",
     "output_type": "stream",
     "text": [
      "<_io.TextIOWrapper name='a_file.txt' mode='w' encoding='UTF-8'>\n"
     ]
    }
   ],
   "source": [
    "file_obj = open('a_file.txt','w')\n",
    "print(file_obj)\n",
    "file_obj.close()"
   ]
  },
  {
   "cell_type": "code",
   "execution_count": 9,
   "id": "e7c3f378",
   "metadata": {},
   "outputs": [],
   "source": [
    "file_obj = open('a_file.txt', 'w')\n",
    "file_obj.write('This is our first \\n')\n",
    "file_obj.write('This is our second line \\n')\n",
    "file_obj.write('This is our third line \\n')\n",
    "file_obj.write('This is our fourth line')\n",
    "file_obj.write('Same line')\n",
    "\n",
    "\n",
    "\n",
    "\n",
    "file_obj.close()"
   ]
  },
  {
   "cell_type": "code",
   "execution_count": 10,
   "id": "a1e0f33d",
   "metadata": {},
   "outputs": [
    {
     "name": "stdout",
     "output_type": "stream",
     "text": [
      "This is our first \r\n",
      "This is our second line \r\n",
      "This is our third line \r\n",
      "This is our fourth lineSame line"
     ]
    }
   ],
   "source": [
    "!cat a_file.txt"
   ]
  },
  {
   "cell_type": "code",
   "execution_count": 12,
   "id": "73e6b3fc",
   "metadata": {},
   "outputs": [
    {
     "name": "stdout",
     "output_type": "stream",
     "text": [
      "<class 'str'>\n",
      "This is our first \n",
      "This is our second line \n",
      "This is our third line \n",
      "This is our fourth lineSame line\n"
     ]
    }
   ],
   "source": [
    "file_obj = open('a_file.txt', 'r')\n",
    "contents = file_obj.read()\n",
    "print(type(contents))\n",
    "print(contents)\n",
    "file_obj.close()"
   ]
  },
  {
   "cell_type": "code",
   "execution_count": 14,
   "id": "257902f5",
   "metadata": {},
   "outputs": [
    {
     "name": "stdout",
     "output_type": "stream",
     "text": [
      "12345"
     ]
    }
   ],
   "source": [
    "# Storing numerical data\n",
    "numbers = [1,2,3,4,5]\n",
    "\n",
    "file_obj = open('a_file_with_numbers.txt', 'w')\n",
    "for number in numbers:\n",
    "    file_obj.write(str(number))\n",
    "file_obj.close()\n",
    "!cat a_file_with_numbers.txt"
   ]
  },
  {
   "cell_type": "markdown",
   "id": "00a5762e",
   "metadata": {},
   "source": [
    "This could be bad dont know the differnce between each element.\n"
   ]
  },
  {
   "cell_type": "code",
   "execution_count": 17,
   "id": "e2f71238",
   "metadata": {},
   "outputs": [
    {
     "name": "stdout",
     "output_type": "stream",
     "text": [
      "1,2,3,4,5"
     ]
    }
   ],
   "source": [
    "numbers = [1,2,3,4,5]\n",
    "\n",
    "file_obj = open('a_file_with_numbers.txt', 'w')\n",
    "first = True\n",
    "for number in numbers:\n",
    "    if not first:\n",
    "        file_obj.write(',')\n",
    "    first = False\n",
    "    file_obj.write(str(number))\n",
    "file_obj.close()\n",
    "!cat a_file_with_numbers.txt"
   ]
  },
  {
   "cell_type": "code",
   "execution_count": null,
   "id": "35f4fef9",
   "metadata": {},
   "outputs": [],
   "source": []
  }
 ],
 "metadata": {
  "kernelspec": {
   "display_name": "Python 3 (ipykernel)",
   "language": "python",
   "name": "python3"
  },
  "language_info": {
   "codemirror_mode": {
    "name": "ipython",
    "version": 3
   },
   "file_extension": ".py",
   "mimetype": "text/x-python",
   "name": "python",
   "nbconvert_exporter": "python",
   "pygments_lexer": "ipython3",
   "version": "3.8.10"
  }
 },
 "nbformat": 4,
 "nbformat_minor": 5
}
