{
 "cells": [
  {
   "cell_type": "markdown",
   "id": "6b301e46",
   "metadata": {},
   "source": [
    "# Checkers\n",
    "1. A way to allow 2 users to input moves.\n",
    "2. Generate an nxn board and display for the players\n",
    "3. Labels for each player's pieces\n",
    "4. Store the board \"state\" at any given time (what is in each cell?)\n",
    "5. Check that a player's input move is valid."
   ]
  },
  {
   "cell_type": "code",
   "execution_count": 3,
   "id": "3e6e0417",
   "metadata": {},
   "outputs": [],
   "source": [
    "# Assignment calues for the board representation\n",
    "player_1 = 1\n",
    "player_2 = 2\n",
    "empty = 0\n",
    "#Specify game board size\n",
    "size = 8"
   ]
  },
  {
   "cell_type": "code",
   "execution_count": 8,
   "id": "0d00d828",
   "metadata": {},
   "outputs": [
    {
     "data": {
      "text/plain": [
       "[[0, 0, 0, 0, 0, 0, 0, 0],\n",
       " [0, 0, 0, 0, 0, 0, 0, 0],\n",
       " [0, 0, 0, 0, 0, 0, 0, 0],\n",
       " [0, 0, 0, 0, 0, 0, 0, 0],\n",
       " [0, 0, 0, 0, 0, 0, 0, 0],\n",
       " [0, 0, 0, 0, 0, 0, 0, 0],\n",
       " [0, 0, 0, 0, 0, 0, 0, 0],\n",
       " [0, 0, 0, 0, 0, 0, 0, 0]]"
      ]
     },
     "execution_count": 8,
     "metadata": {},
     "output_type": "execute_result"
    }
   ],
   "source": [
    "# Represent our board as a size x size \"matrix (lists of lists)\"\n",
    "# Simplest way without using \"list comprehensions\"\n",
    "\n",
    "board = list()\n",
    "for i in range(size):\n",
    "    row = list()\n",
    "    for j in range(size):\n",
    "        row.append(empty)\n",
    "    board.append(row)\n",
    "board"
   ]
  },
  {
   "cell_type": "code",
   "execution_count": 10,
   "id": "20079fe1",
   "metadata": {},
   "outputs": [
    {
     "data": {
      "text/plain": [
       "[1, 1, 1, 1, 1, 1, 1, 1]"
      ]
     },
     "execution_count": 10,
     "metadata": {},
     "output_type": "execute_result"
    }
   ],
   "source": [
    "[1]*size"
   ]
  },
  {
   "cell_type": "code",
   "execution_count": 12,
   "id": "d3df6ee4",
   "metadata": {},
   "outputs": [
    {
     "data": {
      "text/plain": [
       "[[0, 0, 0, 0, 0, 0, 0, 0],\n",
       " [0, 0, 0, 0, 0, 0, 0, 0],\n",
       " [0, 0, 0, 0, 0, 0, 0, 0],\n",
       " [0, 0, 0, 0, 0, 0, 0, 0],\n",
       " [0, 0, 0, 0, 0, 0, 0, 0],\n",
       " [0, 0, 0, 0, 0, 0, 0, 0],\n",
       " [0, 0, 0, 0, 0, 0, 0, 0],\n",
       " [0, 0, 0, 0, 0, 0, 0, 0]]"
      ]
     },
     "execution_count": 12,
     "metadata": {},
     "output_type": "execute_result"
    }
   ],
   "source": [
    "board2 = [[empty]*size]*size\n",
    "board2"
   ]
  },
  {
   "cell_type": "code",
   "execution_count": 15,
   "id": "6d468f59",
   "metadata": {},
   "outputs": [
    {
     "data": {
      "text/plain": [
       "[[0, 1, 0, 0, 0, 0, 0, 0],\n",
       " [0, 1, 0, 0, 0, 0, 0, 0],\n",
       " [0, 1, 0, 0, 0, 0, 0, 0],\n",
       " [0, 1, 0, 0, 0, 0, 0, 0],\n",
       " [0, 1, 0, 0, 0, 0, 0, 0],\n",
       " [0, 1, 0, 0, 0, 0, 0, 0],\n",
       " [0, 1, 0, 0, 0, 0, 0, 0],\n",
       " [0, 1, 0, 0, 0, 0, 0, 0]]"
      ]
     },
     "execution_count": 15,
     "metadata": {},
     "output_type": "execute_result"
    }
   ],
   "source": [
    "## Hold on!\n",
    "board2[1][1] = 1\n",
    "board2\n",
    "## OOPS!"
   ]
  },
  {
   "cell_type": "code",
   "execution_count": 17,
   "id": "9776a934",
   "metadata": {},
   "outputs": [
    {
     "data": {
      "text/plain": [
       "[[0, 0, 0, 0, 0, 0, 0, 0],\n",
       " [0, 0, 0, 0, 0, 0, 0, 0],\n",
       " [0, 0, 0, 0, 0, 0, 0, 0],\n",
       " [0, 0, 0, 0, 0, 0, 0, 0],\n",
       " [0, 0, 0, 0, 0, 0, 0, 0],\n",
       " [0, 0, 0, 0, 0, 0, 0, 0],\n",
       " [0, 0, 0, 0, 0, 0, 0, 0],\n",
       " [0, 0, 0, 0, 0, 0, 0, 0]]"
      ]
     },
     "execution_count": 17,
     "metadata": {},
     "output_type": "execute_result"
    }
   ],
   "source": [
    "board3 = [[empty]*size for i in range(size)]\n",
    "board3"
   ]
  },
  {
   "cell_type": "code",
   "execution_count": 21,
   "id": "61bbe3a9",
   "metadata": {},
   "outputs": [
    {
     "data": {
      "text/plain": [
       "[[0, 0, 0, 0, 0, 0, 0, 0],\n",
       " [0, 1, 0, 0, 0, 0, 0, 0],\n",
       " [0, 0, 0, 0, 0, 0, 0, 0],\n",
       " [0, 0, 0, 0, 0, 0, 0, 0],\n",
       " [0, 0, 0, 0, 0, 0, 0, 0],\n",
       " [0, 0, 0, 0, 0, 0, 0, 0],\n",
       " [0, 0, 0, 0, 0, 0, 0, 0],\n",
       " [0, 0, 0, 0, 0, 0, 0, 0]]"
      ]
     },
     "execution_count": 21,
     "metadata": {},
     "output_type": "execute_result"
    }
   ],
   "source": [
    "board3[1][1] = 1\n",
    "board3"
   ]
  },
  {
   "cell_type": "markdown",
   "id": "538eb1e4",
   "metadata": {},
   "source": [
    "# Make a Starting Board"
   ]
  },
  {
   "cell_type": "code",
   "execution_count": 30,
   "id": "77fc2d75",
   "metadata": {},
   "outputs": [],
   "source": [
    "def make_game_board(size=8):\n",
    "    # Make an empty board\n",
    "    board = [[empty]*size for i in range(size)]\n",
    "    \n",
    "    # Add Player  Pieces\n",
    "    for i in range(0,size,2):\n",
    "        # Player 1 Pieces\n",
    "        board[-1][i] = player_1\n",
    "        board[-2][i+1] = player_1\n",
    "        board[-3][i] = player_1\n",
    "        # Player 2 Pieces\n",
    "        board[0][i+1] = player_2\n",
    "        board[1][i] = player_2\n",
    "        board[2][i+1] = player_2        \n",
    "    return board\n",
    "        \n"
   ]
  },
  {
   "cell_type": "code",
   "execution_count": 31,
   "id": "e9fddf1d",
   "metadata": {},
   "outputs": [
    {
     "data": {
      "text/plain": [
       "[[0, 2, 0, 2, 0, 2, 0, 2],\n",
       " [2, 0, 2, 0, 2, 0, 2, 0],\n",
       " [0, 2, 0, 2, 0, 2, 0, 2],\n",
       " [0, 0, 0, 0, 0, 0, 0, 0],\n",
       " [0, 0, 0, 0, 0, 0, 0, 0],\n",
       " [1, 0, 1, 0, 1, 0, 1, 0],\n",
       " [0, 1, 0, 1, 0, 1, 0, 1],\n",
       " [1, 0, 1, 0, 1, 0, 1, 0]]"
      ]
     },
     "execution_count": 31,
     "metadata": {},
     "output_type": "execute_result"
    }
   ],
   "source": [
    "board = make_game_board()\n",
    "board"
   ]
  },
  {
   "cell_type": "markdown",
   "id": "ec6a8c82",
   "metadata": {},
   "source": [
    "# Write a function to handle player moves\n",
    "Each piece can move to the left or right. A move is taking a piece at location x,y to a new location 'x + x_offset, y,y_offset'"
   ]
  },
  {
   "cell_type": "code",
   "execution_count": 36,
   "id": "cdc00ac0",
   "metadata": {},
   "outputs": [],
   "source": [
    "left_move = 0\n",
    "right_move = 1\n",
    "\n",
    "def player_moves(player, direction):\n",
    "    ## Return a tuple with (x_offset, y_offset)\n",
    "    if player == player_1:\n",
    "        if direction == left_move:\n",
    "            return (-1,-1)\n",
    "        elif direction == right_move:\n",
    "            return (1,-1)\n",
    "    if player == player_2:\n",
    "        if direction == left_move:\n",
    "            return (1,1)\n",
    "        elif direction == right_move:\n",
    "            return (-1,1)\n",
    "    \n",
    "    \n",
    "    \n",
    " "
   ]
  },
  {
   "cell_type": "code",
   "execution_count": 38,
   "id": "a95d95b0",
   "metadata": {},
   "outputs": [],
   "source": [
    "## OR\n",
    "player_1_left_move = (-1,-1)\n",
    "player_1_right_move = (1,-1)\n",
    "player_2_left_move = (1,1)\n",
    "player_2_right_move = (-1,1)\n",
    "\n",
    "moves = [[player_1_left_move, player_1_right_move], [player_2_left_move,player_2_right_move]]"
   ]
  },
  {
   "cell_type": "code",
   "execution_count": 39,
   "id": "3f7f7235",
   "metadata": {},
   "outputs": [
    {
     "data": {
      "text/plain": [
       "(1, -1)"
      ]
     },
     "execution_count": 39,
     "metadata": {},
     "output_type": "execute_result"
    }
   ],
   "source": [
    "moves[player_1-1][right_move]"
   ]
  },
  {
   "cell_type": "code",
   "execution_count": 40,
   "id": "c42cc86b",
   "metadata": {},
   "outputs": [
    {
     "data": {
      "text/plain": [
       "(-1, -1)"
      ]
     },
     "execution_count": 40,
     "metadata": {},
     "output_type": "execute_result"
    }
   ],
   "source": [
    "## A more elgant solution using dictionaries\n",
    "## What is a dictionary?\n",
    "\n",
    "temp_dictionary = {left_move: player_1_left_move,\n",
    "                  right_move: player_1_right_move}\n",
    "temp_dictionary[left_move]"
   ]
  },
  {
   "cell_type": "code",
   "execution_count": 45,
   "id": "bf8434cc",
   "metadata": {},
   "outputs": [],
   "source": [
    "dict2 = {'A': 21,\n",
    "        'B': 42,\n",
    "        4: 'Hello World'}\n",
    "    "
   ]
  },
  {
   "cell_type": "code",
   "execution_count": 46,
   "id": "b4d36171",
   "metadata": {},
   "outputs": [
    {
     "ename": "TypeError",
     "evalue": "list indices must be integers or slices, not str",
     "output_type": "error",
     "traceback": [
      "\u001b[0;31m---------------------------------------------------------------------------\u001b[0m",
      "\u001b[0;31mTypeError\u001b[0m                                 Traceback (most recent call last)",
      "\u001b[0;32m/tmp/ipykernel_103/2198058611.py\u001b[0m in \u001b[0;36m<module>\u001b[0;34m\u001b[0m\n\u001b[0;32m----> 1\u001b[0;31m \u001b[0mdict2\u001b[0m\u001b[0;34m[\u001b[0m\u001b[0;34m'A'\u001b[0m\u001b[0;34m]\u001b[0m\u001b[0;34m\u001b[0m\u001b[0;34m\u001b[0m\u001b[0m\n\u001b[0m",
      "\u001b[0;31mTypeError\u001b[0m: list indices must be integers or slices, not str"
     ]
    }
   ],
   "source": [
    "dict2['A']"
   ]
  },
  {
   "cell_type": "code",
   "execution_count": 1,
   "id": "e9ddf858",
   "metadata": {},
   "outputs": [
    {
     "ename": "NameError",
     "evalue": "name 'left_move' is not defined",
     "output_type": "error",
     "traceback": [
      "\u001b[0;31m---------------------------------------------------------------------------\u001b[0m",
      "\u001b[0;31mNameError\u001b[0m                                 Traceback (most recent call last)",
      "\u001b[0;32m/tmp/ipykernel_133/3400190216.py\u001b[0m in \u001b[0;36m<module>\u001b[0;34m\u001b[0m\n\u001b[1;32m      1\u001b[0m \u001b[0;31m## Create a dictionary of dictionaries\u001b[0m\u001b[0;34m\u001b[0m\u001b[0;34m\u001b[0m\u001b[0;34m\u001b[0m\u001b[0m\n\u001b[0;32m----> 2\u001b[0;31m moves = {left_move: player_1_left_move,\n\u001b[0m\u001b[1;32m      3\u001b[0m                   right_move: player_1_right_move}\n",
      "\u001b[0;31mNameError\u001b[0m: name 'left_move' is not defined"
     ]
    }
   ],
   "source": [
    "## Create a dictionary of dictionaries\n",
    "moves = {left_move: player_1_left_move,\n",
    "                  right_move: player_1_right_move}\n"
   ]
  },
  {
   "cell_type": "code",
   "execution_count": 4,
   "id": "695dbbd8",
   "metadata": {},
   "outputs": [],
   "source": [
    "## Checking for Winners in Tic Tac To\n",
    "## def is_col_winner():\n",
    "##    for i in range(size):\n",
    "##        col = []\n",
    "##        for j in range(size):\n",
    "##            col.append(board[j][i])\n",
    "##         if col ==[player_1,player_1,player_1]\n",
    "##              return (True,player_1)\n",
    "##          elif(same for player 2)\n"
   ]
  },
  {
   "cell_type": "markdown",
   "id": "f0de21a9",
   "metadata": {},
   "source": [
    "Logical progession of this function:\n",
    "1. Check if the player has a piece at the given location.\n",
    "2. Look up the offset for a valid move (from dictionary)\n",
    "3. Check if the move (and possible jump move) is on the board and valid\n",
    "4. If the target space is on the board and empty, move the player's piece by empty the starting position and placing the piece into the target space.\n",
    "5. If the target space is filled with the oppenent's piece but the next space along the diagonal is empty then empty the start space remove the target and placce the piece in the next space along the diagonal. \n",
    "We will return 'True' if the move is valid and false if the move is invalid."
   ]
  },
  {
   "cell_type": "code",
   "execution_count": 5,
   "id": "c06b0d7c",
   "metadata": {},
   "outputs": [],
   "source": [
    "def print_message(messafe, verbose=True):\n",
    "    if verbose:\n",
    "        print(message)"
   ]
  },
  {
   "cell_type": "code",
   "execution_count": 7,
   "id": "0edef2cf",
   "metadata": {},
   "outputs": [
    {
     "ename": "NameError",
     "evalue": "name 'message' is not defined",
     "output_type": "error",
     "traceback": [
      "\u001b[0;31m---------------------------------------------------------------------------\u001b[0m",
      "\u001b[0;31mNameError\u001b[0m                                 Traceback (most recent call last)",
      "\u001b[0;32m/tmp/ipykernel_133/1419845453.py\u001b[0m in \u001b[0;36m<module>\u001b[0;34m\u001b[0m\n\u001b[0;32m----> 1\u001b[0;31m \u001b[0mprint_message\u001b[0m\u001b[0;34m(\u001b[0m\u001b[0;34m'hello world'\u001b[0m\u001b[0;34m)\u001b[0m\u001b[0;34m\u001b[0m\u001b[0;34m\u001b[0m\u001b[0m\n\u001b[0m\u001b[1;32m      2\u001b[0m \u001b[0mprint_message\u001b[0m\u001b[0;34m(\u001b[0m\u001b[0;34m'hello world'\u001b[0m\u001b[0;34m,\u001b[0m\u001b[0;32mFalse\u001b[0m\u001b[0;34m)\u001b[0m\u001b[0;34m\u001b[0m\u001b[0;34m\u001b[0m\u001b[0m\n",
      "\u001b[0;32m/tmp/ipykernel_133/158923325.py\u001b[0m in \u001b[0;36mprint_message\u001b[0;34m(messafe, verbose)\u001b[0m\n\u001b[1;32m      1\u001b[0m \u001b[0;32mdef\u001b[0m \u001b[0mprint_message\u001b[0m\u001b[0;34m(\u001b[0m\u001b[0mmessafe\u001b[0m\u001b[0;34m,\u001b[0m \u001b[0mverbose\u001b[0m\u001b[0;34m=\u001b[0m\u001b[0;32mTrue\u001b[0m\u001b[0;34m)\u001b[0m\u001b[0;34m:\u001b[0m\u001b[0;34m\u001b[0m\u001b[0;34m\u001b[0m\u001b[0m\n\u001b[1;32m      2\u001b[0m     \u001b[0;32mif\u001b[0m \u001b[0mverbose\u001b[0m\u001b[0;34m:\u001b[0m\u001b[0;34m\u001b[0m\u001b[0;34m\u001b[0m\u001b[0m\n\u001b[0;32m----> 3\u001b[0;31m         \u001b[0mprint\u001b[0m\u001b[0;34m(\u001b[0m\u001b[0mmessage\u001b[0m\u001b[0;34m)\u001b[0m\u001b[0;34m\u001b[0m\u001b[0;34m\u001b[0m\u001b[0m\n\u001b[0m",
      "\u001b[0;31mNameError\u001b[0m: name 'message' is not defined"
     ]
    }
   ],
   "source": [
    "print_message('hello world')\n",
    "print_message('hello world',False)"
   ]
  },
  {
   "cell_type": "code",
   "execution_count": 1,
   "id": "76f6639b",
   "metadata": {},
   "outputs": [
    {
     "ename": "IndentationError",
     "evalue": "unexpected indent (1565284154.py, line 2)",
     "output_type": "error",
     "traceback": [
      "\u001b[0;36m  File \u001b[0;32m\"/tmp/ipykernel_151/1565284154.py\"\u001b[0;36m, line \u001b[0;32m2\u001b[0m\n\u001b[0;31m    x,y = location\u001b[0m\n\u001b[0m    ^\u001b[0m\n\u001b[0;31mIndentationError\u001b[0m\u001b[0;31m:\u001b[0m unexpected indent\n"
     ]
    }
   ],
   "source": [
    "## def move_piece(board,player,location,move,verbose=True):\n",
    "    x,y = location\n",
    "    \n",
    "    # Check if player has a piece at a location. \n",
    "    if not board[x][y] == player:\n",
    "        print_message(\"player does not have a piece at thtis\",verbose)\n",
    "        return False\n",
    "    # Look up the offset for a valid move\n",
    "    x_offset,y_offset = moves[player][move] \n",
    "    \n",
    "    # Check if the move is on the board\n",
    "    move_possible = x + 2*x_offset < size and \\\n",
    "                    x + 2*x_offset >= 0 and \\\n",
    "                    y + 2*y_offset < size and \\\n",
    "                    y + 2*y_offse >= \n",
    "    jump_possible = x + 2*x_offset < size and \\\n",
    "                    x + 2*_offset >= 0 and \\\n",
    "                    y + 2*y_offset < size and \\\n",
    "                    y + 2*y_offset >= \n",
    "    if not (move_possible or jump_possible):\n",
    "        print_message('Move is off the board',verbose)\n",
    "        return false\n",
    "    # Try to make the move\n",
    "    # Check if the target space is empty:\n",
    "    if move_possible and board[x+X_offset][y+y_offset] == empty:\n",
    "        # Make the move\n",
    "        # empty the current spot\n",
    "    board[X],[Y] = empty\n",
    "    # Add the player piece in the target space\n",
    "    board[x+x_offsety][y_offset] = player\n",
    "    print_message(\"player's piece has been moved\",verbose)\n",
    "    return True\n",
    "elif jump_possible and board[x+x_offset][y+y_offset]!=player and \n",
    "    \n",
    "    \n",
    "\n",
    "    "
   ]
  },
  {
   "cell_type": "markdown",
   "id": "a84823d7",
   "metadata": {},
   "source": [
    "## Making a prettier gameboard display"
   ]
  },
  {
   "cell_type": "code",
   "execution_count": 2,
   "id": "87696550",
   "metadata": {},
   "outputs": [],
   "source": [
    "player_1_piece = 'X'\n",
    "player_2_piece = 'O'\n"
   ]
  },
  {
   "cell_type": "code",
   "execution_count": null,
   "id": "5867ccf0",
   "metadata": {},
   "outputs": [],
   "source": [
    "def parse_location(location_string):\n",
    "    \n",
    "    \n",
    "    if len(location_string)!=2:\n",
    "        print_message(\"Invalid Input. Location must be 2 Characters\")\n",
    "        \n",
    "    \n",
    "    \n",
    "    row = location_string[0].upper()\n",
    "    col = location_string[1].upper()\n",
    "    \n",
    "    if not row in row_map:\n",
    "        print_message('Not a valid row.')\n",
    "        return False\n",
    "    if not in col in colomun_map:\n",
    "        print_message('Not in a valid column.')\n",
    "        return False\n",
    "    \n",
    "    \n",
    "    return row_map[row], column_map[col]"
   ]
  },
  {
   "cell_type": "code",
   "execution_count": 3,
   "id": "bea649d0",
   "metadata": {},
   "outputs": [
    {
     "ename": "NameError",
     "evalue": "name 'row_map' is not defined",
     "output_type": "error",
     "traceback": [
      "\u001b[0;31m---------------------------------------------------------------------------\u001b[0m",
      "\u001b[0;31mNameError\u001b[0m                                 Traceback (most recent call last)",
      "\u001b[0;32m/tmp/ipykernel_151/3140257830.py\u001b[0m in \u001b[0;36m<module>\u001b[0;34m\u001b[0m\n\u001b[0;32m----> 1\u001b[0;31m \u001b[0;34m\"A\"\u001b[0m \u001b[0;32min\u001b[0m \u001b[0mrow_map\u001b[0m\u001b[0;34m\u001b[0m\u001b[0;34m\u001b[0m\u001b[0m\n\u001b[0m",
      "\u001b[0;31mNameError\u001b[0m: name 'row_map' is not defined"
     ]
    }
   ],
   "source": [
    "def parse_move(moves_string):\n",
    "    if not isintance(location_string,str):\n",
    "        pring _messasge(\"Invalid Input. Location must be a string\")\n",
    "        return False\n",
    "    if len(location_string)!=2:\n",
    "        print_message(\"Invalid Input. Location must be 2 Characters\")"
   ]
  },
  {
   "cell_type": "code",
   "execution_count": 6,
   "id": "4f64607e",
   "metadata": {},
   "outputs": [],
   "source": [
    "def nice_move_piece(board,player,location_string,move_string):\n",
    "    location = parse_location(location_string)\n",
    "    move  = parse_move(move_string)\n",
    "    \n",
    "    if location and move:\n",
    "        return move_piece(board,player,location,move)\n",
    "    else:\n",
    "        print_message(\"invalid move.\")\n",
    "        return False\n",
    "    "
   ]
  },
  {
   "cell_type": "code",
   "execution_count": null,
   "id": "9afd0d8d",
   "metadata": {},
   "outputs": [],
   "source": []
  }
 ],
 "metadata": {
  "kernelspec": {
   "display_name": "Python 3 (ipykernel)",
   "language": "python",
   "name": "python3"
  },
  "language_info": {
   "codemirror_mode": {
    "name": "ipython",
    "version": 3
   },
   "file_extension": ".py",
   "mimetype": "text/x-python",
   "name": "python",
   "nbconvert_exporter": "python",
   "pygments_lexer": "ipython3",
   "version": "3.8.10"
  }
 },
 "nbformat": 4,
 "nbformat_minor": 5
}
