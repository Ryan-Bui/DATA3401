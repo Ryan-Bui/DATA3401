{
 "cells": [
  {
   "cell_type": "markdown",
   "id": "6b301e46",
   "metadata": {},
   "source": [
    "# Checkers\n",
    "1. A way to allow 2 users to input moves.\n",
    "2. Generate an nxn board and display for the players\n",
    "3. Labels for each player's pieces\n",
    "4. Store the board \"state\" at any given time (what is in each cell?)\n",
    "5. Check that a player's input move is valid."
   ]
  },
  {
   "cell_type": "code",
   "execution_count": 3,
   "id": "3e6e0417",
   "metadata": {},
   "outputs": [],
   "source": [
    "# Assignment calues for the board representation\n",
    "player_1 = 1\n",
    "player_2 = 2\n",
    "empty = 0\n",
    "#Specify game board size\n",
    "size = 8"
   ]
  },
  {
   "cell_type": "code",
   "execution_count": 8,
   "id": "0d00d828",
   "metadata": {},
   "outputs": [
    {
     "data": {
      "text/plain": [
       "[[0, 0, 0, 0, 0, 0, 0, 0],\n",
       " [0, 0, 0, 0, 0, 0, 0, 0],\n",
       " [0, 0, 0, 0, 0, 0, 0, 0],\n",
       " [0, 0, 0, 0, 0, 0, 0, 0],\n",
       " [0, 0, 0, 0, 0, 0, 0, 0],\n",
       " [0, 0, 0, 0, 0, 0, 0, 0],\n",
       " [0, 0, 0, 0, 0, 0, 0, 0],\n",
       " [0, 0, 0, 0, 0, 0, 0, 0]]"
      ]
     },
     "execution_count": 8,
     "metadata": {},
     "output_type": "execute_result"
    }
   ],
   "source": [
    "# Represent our board as a size x size \"matrix (lists of lists)\"\n",
    "# Simplest way without using \"list comprehensions\"\n",
    "\n",
    "board = list()\n",
    "for i in range(size):\n",
    "    row = list()\n",
    "    for j in range(size):\n",
    "        row.append(empty)\n",
    "    board.append(row)\n",
    "board"
   ]
  },
  {
   "cell_type": "code",
   "execution_count": 10,
   "id": "20079fe1",
   "metadata": {},
   "outputs": [
    {
     "data": {
      "text/plain": [
       "[1, 1, 1, 1, 1, 1, 1, 1]"
      ]
     },
     "execution_count": 10,
     "metadata": {},
     "output_type": "execute_result"
    }
   ],
   "source": [
    "[1]*size"
   ]
  },
  {
   "cell_type": "code",
   "execution_count": 12,
   "id": "d3df6ee4",
   "metadata": {},
   "outputs": [
    {
     "data": {
      "text/plain": [
       "[[0, 0, 0, 0, 0, 0, 0, 0],\n",
       " [0, 0, 0, 0, 0, 0, 0, 0],\n",
       " [0, 0, 0, 0, 0, 0, 0, 0],\n",
       " [0, 0, 0, 0, 0, 0, 0, 0],\n",
       " [0, 0, 0, 0, 0, 0, 0, 0],\n",
       " [0, 0, 0, 0, 0, 0, 0, 0],\n",
       " [0, 0, 0, 0, 0, 0, 0, 0],\n",
       " [0, 0, 0, 0, 0, 0, 0, 0]]"
      ]
     },
     "execution_count": 12,
     "metadata": {},
     "output_type": "execute_result"
    }
   ],
   "source": [
    "board2 = [[empty]*size]*size\n",
    "board2"
   ]
  },
  {
   "cell_type": "code",
   "execution_count": 15,
   "id": "6d468f59",
   "metadata": {},
   "outputs": [
    {
     "data": {
      "text/plain": [
       "[[0, 1, 0, 0, 0, 0, 0, 0],\n",
       " [0, 1, 0, 0, 0, 0, 0, 0],\n",
       " [0, 1, 0, 0, 0, 0, 0, 0],\n",
       " [0, 1, 0, 0, 0, 0, 0, 0],\n",
       " [0, 1, 0, 0, 0, 0, 0, 0],\n",
       " [0, 1, 0, 0, 0, 0, 0, 0],\n",
       " [0, 1, 0, 0, 0, 0, 0, 0],\n",
       " [0, 1, 0, 0, 0, 0, 0, 0]]"
      ]
     },
     "execution_count": 15,
     "metadata": {},
     "output_type": "execute_result"
    }
   ],
   "source": [
    "## Hold on!\n",
    "board2[1][1] = 1\n",
    "board2\n",
    "## OOPS!"
   ]
  },
  {
   "cell_type": "code",
   "execution_count": 17,
   "id": "9776a934",
   "metadata": {},
   "outputs": [
    {
     "data": {
      "text/plain": [
       "[[0, 0, 0, 0, 0, 0, 0, 0],\n",
       " [0, 0, 0, 0, 0, 0, 0, 0],\n",
       " [0, 0, 0, 0, 0, 0, 0, 0],\n",
       " [0, 0, 0, 0, 0, 0, 0, 0],\n",
       " [0, 0, 0, 0, 0, 0, 0, 0],\n",
       " [0, 0, 0, 0, 0, 0, 0, 0],\n",
       " [0, 0, 0, 0, 0, 0, 0, 0],\n",
       " [0, 0, 0, 0, 0, 0, 0, 0]]"
      ]
     },
     "execution_count": 17,
     "metadata": {},
     "output_type": "execute_result"
    }
   ],
   "source": [
    "board3 = [[empty]*size for i in range(size)]\n",
    "board3"
   ]
  },
  {
   "cell_type": "code",
   "execution_count": 21,
   "id": "61bbe3a9",
   "metadata": {},
   "outputs": [
    {
     "data": {
      "text/plain": [
       "[[0, 0, 0, 0, 0, 0, 0, 0],\n",
       " [0, 1, 0, 0, 0, 0, 0, 0],\n",
       " [0, 0, 0, 0, 0, 0, 0, 0],\n",
       " [0, 0, 0, 0, 0, 0, 0, 0],\n",
       " [0, 0, 0, 0, 0, 0, 0, 0],\n",
       " [0, 0, 0, 0, 0, 0, 0, 0],\n",
       " [0, 0, 0, 0, 0, 0, 0, 0],\n",
       " [0, 0, 0, 0, 0, 0, 0, 0]]"
      ]
     },
     "execution_count": 21,
     "metadata": {},
     "output_type": "execute_result"
    }
   ],
   "source": [
    "board3[1][1] = 1\n",
    "board3"
   ]
  },
  {
   "cell_type": "markdown",
   "id": "538eb1e4",
   "metadata": {},
   "source": [
    "# Make a Starting Board"
   ]
  },
  {
   "cell_type": "code",
   "execution_count": 30,
   "id": "77fc2d75",
   "metadata": {},
   "outputs": [],
   "source": [
    "def make_game_board(size=8):\n",
    "    # Make an empty board\n",
    "    board = [[empty]*size for i in range(size)]\n",
    "    \n",
    "    # Add Player  Pieces\n",
    "    for i in range(0,size,2):\n",
    "        # Player 1 Pieces\n",
    "        board[-1][i] = player_1\n",
    "        board[-2][i+1] = player_1\n",
    "        board[-3][i] = player_1\n",
    "        # Player 2 Pieces\n",
    "        board[0][i+1] = player_2\n",
    "        board[1][i] = player_2\n",
    "        board[2][i+1] = player_2        \n",
    "    return board\n",
    "        \n"
   ]
  },
  {
   "cell_type": "code",
   "execution_count": 31,
   "id": "e9fddf1d",
   "metadata": {},
   "outputs": [
    {
     "data": {
      "text/plain": [
       "[[0, 2, 0, 2, 0, 2, 0, 2],\n",
       " [2, 0, 2, 0, 2, 0, 2, 0],\n",
       " [0, 2, 0, 2, 0, 2, 0, 2],\n",
       " [0, 0, 0, 0, 0, 0, 0, 0],\n",
       " [0, 0, 0, 0, 0, 0, 0, 0],\n",
       " [1, 0, 1, 0, 1, 0, 1, 0],\n",
       " [0, 1, 0, 1, 0, 1, 0, 1],\n",
       " [1, 0, 1, 0, 1, 0, 1, 0]]"
      ]
     },
     "execution_count": 31,
     "metadata": {},
     "output_type": "execute_result"
    }
   ],
   "source": [
    "board = make_game_board()\n",
    "board"
   ]
  },
  {
   "cell_type": "markdown",
   "id": "ec6a8c82",
   "metadata": {},
   "source": [
    "# Write a function to handle player moves"
   ]
  },
  {
   "cell_type": "code",
   "execution_count": null,
   "id": "cdc00ac0",
   "metadata": {},
   "outputs": [],
   "source": [
    "def player_moves(player, direction)\n"
   ]
  }
 ],
 "metadata": {
  "kernelspec": {
   "display_name": "Python 3 (ipykernel)",
   "language": "python",
   "name": "python3"
  },
  "language_info": {
   "codemirror_mode": {
    "name": "ipython",
    "version": 3
   },
   "file_extension": ".py",
   "mimetype": "text/x-python",
   "name": "python",
   "nbconvert_exporter": "python",
   "pygments_lexer": "ipython3",
   "version": "3.8.10"
  }
 },
 "nbformat": 4,
 "nbformat_minor": 5
}
