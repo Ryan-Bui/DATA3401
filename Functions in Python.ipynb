{
 "cells": [
  {
   "cell_type": "markdown",
   "id": "77d5cce4",
   "metadata": {},
   "source": [
    "# Functions In Python"
   ]
  },
  {
   "cell_type": "code",
   "execution_count": 1,
   "id": "9d98b21d",
   "metadata": {},
   "outputs": [
    {
     "ename": "SyntaxError",
     "evalue": "invalid syntax (337490399.py, line 1)",
     "output_type": "error",
     "traceback": [
      "\u001b[0;36m  File \u001b[0;32m\"/tmp/ipykernel_73/337490399.py\"\u001b[0;36m, line \u001b[0;32m1\u001b[0m\n\u001b[0;31m    def function_name(input_arg1, input_arg2, ..., input_argN): # structure of a function\u001b[0m\n\u001b[0m                                              ^\u001b[0m\n\u001b[0;31mSyntaxError\u001b[0m\u001b[0;31m:\u001b[0m invalid syntax\n"
     ]
    }
   ],
   "source": [
    "def function_name(input_arg1, input_arg2, ..., input_argN): # structure of a function\n",
    "    Python statements\n",
    "    return output # this is optional\n"
   ]
  },
  {
   "cell_type": "code",
   "execution_count": 2,
   "id": "52cae0b8",
   "metadata": {},
   "outputs": [],
   "source": [
    "def C2F(c):\n",
    "    # F = 9/5*C +3 2\n",
    "    return (9/5)*c+32\n"
   ]
  },
  {
   "cell_type": "code",
   "execution_count": 3,
   "id": "cd26ac6a",
   "metadata": {},
   "outputs": [
    {
     "data": {
      "text/plain": [
       "104.0"
      ]
     },
     "execution_count": 3,
     "metadata": {},
     "output_type": "execute_result"
    }
   ],
   "source": [
    "C2F(40)"
   ]
  },
  {
   "cell_type": "code",
   "execution_count": 4,
   "id": "8ae9e0cd",
   "metadata": {},
   "outputs": [
    {
     "data": {
      "text/plain": [
       "32.0"
      ]
     },
     "execution_count": 4,
     "metadata": {},
     "output_type": "execute_result"
    }
   ],
   "source": [
    "C2F(0)"
   ]
  },
  {
   "cell_type": "code",
   "execution_count": 5,
   "id": "3b276153",
   "metadata": {},
   "outputs": [
    {
     "data": {
      "text/plain": [
       "-27.4"
      ]
     },
     "execution_count": 5,
     "metadata": {},
     "output_type": "execute_result"
    }
   ],
   "source": [
    "C2F(-33)"
   ]
  },
  {
   "cell_type": "code",
   "execution_count": 6,
   "id": "87ec78dc",
   "metadata": {},
   "outputs": [
    {
     "ename": "TypeError",
     "evalue": "can't multiply sequence by non-int of type 'float'",
     "output_type": "error",
     "traceback": [
      "\u001b[0;31m---------------------------------------------------------------------------\u001b[0m",
      "\u001b[0;31mTypeError\u001b[0m                                 Traceback (most recent call last)",
      "\u001b[0;32m/tmp/ipykernel_73/2321654965.py\u001b[0m in \u001b[0;36m<module>\u001b[0;34m\u001b[0m\n\u001b[0;32m----> 1\u001b[0;31m \u001b[0mC2F\u001b[0m\u001b[0;34m(\u001b[0m\u001b[0;34m[\u001b[0m\u001b[0;36m0\u001b[0m\u001b[0;34m,\u001b[0m \u001b[0;36m20\u001b[0m\u001b[0;34m,\u001b[0m\u001b[0;36m40\u001b[0m\u001b[0;34m]\u001b[0m\u001b[0;34m)\u001b[0m\u001b[0;34m\u001b[0m\u001b[0;34m\u001b[0m\u001b[0m\n\u001b[0m",
      "\u001b[0;32m/tmp/ipykernel_73/3483560207.py\u001b[0m in \u001b[0;36mC2F\u001b[0;34m(c)\u001b[0m\n\u001b[1;32m      1\u001b[0m \u001b[0;32mdef\u001b[0m \u001b[0mC2F\u001b[0m\u001b[0;34m(\u001b[0m\u001b[0mc\u001b[0m\u001b[0;34m)\u001b[0m\u001b[0;34m:\u001b[0m\u001b[0;34m\u001b[0m\u001b[0;34m\u001b[0m\u001b[0m\n\u001b[1;32m      2\u001b[0m     \u001b[0;31m# F = 9/5*C +3 2\u001b[0m\u001b[0;34m\u001b[0m\u001b[0;34m\u001b[0m\u001b[0;34m\u001b[0m\u001b[0m\n\u001b[0;32m----> 3\u001b[0;31m     \u001b[0;32mreturn\u001b[0m\u001b[0;34m(\u001b[0m\u001b[0;36m9\u001b[0m\u001b[0;34m/\u001b[0m\u001b[0;36m5\u001b[0m\u001b[0;34m)\u001b[0m\u001b[0;34m*\u001b[0m\u001b[0mc\u001b[0m\u001b[0;34m+\u001b[0m\u001b[0;36m32\u001b[0m\u001b[0;34m\u001b[0m\u001b[0;34m\u001b[0m\u001b[0m\n\u001b[0m",
      "\u001b[0;31mTypeError\u001b[0m: can't multiply sequence by non-int of type 'float'"
     ]
    }
   ],
   "source": [
    "C2F([0, 20,40]) # cant evulate lists"
   ]
  },
  {
   "cell_type": "code",
   "execution_count": 7,
   "id": "e0592a47",
   "metadata": {},
   "outputs": [
    {
     "data": {
      "text/plain": [
       "array([ 32.,  68., 104.])"
      ]
     },
     "execution_count": 7,
     "metadata": {},
     "output_type": "execute_result"
    }
   ],
   "source": [
    "import numpy as np\n",
    "C2F(np.array([0, 20, 40]))"
   ]
  },
  {
   "cell_type": "code",
   "execution_count": 10,
   "id": "482fac7e",
   "metadata": {},
   "outputs": [
    {
     "data": {
      "text/plain": [
       "32.0"
      ]
     },
     "execution_count": 10,
     "metadata": {},
     "output_type": "execute_result"
    }
   ],
   "source": [
    "def C2F2(c):\n",
    "    # F = 9/5*C +32\n",
    "    F = 9/5*c +32\n",
    "    return F\n",
    "C2F2(0)"
   ]
  },
  {
   "cell_type": "code",
   "execution_count": 14,
   "id": "f62578f7",
   "metadata": {},
   "outputs": [
    {
     "name": "stdout",
     "output_type": "stream",
     "text": [
      "\n",
      "Today in Arlington, TX, the high temperature is 38 Celsius, which is 100.4 Fahrenheit\n"
     ]
    }
   ],
   "source": [
    "c_temp = 38\n",
    "f_temp = C2F(c_temp)\n",
    "print('''\n",
    "Today in Arlington, TX, the high temperature is {} Celsius, which is {} Fahrenheit'''.format(c_temp,f_temp))"
   ]
  },
  {
   "cell_type": "code",
   "execution_count": 16,
   "id": "44a5ef8d",
   "metadata": {},
   "outputs": [
    {
     "name": "stdout",
     "output_type": "stream",
     "text": [
      "\n",
      "Today in Arlington, TX, the high temperature is 38 Celsius, which is 100.4 Fahrenheit\n"
     ]
    }
   ],
   "source": [
    "c_temp = 38\n",
    "\n",
    "print('''\n",
    "Today in Arlington, TX, the high temperature is {} Celsius, which is {} Fahrenheit'''.format(c_temp,C2F(c_temp)))"
   ]
  },
  {
   "cell_type": "code",
   "execution_count": 19,
   "id": "8fcda29b",
   "metadata": {},
   "outputs": [
    {
     "data": {
      "text/plain": [
       "0.0"
      ]
     },
     "execution_count": 19,
     "metadata": {},
     "output_type": "execute_result"
    }
   ],
   "source": [
    "# Excercise --\n",
    "def F2C(f):\n",
    "    C = (f-32)*5/9\n",
    "    return C\n",
    "F2C(32)"
   ]
  },
  {
   "cell_type": "code",
   "execution_count": 20,
   "id": "42f790da",
   "metadata": {},
   "outputs": [
    {
     "data": {
      "text/plain": [
       "100.0"
      ]
     },
     "execution_count": 20,
     "metadata": {},
     "output_type": "execute_result"
    }
   ],
   "source": [
    "C2F(F2C(100))"
   ]
  },
  {
   "cell_type": "code",
   "execution_count": 21,
   "id": "d5e68bef",
   "metadata": {},
   "outputs": [
    {
     "data": {
      "text/plain": [
       "100.0"
      ]
     },
     "execution_count": 21,
     "metadata": {},
     "output_type": "execute_result"
    }
   ],
   "source": [
    "F2C(C2F(100))"
   ]
  },
  {
   "cell_type": "markdown",
   "id": "31cf78ed",
   "metadata": {},
   "source": [
    "# Functions With no Input Arguments"
   ]
  },
  {
   "cell_type": "code",
   "execution_count": 22,
   "id": "b20c2f9a",
   "metadata": {},
   "outputs": [
    {
     "name": "stdout",
     "output_type": "stream",
     "text": [
      "This is DATA 3401, Pythonfor Data Science I, and your instructor is Professor Hamm.\n"
     ]
    }
   ],
   "source": [
    "def print_course_info():\n",
    "    print('This is DATA 3401, Pythonfor Data Science I, and your instructor is Professor Hamm.')\n",
    "print_course_info()"
   ]
  },
  {
   "cell_type": "code",
   "execution_count": 23,
   "id": "989536db",
   "metadata": {},
   "outputs": [
    {
     "name": "stdout",
     "output_type": "stream",
     "text": [
      "This is DATA 3401, Pythonfor Data Science I, and your instructor is Professor Hamm.\n"
     ]
    }
   ],
   "source": [
    "my_string = print_course_info()"
   ]
  },
  {
   "cell_type": "code",
   "execution_count": 24,
   "id": "a90f82aa",
   "metadata": {},
   "outputs": [
    {
     "data": {
      "text/plain": [
       "NoneType"
      ]
     },
     "execution_count": 24,
     "metadata": {},
     "output_type": "execute_result"
    }
   ],
   "source": [
    "type(my_string)"
   ]
  },
  {
   "cell_type": "code",
   "execution_count": 25,
   "id": "b8994d28",
   "metadata": {},
   "outputs": [
    {
     "name": "stdout",
     "output_type": "stream",
     "text": [
      "None\n"
     ]
    }
   ],
   "source": [
    "print(my_string)"
   ]
  },
  {
   "cell_type": "code",
   "execution_count": 31,
   "id": "d7c387d6",
   "metadata": {},
   "outputs": [],
   "source": [
    "def print_course_info2():\n",
    "    info = 'This is DATA 3401, Python for Data Science I, and your instructor is Professor Hamm.'\n",
    "    print(info)\n",
    "    return info"
   ]
  },
  {
   "cell_type": "code",
   "execution_count": 32,
   "id": "34a1f444",
   "metadata": {},
   "outputs": [
    {
     "name": "stdout",
     "output_type": "stream",
     "text": [
      "This is DATA 3401, Python for Data Science I, and your instructor is Professor Hamm.\n"
     ]
    },
    {
     "data": {
      "text/plain": [
       "'This is DATA 3401, Python for Data Science I, and your instructor is Professor Hamm.'"
      ]
     },
     "execution_count": 32,
     "metadata": {},
     "output_type": "execute_result"
    }
   ],
   "source": [
    "print_course_info2()"
   ]
  },
  {
   "cell_type": "code",
   "execution_count": 33,
   "id": "e9431528",
   "metadata": {},
   "outputs": [
    {
     "data": {
      "text/plain": [
       "8"
      ]
     },
     "execution_count": 33,
     "metadata": {},
     "output_type": "execute_result"
    }
   ],
   "source": [
    "pow(2,3)"
   ]
  },
  {
   "cell_type": "code",
   "execution_count": 34,
   "id": "0f4c7369",
   "metadata": {},
   "outputs": [
    {
     "name": "stdout",
     "output_type": "stream",
     "text": [
      "This is DATA 3401, Python for Data Science I, and your instructor is Professor Hamm.\n"
     ]
    }
   ],
   "source": [
    "course_info = print_course_info2()"
   ]
  },
  {
   "cell_type": "code",
   "execution_count": 35,
   "id": "31f72a0f",
   "metadata": {},
   "outputs": [
    {
     "data": {
      "text/plain": [
       "'This is DATA 3401, Python for Data Science I, and your instructor is Professor Hamm.'"
      ]
     },
     "execution_count": 35,
     "metadata": {},
     "output_type": "execute_result"
    }
   ],
   "source": [
    "course_info"
   ]
  },
  {
   "cell_type": "code",
   "execution_count": 36,
   "id": "ef1109a0",
   "metadata": {},
   "outputs": [
    {
     "data": {
      "text/plain": [
       "str"
      ]
     },
     "execution_count": 36,
     "metadata": {},
     "output_type": "execute_result"
    }
   ],
   "source": [
    "type(course_info)"
   ]
  },
  {
   "cell_type": "code",
   "execution_count": 37,
   "id": "c64c34b4",
   "metadata": {},
   "outputs": [
    {
     "name": "stdout",
     "output_type": "stream",
     "text": [
      "This is DATA 3401, Python for Data Science I, and your instructor is Professor Hamm.\n"
     ]
    }
   ],
   "source": [
    "print(course_info)"
   ]
  },
  {
   "cell_type": "markdown",
   "id": "22b8839c",
   "metadata": {},
   "source": [
    "# Multiple Input Arguments"
   ]
  },
  {
   "cell_type": "code",
   "execution_count": 38,
   "id": "ab481ed8",
   "metadata": {},
   "outputs": [],
   "source": [
    "def power(base, exponent):\n",
    "    return base**exponent"
   ]
  },
  {
   "cell_type": "code",
   "execution_count": 39,
   "id": "69f12f56",
   "metadata": {},
   "outputs": [
    {
     "data": {
      "text/plain": [
       "256"
      ]
     },
     "execution_count": 39,
     "metadata": {},
     "output_type": "execute_result"
    }
   ],
   "source": [
    "power(2,8)"
   ]
  },
  {
   "cell_type": "code",
   "execution_count": 40,
   "id": "1b66549b",
   "metadata": {},
   "outputs": [],
   "source": [
    "# Excericise: write this function without using **\n",
    "def power2(base, exponent):\n",
    "    for i in range(exponent)\n",
    "    return (base*base)"
   ]
  },
  {
   "cell_type": "code",
   "execution_count": 42,
   "id": "799f65d6",
   "metadata": {},
   "outputs": [
    {
     "data": {
      "text/plain": [
       "32"
      ]
     },
     "execution_count": 42,
     "metadata": {},
     "output_type": "execute_result"
    }
   ],
   "source": [
    "power2(2,8)"
   ]
  },
  {
   "cell_type": "code",
   "execution_count": 47,
   "id": "22b99633",
   "metadata": {},
   "outputs": [],
   "source": [
    "def power3(base, exponent):\n",
    "    for i in range(exponent):\n",
    "        return(base*base)\n",
    "        if i == exponent: break\n",
    "        \n",
    "    "
   ]
  },
  {
   "cell_type": "code",
   "execution_count": 50,
   "id": "a29356a6",
   "metadata": {},
   "outputs": [],
   "source": [
    "power3(2,8)"
   ]
  },
  {
   "cell_type": "code",
   "execution_count": 51,
   "id": "8a9ba2d1",
   "metadata": {},
   "outputs": [],
   "source": [
    "def power2(base, exponent):\n",
    "    number = 1\n",
    "    for x in range(exponent):\n",
    "        number = base*number\n",
    "    return number\n"
   ]
  },
  {
   "cell_type": "code",
   "execution_count": 52,
   "id": "a5355286",
   "metadata": {},
   "outputs": [
    {
     "data": {
      "text/plain": [
       "256"
      ]
     },
     "execution_count": 52,
     "metadata": {},
     "output_type": "execute_result"
    }
   ],
   "source": [
    "power2(2, 8)"
   ]
  },
  {
   "cell_type": "code",
   "execution_count": 54,
   "id": "28b6b5e3",
   "metadata": {},
   "outputs": [],
   "source": [
    "def power4(base, exponent):\n",
    "    number = base\n",
    "    for x in range(exponent-1):\n",
    "        number *= base\n",
    "    return number"
   ]
  },
  {
   "cell_type": "code",
   "execution_count": 55,
   "id": "587bd442",
   "metadata": {},
   "outputs": [
    {
     "data": {
      "text/plain": [
       "10000"
      ]
     },
     "execution_count": 55,
     "metadata": {},
     "output_type": "execute_result"
    }
   ],
   "source": [
    "power(10, 4)"
   ]
  },
  {
   "cell_type": "code",
   "execution_count": 58,
   "id": "7d7b12bf",
   "metadata": {},
   "outputs": [],
   "source": [
    "def power5(base, exponent):\n",
    "    counter = 1\n",
    "    number = 1\n",
    "    while counter <= exponent:\n",
    "        number *= base\n",
    "        counter += 1\n",
    "    return number\n",
    "        "
   ]
  },
  {
   "cell_type": "code",
   "execution_count": 59,
   "id": "e738c429",
   "metadata": {},
   "outputs": [
    {
     "data": {
      "text/plain": [
       "32"
      ]
     },
     "execution_count": 59,
     "metadata": {},
     "output_type": "execute_result"
    }
   ],
   "source": [
    "power(2,5)"
   ]
  },
  {
   "cell_type": "code",
   "execution_count": 60,
   "id": "94f0757b",
   "metadata": {},
   "outputs": [],
   "source": [
    "def power6(base, exponent = 2):\n",
    "    return base**exponent"
   ]
  },
  {
   "cell_type": "code",
   "execution_count": 62,
   "id": "509ea4e2",
   "metadata": {},
   "outputs": [
    {
     "data": {
      "text/plain": [
       "16"
      ]
     },
     "execution_count": 62,
     "metadata": {},
     "output_type": "execute_result"
    }
   ],
   "source": [
    "power6(4)"
   ]
  },
  {
   "cell_type": "code",
   "execution_count": 63,
   "id": "4af62c7e",
   "metadata": {},
   "outputs": [
    {
     "data": {
      "text/plain": [
       "256"
      ]
     },
     "execution_count": 63,
     "metadata": {},
     "output_type": "execute_result"
    }
   ],
   "source": [
    "power6(4,4)"
   ]
  },
  {
   "cell_type": "code",
   "execution_count": 64,
   "id": "1eb9e6d2",
   "metadata": {},
   "outputs": [
    {
     "data": {
      "text/plain": [
       "1"
      ]
     },
     "execution_count": 64,
     "metadata": {},
     "output_type": "execute_result"
    }
   ],
   "source": [
    "power6(4,0)"
   ]
  },
  {
   "cell_type": "code",
   "execution_count": 66,
   "id": "d3591c07",
   "metadata": {},
   "outputs": [
    {
     "ename": "SyntaxError",
     "evalue": "non-default argument follows default argument (4086767044.py, line 1)",
     "output_type": "error",
     "traceback": [
      "\u001b[0;36m  File \u001b[0;32m\"/tmp/ipykernel_73/4086767044.py\"\u001b[0;36m, line \u001b[0;32m1\u001b[0m\n\u001b[0;31m    def power6(base = 2, exponent):\u001b[0m\n\u001b[0m               ^\u001b[0m\n\u001b[0;31mSyntaxError\u001b[0m\u001b[0;31m:\u001b[0m non-default argument follows default argument\n"
     ]
    }
   ],
   "source": [
    "def power6(base = 2, exponent):\n",
    "    return base**exponent"
   ]
  },
  {
   "cell_type": "code",
   "execution_count": 68,
   "id": "5ce1fb8b",
   "metadata": {},
   "outputs": [
    {
     "data": {
      "text/plain": [
       "64"
      ]
     },
     "execution_count": 68,
     "metadata": {},
     "output_type": "execute_result"
    }
   ],
   "source": [
    "power5(2,6)"
   ]
  },
  {
   "cell_type": "code",
   "execution_count": 69,
   "id": "f545e32f",
   "metadata": {},
   "outputs": [
    {
     "data": {
      "text/plain": [
       "64"
      ]
     },
     "execution_count": 69,
     "metadata": {},
     "output_type": "execute_result"
    }
   ],
   "source": [
    "power5(exponent = 6, base = 2)"
   ]
  },
  {
   "cell_type": "markdown",
   "id": "130de645",
   "metadata": {},
   "source": [
    "# Multiple Outputs"
   ]
  },
  {
   "cell_type": "code",
   "execution_count": 72,
   "id": "d366d5f4",
   "metadata": {},
   "outputs": [],
   "source": [
    "def get_quotient_remainder(dividend, divisor):\n",
    "    return divmod(dividend, divisor) #(dividend//divisior, dividend%divisor)"
   ]
  },
  {
   "cell_type": "code",
   "execution_count": 73,
   "id": "8b9591f6",
   "metadata": {},
   "outputs": [
    {
     "data": {
      "text/plain": [
       "(3, 1)"
      ]
     },
     "execution_count": 73,
     "metadata": {},
     "output_type": "execute_result"
    }
   ],
   "source": [
    "get_quotient_remainder(10,3)"
   ]
  },
  {
   "cell_type": "code",
   "execution_count": 74,
   "id": "91eef63d",
   "metadata": {},
   "outputs": [
    {
     "data": {
      "text/plain": [
       "tuple"
      ]
     },
     "execution_count": 74,
     "metadata": {},
     "output_type": "execute_result"
    }
   ],
   "source": [
    "type(get_quotient_remainder(10,3))"
   ]
  },
  {
   "cell_type": "code",
   "execution_count": 78,
   "id": "f7e65a61",
   "metadata": {},
   "outputs": [
    {
     "data": {
      "text/plain": [
       "3"
      ]
     },
     "execution_count": 78,
     "metadata": {},
     "output_type": "execute_result"
    }
   ],
   "source": [
    "out = get_quotient_remainder(10,3)\n",
    "out[0]"
   ]
  },
  {
   "cell_type": "code",
   "execution_count": 79,
   "id": "50571583",
   "metadata": {},
   "outputs": [
    {
     "data": {
      "text/plain": [
       "1"
      ]
     },
     "execution_count": 79,
     "metadata": {},
     "output_type": "execute_result"
    }
   ],
   "source": [
    "out[1]"
   ]
  },
  {
   "cell_type": "code",
   "execution_count": 81,
   "id": "ae88e68b",
   "metadata": {},
   "outputs": [
    {
     "data": {
      "text/plain": [
       "2"
      ]
     },
     "execution_count": 81,
     "metadata": {},
     "output_type": "execute_result"
    }
   ],
   "source": [
    "len(out)"
   ]
  },
  {
   "cell_type": "code",
   "execution_count": 82,
   "id": "3080ec47",
   "metadata": {},
   "outputs": [
    {
     "data": {
      "text/plain": [
       "(3, 2)"
      ]
     },
     "execution_count": 82,
     "metadata": {},
     "output_type": "execute_result"
    }
   ],
   "source": [
    "out2 =  get_quotient_remainder(11,3)\n",
    "out2"
   ]
  },
  {
   "cell_type": "code",
   "execution_count": 84,
   "id": "98775a63",
   "metadata": {},
   "outputs": [],
   "source": [
    "def get_quotient_remainder(dividend, divisor):\n",
    "    return list(divmod(dividend, divisor)) #(dividend//divisior, dividend%divisor))\n",
    "            "
   ]
  },
  {
   "cell_type": "code",
   "execution_count": 89,
   "id": "71952014",
   "metadata": {},
   "outputs": [
    {
     "data": {
      "text/plain": [
       "[3, 2]"
      ]
     },
     "execution_count": 89,
     "metadata": {},
     "output_type": "execute_result"
    }
   ],
   "source": [
    "out2 = get_quotient_remainder(11,3)\n",
    "out2"
   ]
  },
  {
   "cell_type": "code",
   "execution_count": 90,
   "id": "30fbe5e3",
   "metadata": {},
   "outputs": [],
   "source": [
    "[quotient, remainder] = get_quotient_remainder(11,4)"
   ]
  },
  {
   "cell_type": "code",
   "execution_count": 91,
   "id": "baa09763",
   "metadata": {},
   "outputs": [
    {
     "name": "stdout",
     "output_type": "stream",
     "text": [
      "2 3\n"
     ]
    }
   ],
   "source": [
    "print(quotient, remainder)"
   ]
  },
  {
   "cell_type": "markdown",
   "id": "4aa6dd56",
   "metadata": {},
   "source": [
    "# Optional Input Arguments\n"
   ]
  },
  {
   "cell_type": "code",
   "execution_count": 1,
   "id": "4185f766",
   "metadata": {},
   "outputs": [],
   "source": [
    "def equation(base, exponent = 4, root = None):\n",
    "    if root != None:\n",
    "        return ( base**exponent)**(1/root)\n",
    "    else:\n",
    "        return base**exponent\n"
   ]
  },
  {
   "cell_type": "code",
   "execution_count": 2,
   "id": "e586a441",
   "metadata": {},
   "outputs": [
    {
     "data": {
      "text/plain": [
       "64"
      ]
     },
     "execution_count": 2,
     "metadata": {},
     "output_type": "execute_result"
    }
   ],
   "source": [
    "equation(2,6)"
   ]
  },
  {
   "cell_type": "code",
   "execution_count": 4,
   "id": "97c6cffd",
   "metadata": {},
   "outputs": [
    {
     "data": {
      "text/plain": [
       "8.0"
      ]
     },
     "execution_count": 4,
     "metadata": {},
     "output_type": "execute_result"
    }
   ],
   "source": [
    "equation(2,6,2)"
   ]
  },
  {
   "cell_type": "code",
   "execution_count": 5,
   "id": "05273f1d",
   "metadata": {},
   "outputs": [
    {
     "data": {
      "text/plain": [
       "8.0"
      ]
     },
     "execution_count": 5,
     "metadata": {},
     "output_type": "execute_result"
    }
   ],
   "source": [
    "equation(2, root = 2, exponent = 6)"
   ]
  },
  {
   "cell_type": "code",
   "execution_count": 6,
   "id": "27570d04",
   "metadata": {},
   "outputs": [],
   "source": [
    "def equation2(base, exponent = 4, message = 'Default Meassage'):\n",
    "    print (message)\n",
    "    return base**exponent"
   ]
  },
  {
   "cell_type": "code",
   "execution_count": 7,
   "id": "116b98ef",
   "metadata": {},
   "outputs": [
    {
     "name": "stdout",
     "output_type": "stream",
     "text": [
      "Default Meassage\n"
     ]
    },
    {
     "data": {
      "text/plain": [
       "16"
      ]
     },
     "execution_count": 7,
     "metadata": {},
     "output_type": "execute_result"
    }
   ],
   "source": [
    "equation2(2)"
   ]
  },
  {
   "cell_type": "code",
   "execution_count": 8,
   "id": "a65ab94e",
   "metadata": {},
   "outputs": [
    {
     "name": "stdout",
     "output_type": "stream",
     "text": [
      "Hello World\n"
     ]
    },
    {
     "data": {
      "text/plain": [
       "8"
      ]
     },
     "execution_count": 8,
     "metadata": {},
     "output_type": "execute_result"
    }
   ],
   "source": [
    "equation2(2,3,'Hello World')"
   ]
  },
  {
   "cell_type": "code",
   "execution_count": 9,
   "id": "38d6d232",
   "metadata": {},
   "outputs": [
    {
     "name": "stdout",
     "output_type": "stream",
     "text": [
      "Hello World\n"
     ]
    },
    {
     "data": {
      "text/plain": [
       "16"
      ]
     },
     "execution_count": 9,
     "metadata": {},
     "output_type": "execute_result"
    }
   ],
   "source": [
    "equation2(2, message = 'Hello World')"
   ]
  },
  {
   "cell_type": "markdown",
   "id": "812fe56e",
   "metadata": {},
   "source": [
    "# Nested Functions"
   ]
  },
  {
   "cell_type": "code",
   "execution_count": 15,
   "id": "c315baa4",
   "metadata": {},
   "outputs": [],
   "source": [
    "def equation(base, exponent, translastion):\n",
    "    temp = base**exponent\n",
    "    \n",
    "    def inner_translation_function(power):\n",
    "        return power-translation\n",
    "    return inner_translation_function(temp)"
   ]
  },
  {
   "cell_type": "code",
   "execution_count": 16,
   "id": "26af861c",
   "metadata": {},
   "outputs": [
    {
     "data": {
      "text/plain": [
       "3"
      ]
     },
     "execution_count": 16,
     "metadata": {},
     "output_type": "execute_result"
    }
   ],
   "source": [
    "equation(2,2,1)"
   ]
  },
  {
   "cell_type": "markdown",
   "id": "740cae1a",
   "metadata": {},
   "source": [
    "# Variable Scope (Global vs. Local)"
   ]
  },
  {
   "cell_type": "code",
   "execution_count": 19,
   "id": "9683b5d4",
   "metadata": {},
   "outputs": [
    {
     "name": "stdout",
     "output_type": "stream",
     "text": [
      "Value of C inside the function C2F: 50\n",
      "Value of C outside the function C2F: 70\n"
     ]
    }
   ],
   "source": [
    "def C2F(c):\n",
    "    converted_value = (9/5)*c+32\n",
    "    print('Value of C inside the function C2F: {}'.format(c))\n",
    "    return converted_value\n",
    "c = 70\n",
    "C2F(50)\n",
    "print('Value of C outside the function C2F: {}'.format(c))"
   ]
  },
  {
   "cell_type": "code",
   "execution_count": 22,
   "id": "3ac78f56",
   "metadata": {},
   "outputs": [
    {
     "name": "stdout",
     "output_type": "stream",
     "text": [
      "Value of C inside the function C2F: 70\n",
      "Value of C outside the function C2F: 70\n"
     ]
    }
   ],
   "source": [
    "c = 70\n",
    "def C2F(temp):\n",
    "    converted_value = (9/5)*temp+32\n",
    "    print('Value of C inside the function C2F: {}'.format(c))\n",
    "    return converted_value\n",
    "\n",
    "C2F(50)\n",
    "print('Value of C outside the function C2F: {}'.format(c))"
   ]
  },
  {
   "cell_type": "code",
   "execution_count": 23,
   "id": "143da862",
   "metadata": {},
   "outputs": [],
   "source": [
    "def C2F2():\n",
    "    global c\n",
    "    converted_value = (9/5)*c+32\n",
    "    print('Value of C inside the functuon C2F: {}'.format(c))\n",
    "    return converted_value\n",
    "    \n",
    "    "
   ]
  },
  {
   "cell_type": "code",
   "execution_count": 25,
   "id": "17cda7fc",
   "metadata": {},
   "outputs": [
    {
     "data": {
      "text/plain": [
       "{'__name__': '__main__',\n",
       " '__doc__': 'Automatically created module for IPython interactive environment',\n",
       " '__package__': None,\n",
       " '__loader__': None,\n",
       " '__spec__': None,\n",
       " '__builtin__': <module 'builtins' (built-in)>,\n",
       " '__builtins__': <module 'builtins' (built-in)>,\n",
       " '_ih': ['',\n",
       "  'def equation(base, exponent = 4, root = None):\\n    if root != None:\\n        return ( base**exponent)**(1/root)\\n    else:\\n        return base**exponent',\n",
       "  'equation(2,6)',\n",
       "  '(2,6,2)',\n",
       "  'equation(2,6,2)',\n",
       "  'equation(2, root = 2, exponent = 6)',\n",
       "  \"def equation2(base, exponent = 4, message = 'Default Meassage'):\\n    print (message)\\n    return base**exponent\",\n",
       "  'equation2(2)',\n",
       "  \"equation2(2,3,'Hello World')\",\n",
       "  \"equation2(2, message = 'Hello World')\",\n",
       "  'def equation(base, exponent, translastion):',\n",
       "  'equation(2,2,1)',\n",
       "  'def equation(base, exponent, translastion):\\n    temp = base**exponent\\n    \\n    def inner_translation_function(power):\\n        return power-translation\\n    return inner_translation_function(temp)',\n",
       "  'equation(2,2,1)',\n",
       "  'def equation(base, exponent, translation):\\n    temp = base**exponent\\n    \\n    def inner_translation_function(power):\\n        return power-translation\\n    return inner_translation_function(temp)',\n",
       "  'def equation(base, exponent, translation):\\n    temp = base**exponent\\n    \\n    def inner_translation_function(power):\\n        return power-translation\\n    return inner_translation_function(temp)',\n",
       "  'equation(2,2,1)',\n",
       "  \"def C2F(c):\\n    converted_value = (9/5)*c+32\\n    print('Value of C inside the function C2F: {}'.format(c))\\n    return converted_value\",\n",
       "  \"def C2F(c):\\n    converted_value = (9/5)*c+32\\n    print('Value of C inside the function C2F: {}'.format(c))\\n    return converted_value\\nc = 70\\nC2F(50)\\nprint('Value of C outside the function C2F:'{}.format(c))\",\n",
       "  \"def C2F(c):\\n    converted_value = (9/5)*c+32\\n    print('Value of C inside the function C2F: {}'.format(c))\\n    return converted_value\\nc = 70\\nC2F(50)\\nprint('Value of C outside the function C2F: {}'.format(c))\",\n",
       "  \"c = 70\\ndef C2F(c):\\n    converted_value = (9/5)*c+32\\n    print('Value of C inside the function C2F: {}'.format(c))\\n    return converted_value\\n\\nC2F(50)\\nprint('Value of C outside the function C2F: {}'.format(c))\",\n",
       "  \"c = 70\\ndef C2F(c):\\n    converted_value = (9/5)*c+32\\n    print('Value of C inside the function C2F: {}'.format(c))\\n    return converted_value\\n\\nC2F(50)\\nprint('Value of C outside the function C2F: {}'.format(c))\",\n",
       "  \"c = 70\\ndef C2F(temp):\\n    converted_value = (9/5)*temp+32\\n    print('Value of C inside the function C2F: {}'.format(c))\\n    return converted_value\\n\\nC2F(50)\\nprint('Value of C outside the function C2F: {}'.format(c))\",\n",
       "  \"def C2F2():\\n    global c\\n    converted_value = (9/5)*c+32\\n    print('Value of C inside the functuon C2F: {}'.format(c))\\n    return converted_value\\n    \\n    \",\n",
       "  'globals(c)',\n",
       "  'globals()'],\n",
       " '_oh': {2: 64,\n",
       "  3: (2, 6, 2),\n",
       "  4: 8.0,\n",
       "  5: 8.0,\n",
       "  7: 16,\n",
       "  8: 8,\n",
       "  9: 16,\n",
       "  11: 4.0,\n",
       "  16: 3},\n",
       " '_dh': ['/mnt/c/users/buiry/data3401'],\n",
       " 'In': ['',\n",
       "  'def equation(base, exponent = 4, root = None):\\n    if root != None:\\n        return ( base**exponent)**(1/root)\\n    else:\\n        return base**exponent',\n",
       "  'equation(2,6)',\n",
       "  '(2,6,2)',\n",
       "  'equation(2,6,2)',\n",
       "  'equation(2, root = 2, exponent = 6)',\n",
       "  \"def equation2(base, exponent = 4, message = 'Default Meassage'):\\n    print (message)\\n    return base**exponent\",\n",
       "  'equation2(2)',\n",
       "  \"equation2(2,3,'Hello World')\",\n",
       "  \"equation2(2, message = 'Hello World')\",\n",
       "  'def equation(base, exponent, translastion):',\n",
       "  'equation(2,2,1)',\n",
       "  'def equation(base, exponent, translastion):\\n    temp = base**exponent\\n    \\n    def inner_translation_function(power):\\n        return power-translation\\n    return inner_translation_function(temp)',\n",
       "  'equation(2,2,1)',\n",
       "  'def equation(base, exponent, translation):\\n    temp = base**exponent\\n    \\n    def inner_translation_function(power):\\n        return power-translation\\n    return inner_translation_function(temp)',\n",
       "  'def equation(base, exponent, translation):\\n    temp = base**exponent\\n    \\n    def inner_translation_function(power):\\n        return power-translation\\n    return inner_translation_function(temp)',\n",
       "  'equation(2,2,1)',\n",
       "  \"def C2F(c):\\n    converted_value = (9/5)*c+32\\n    print('Value of C inside the function C2F: {}'.format(c))\\n    return converted_value\",\n",
       "  \"def C2F(c):\\n    converted_value = (9/5)*c+32\\n    print('Value of C inside the function C2F: {}'.format(c))\\n    return converted_value\\nc = 70\\nC2F(50)\\nprint('Value of C outside the function C2F:'{}.format(c))\",\n",
       "  \"def C2F(c):\\n    converted_value = (9/5)*c+32\\n    print('Value of C inside the function C2F: {}'.format(c))\\n    return converted_value\\nc = 70\\nC2F(50)\\nprint('Value of C outside the function C2F: {}'.format(c))\",\n",
       "  \"c = 70\\ndef C2F(c):\\n    converted_value = (9/5)*c+32\\n    print('Value of C inside the function C2F: {}'.format(c))\\n    return converted_value\\n\\nC2F(50)\\nprint('Value of C outside the function C2F: {}'.format(c))\",\n",
       "  \"c = 70\\ndef C2F(c):\\n    converted_value = (9/5)*c+32\\n    print('Value of C inside the function C2F: {}'.format(c))\\n    return converted_value\\n\\nC2F(50)\\nprint('Value of C outside the function C2F: {}'.format(c))\",\n",
       "  \"c = 70\\ndef C2F(temp):\\n    converted_value = (9/5)*temp+32\\n    print('Value of C inside the function C2F: {}'.format(c))\\n    return converted_value\\n\\nC2F(50)\\nprint('Value of C outside the function C2F: {}'.format(c))\",\n",
       "  \"def C2F2():\\n    global c\\n    converted_value = (9/5)*c+32\\n    print('Value of C inside the functuon C2F: {}'.format(c))\\n    return converted_value\\n    \\n    \",\n",
       "  'globals(c)',\n",
       "  'globals()'],\n",
       " 'Out': {2: 64,\n",
       "  3: (2, 6, 2),\n",
       "  4: 8.0,\n",
       "  5: 8.0,\n",
       "  7: 16,\n",
       "  8: 8,\n",
       "  9: 16,\n",
       "  11: 4.0,\n",
       "  16: 3},\n",
       " 'get_ipython': <bound method InteractiveShell.get_ipython of <ipykernel.zmqshell.ZMQInteractiveShell object at 0x7fd40072d520>>,\n",
       " 'exit': <IPython.core.autocall.ZMQExitAutocall at 0x7fd400742730>,\n",
       " 'quit': <IPython.core.autocall.ZMQExitAutocall at 0x7fd400742730>,\n",
       " '_': 3,\n",
       " '__': 4.0,\n",
       " '___': 16,\n",
       " '_i': 'globals(c)',\n",
       " '_ii': \"def C2F2():\\n    global c\\n    converted_value = (9/5)*c+32\\n    print('Value of C inside the functuon C2F: {}'.format(c))\\n    return converted_value\\n    \\n    \",\n",
       " '_iii': \"c = 70\\ndef C2F(temp):\\n    converted_value = (9/5)*temp+32\\n    print('Value of C inside the function C2F: {}'.format(c))\\n    return converted_value\\n\\nC2F(50)\\nprint('Value of C outside the function C2F: {}'.format(c))\",\n",
       " '_i1': 'def equation(base, exponent = 4, root = None):\\n    if root != None:\\n        return ( base**exponent)**(1/root)\\n    else:\\n        return base**exponent',\n",
       " 'equation': <function __main__.equation(base, exponent, translation)>,\n",
       " '_i2': 'equation(2,6)',\n",
       " '_2': 64,\n",
       " '_i3': '(2,6,2)',\n",
       " '_3': (2, 6, 2),\n",
       " '_i4': 'equation(2,6,2)',\n",
       " '_4': 8.0,\n",
       " '_i5': 'equation(2, root = 2, exponent = 6)',\n",
       " '_5': 8.0,\n",
       " '_i6': \"def equation2(base, exponent = 4, message = 'Default Meassage'):\\n    print (message)\\n    return base**exponent\",\n",
       " 'equation2': <function __main__.equation2(base, exponent=4, message='Default Meassage')>,\n",
       " '_i7': 'equation2(2)',\n",
       " '_7': 16,\n",
       " '_i8': \"equation2(2,3,'Hello World')\",\n",
       " '_8': 8,\n",
       " '_i9': \"equation2(2, message = 'Hello World')\",\n",
       " '_9': 16,\n",
       " '_i10': 'def equation(base, exponent, translastion):',\n",
       " '_i11': 'equation(2,2,1)',\n",
       " '_11': 4.0,\n",
       " '_i12': 'def equation(base, exponent, translastion):\\n    temp = base**exponent\\n    \\n    def inner_translation_function(power):\\n        return power-translation\\n    return inner_translation_function(temp)',\n",
       " '_i13': 'equation(2,2,1)',\n",
       " '_i14': 'def equation(base, exponent, translation):\\n    temp = base**exponent\\n    \\n    def inner_translation_function(power):\\n        return power-translation\\n    return inner_translation_function(temp)',\n",
       " '_i15': 'def equation(base, exponent, translation):\\n    temp = base**exponent\\n    \\n    def inner_translation_function(power):\\n        return power-translation\\n    return inner_translation_function(temp)',\n",
       " '_i16': 'equation(2,2,1)',\n",
       " '_16': 3,\n",
       " '_i17': \"def C2F(c):\\n    converted_value = (9/5)*c+32\\n    print('Value of C inside the function C2F: {}'.format(c))\\n    return converted_value\",\n",
       " 'C2F': <function __main__.C2F(temp)>,\n",
       " '_i18': \"def C2F(c):\\n    converted_value = (9/5)*c+32\\n    print('Value of C inside the function C2F: {}'.format(c))\\n    return converted_value\\nc = 70\\nC2F(50)\\nprint('Value of C outside the function C2F:'{}.format(c))\",\n",
       " '_i19': \"def C2F(c):\\n    converted_value = (9/5)*c+32\\n    print('Value of C inside the function C2F: {}'.format(c))\\n    return converted_value\\nc = 70\\nC2F(50)\\nprint('Value of C outside the function C2F: {}'.format(c))\",\n",
       " 'c': 70,\n",
       " '_i20': \"c = 70\\ndef C2F(c):\\n    converted_value = (9/5)*c+32\\n    print('Value of C inside the function C2F: {}'.format(c))\\n    return converted_value\\n\\nC2F(50)\\nprint('Value of C outside the function C2F: {}'.format(c))\",\n",
       " '_i21': \"c = 70\\ndef C2F(c):\\n    converted_value = (9/5)*c+32\\n    print('Value of C inside the function C2F: {}'.format(c))\\n    return converted_value\\n\\nC2F(50)\\nprint('Value of C outside the function C2F: {}'.format(c))\",\n",
       " '_i22': \"c = 70\\ndef C2F(temp):\\n    converted_value = (9/5)*temp+32\\n    print('Value of C inside the function C2F: {}'.format(c))\\n    return converted_value\\n\\nC2F(50)\\nprint('Value of C outside the function C2F: {}'.format(c))\",\n",
       " '_i23': \"def C2F2():\\n    global c\\n    converted_value = (9/5)*c+32\\n    print('Value of C inside the functuon C2F: {}'.format(c))\\n    return converted_value\\n    \\n    \",\n",
       " 'C2F2': <function __main__.C2F2()>,\n",
       " '_i24': 'globals(c)',\n",
       " '_i25': 'globals()'}"
      ]
     },
     "execution_count": 25,
     "metadata": {},
     "output_type": "execute_result"
    }
   ],
   "source": [
    "globals()"
   ]
  },
  {
   "cell_type": "markdown",
   "id": "7be53c22",
   "metadata": {},
   "source": [
    "# Function Compostition\n",
    "Example: Compute the Area of a Disc"
   ]
  },
  {
   "cell_type": "code",
   "execution_count": 26,
   "id": "d549cd87",
   "metadata": {},
   "outputs": [],
   "source": [
    "def distance(x1,y1,x2,y2):\n",
    "    return ((x1-x2)**2+(y1-y2)**2)\n",
    "def area (x1,y1,x2,y2):\n",
    "    return 3.1415926*distance(x1,y1,x2,y2)"
   ]
  },
  {
   "cell_type": "code",
   "execution_count": 27,
   "id": "94c6f598",
   "metadata": {},
   "outputs": [
    {
     "data": {
      "text/plain": [
       "3.1415926"
      ]
     },
     "execution_count": 27,
     "metadata": {},
     "output_type": "execute_result"
    }
   ],
   "source": [
    "area(0,0,1,0)"
   ]
  },
  {
   "cell_type": "code",
   "execution_count": 28,
   "id": "1b0ce099",
   "metadata": {},
   "outputs": [
    {
     "data": {
      "text/plain": [
       "25.1327408"
      ]
     },
     "execution_count": 28,
     "metadata": {},
     "output_type": "execute_result"
    }
   ],
   "source": [
    "area(0,0,2,2)"
   ]
  },
  {
   "cell_type": "markdown",
   "id": "044a630c",
   "metadata": {},
   "source": [
    "## Live Example\n",
    "**Goal:** Create a function which computes all prime numbers less than a given integer."
   ]
  },
  {
   "cell_type": "code",
   "execution_count": 1,
   "id": "2f738f1e",
   "metadata": {},
   "outputs": [],
   "source": [
    "def divisors(x):\n",
    "    # Output a list of all integer divisiors of x\n",
    "    divs = []\n",
    "    counter = 1 \n",
    "    while counter <= x:\n",
    "        \n",
    "        if divmod(x,counter)[1] == 0:\n",
    "            divs.append(counter)\n",
    "        #if x%counter == 0:\n",
    "        #   divs.append(counter)\n",
    "        counter += 1\n",
    "    \n",
    "    return divs\n",
    "    "
   ]
  },
  {
   "cell_type": "code",
   "execution_count": 2,
   "id": "fa44b851",
   "metadata": {},
   "outputs": [
    {
     "data": {
      "text/plain": [
       "[1, 2, 5, 10]"
      ]
     },
     "execution_count": 2,
     "metadata": {},
     "output_type": "execute_result"
    }
   ],
   "source": [
    "divisors(10)\n",
    "    "
   ]
  },
  {
   "cell_type": "code",
   "execution_count": null,
   "id": "f1badda1",
   "metadata": {},
   "outputs": [],
   "source": []
  }
 ],
 "metadata": {
  "kernelspec": {
   "display_name": "Python 3 (ipykernel)",
   "language": "python",
   "name": "python3"
  },
  "language_info": {
   "codemirror_mode": {
    "name": "ipython",
    "version": 3
   },
   "file_extension": ".py",
   "mimetype": "text/x-python",
   "name": "python",
   "nbconvert_exporter": "python",
   "pygments_lexer": "ipython3",
   "version": "3.8.10"
  }
 },
 "nbformat": 4,
 "nbformat_minor": 5
}
