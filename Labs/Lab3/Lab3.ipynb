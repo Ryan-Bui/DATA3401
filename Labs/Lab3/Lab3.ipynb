{
 "cells": [
  {
   "cell_type": "markdown",
   "id": "c4e530bd",
   "metadata": {},
   "source": [
    "# Problem 1\n",
    "Write a function that computes the first n Fibonacci numbers for a given integer n. The first two Fibonacci numbers are 1, and the subsequent numbers are obtained by adding the previous two (so the first 6 Fibonacci numbers are 1, 1, 2, 3, 5, 8). Test your function with n = 12."
   ]
  },
  {
   "cell_type": "code",
   "execution_count": 91,
   "id": "6fd60ebc",
   "metadata": {},
   "outputs": [],
   "source": [
    "def fibnum(fnum):\n",
    "    f0 = 0\n",
    "    f1 = 1\n",
    "    f0_f1 = 1\n",
    "    counter = 1\n",
    "    if fnum == 0:\n",
    "        print('0')\n",
    "    if fnum <0:\n",
    "        return 'Only Doing Positive Fibonacci Numbers Here!'\n",
    "    while counter <= fnum:\n",
    "        f0 = f1\n",
    "        f1 = f0_f1\n",
    "        f0_f1 = f0 + f1\n",
    "        counter += 1\n",
    "        print (f0,)"
   ]
  },
  {
   "cell_type": "code",
   "execution_count": 95,
   "id": "a0450d1c",
   "metadata": {},
   "outputs": [
    {
     "name": "stdout",
     "output_type": "stream",
     "text": [
      "1\n",
      "1\n",
      "2\n",
      "3\n",
      "5\n",
      "8\n",
      "13\n",
      "21\n",
      "34\n",
      "55\n",
      "89\n",
      "144\n"
     ]
    }
   ],
   "source": [
    "fibnum(12)\n",
    "\n"
   ]
  },
  {
   "cell_type": "markdown",
   "id": "d5a4d1a8",
   "metadata": {},
   "source": [
    "# Problem 2:\n",
    "Write two functions even(x) and odd(x) that test if an integer x is even (or odd), and returns True if x is even (or odd) and False otherwise. Test both of your functions for correctness in the second and third cells below"
   ]
  },
  {
   "cell_type": "code",
   "execution_count": 129,
   "id": "290250fa",
   "metadata": {},
   "outputs": [],
   "source": [
    "def even(x):\n",
    "    if type(x)==int and x%2 == 0:\n",
    "        print('True')\n",
    "    if type(x)==int and x%2 != 0:\n",
    "        print('False')\n",
    "    if type(x)!=int:\n",
    "        print('Error: Did not Input Integer')\n",
    "        \n",
    "def odd(x):\n",
    "    if type(x)==int and x%2 != 0:\n",
    "        print('True')\n",
    "    if type(x)==int and x%2 == 0:\n",
    "        print('False')\n",
    "    if type(x)!=int:\n",
    "        print('Error: Did not Input Integer')\n",
    "        \n",
    "\n"
   ]
  },
  {
   "cell_type": "code",
   "execution_count": 130,
   "id": "a83a7d42",
   "metadata": {},
   "outputs": [
    {
     "name": "stdout",
     "output_type": "stream",
     "text": [
      "False\n",
      "True\n",
      "Error: Did not Input Integer\n"
     ]
    }
   ],
   "source": [
    "even(31)\n",
    "even(42)\n",
    "even(1.5)\n",
    "     \n",
    "\n"
   ]
  },
  {
   "cell_type": "code",
   "execution_count": 124,
   "id": "39a0c045",
   "metadata": {},
   "outputs": [
    {
     "name": "stdout",
     "output_type": "stream",
     "text": [
      "True\n",
      "False\n",
      "Error: Did not Input Integer\n"
     ]
    }
   ],
   "source": [
    "odd(31)\n",
    "odd(42)\n",
    "odd(1.5)"
   ]
  },
  {
   "cell_type": "markdown",
   "id": "c43e7c28",
   "metadata": {},
   "source": [
    "# Problem 3:\n",
    "Write a function that takes in a list of numbers, and outputs the maximum number in the list."
   ]
  },
  {
   "cell_type": "code",
   "execution_count": 140,
   "id": "b42cccde",
   "metadata": {},
   "outputs": [],
   "source": [
    "def list_max(listx = []):\n",
    "    maxnum = listx[0] if listx else None\n",
    "    for i in listx:\n",
    "        if i>maxnum:\n",
    "            maxnum=i\n",
    "    print('Largest number is {}'.format(maxnum))\n",
    "        "
   ]
  },
  {
   "cell_type": "code",
   "execution_count": 141,
   "id": "3387d41e",
   "metadata": {},
   "outputs": [
    {
     "name": "stdout",
     "output_type": "stream",
     "text": [
      "Largest number is 81\n"
     ]
    }
   ],
   "source": [
    "list_max([5,3,25,81,62,33])"
   ]
  },
  {
   "cell_type": "markdown",
   "id": "0c94a32c",
   "metadata": {},
   "source": [
    "# Problem 4:\n",
    "Write a function that takes a list of numbers as input and returns a list of the subset of elements that are less that 10. Test your solution."
   ]
  },
  {
   "cell_type": "code",
   "execution_count": 147,
   "id": "47d6f80b",
   "metadata": {},
   "outputs": [],
   "source": [
    "def tenless(listy = []):\n",
    "    for i in listy:\n",
    "        if i<10:\n",
    "            print('This is an element that is less than 10: {}'.format(i))"
   ]
  },
  {
   "cell_type": "code",
   "execution_count": 148,
   "id": "b095dbd2",
   "metadata": {},
   "outputs": [
    {
     "name": "stdout",
     "output_type": "stream",
     "text": [
      "This is an element that is less than 10: 5\n",
      "This is an element that is less than 10: 6\n",
      "This is an element that is less than 10: 7\n",
      "This is an element that is less than 10: 5\n"
     ]
    }
   ],
   "source": [
    "tenless([5,6,7,14,15,5])"
   ]
  },
  {
   "cell_type": "markdown",
   "id": "c84f2514",
   "metadata": {},
   "source": [
    "# Problem 5:\n",
    "Write a function that takes a number x_max as input and returns a function that performs the same task as exercise 2, but for x_max instead of 10."
   ]
  },
  {
   "cell_type": "code",
   "execution_count": 213,
   "id": "c4823f6f",
   "metadata": {},
   "outputs": [],
   "source": [
    "def maxelem(x_max, listy = []):\n",
    "    templist = listy\n",
    "    def tenless2(templist):\n",
    "        for i in templist:\n",
    "             if i<x_max:\n",
    "                print('This is an element that is less than x_max: {}'.format(i))\n",
    "    return(tenless2(templist))"
   ]
  },
  {
   "cell_type": "code",
   "execution_count": 214,
   "id": "185b7fe4",
   "metadata": {},
   "outputs": [
    {
     "name": "stdout",
     "output_type": "stream",
     "text": [
      "This is an element that is less than x_max: 15\n",
      "This is an element that is less than x_max: 10\n",
      "This is an element that is less than x_max: 16\n"
     ]
    }
   ],
   "source": [
    "maxelem(20, [20,34,23,15,10,16])"
   ]
  },
  {
   "cell_type": "markdown",
   "id": "1438220b",
   "metadata": {},
   "source": [
    "# Problem 6:\n",
    "Write a function that takes an integer and returns all its divisors (for example, the divisors of 18 are 1, 2, 3, 6, 9, and 18)"
   ]
  },
  {
   "cell_type": "code",
   "execution_count": 215,
   "id": "7838c6a6",
   "metadata": {},
   "outputs": [],
   "source": [
    "def divisors(x):\n",
    "    # Output a list of all integer divisiors of x\n",
    "    divs = []\n",
    "    counter = 1 \n",
    "    while counter <= x:\n",
    "        \n",
    "        if x%counter == 0:\n",
    "            divs.append(counter)\n",
    "        counter += 1\n",
    "    return divs"
   ]
  },
  {
   "cell_type": "code",
   "execution_count": 217,
   "id": "ee7e4afc",
   "metadata": {},
   "outputs": [
    {
     "data": {
      "text/plain": [
       "[1, 2, 3, 4, 6, 9, 12, 18, 36]"
      ]
     },
     "execution_count": 217,
     "metadata": {},
     "output_type": "execute_result"
    }
   ],
   "source": [
    "divisors(36)"
   ]
  },
  {
   "cell_type": "markdown",
   "id": "d2aa8159",
   "metadata": {},
   "source": [
    "# Problem 7: \n",
    "Write a function that reads takes a string and returns True if the string is a palindrome. (A palindrome is a string that reads the same forwards and backwards.)"
   ]
  },
  {
   "cell_type": "code",
   "execution_count": 255,
   "id": "b9d9107e",
   "metadata": {},
   "outputs": [],
   "source": [
    "def palinttest(input):\n",
    "    def reverse(input):\n",
    "        string = ''.join(reversed(input))\n",
    "        return string\n",
    "    if input == reverse(input):\n",
    "        print('True') \n",
    "    else: \n",
    "        print('False')\n",
    "        "
   ]
  },
  {
   "cell_type": "code",
   "execution_count": 262,
   "id": "55cf5488",
   "metadata": {},
   "outputs": [
    {
     "name": "stdout",
     "output_type": "stream",
     "text": [
      "True\n",
      "False\n"
     ]
    }
   ],
   "source": [
    "palinttest('racecar')\n",
    "palinttest('ryan')\n"
   ]
  },
  {
   "cell_type": "markdown",
   "id": "7c9b7525",
   "metadata": {},
   "source": [
    "# Problem 8:\n",
    "Write a function that takes an integer input between 1 and 10. If the input is 4, 5, or 6, then display a message 'Congratulations, you win the prize!'. If the input is less than 4 or greater than 6, then display a mesage 'Sorry, try again.' If the input is less than 1, greater than 10, or not an integer, display a message 'Invalid input, please input an integer between 1 and 10'."
   ]
  },
  {
   "cell_type": "code",
   "execution_count": 391,
   "id": "0ce0d75d",
   "metadata": {},
   "outputs": [],
   "source": [
    "def prize(input):\n",
    "    if input == 4 or input == 5 or input == 6:\n",
    "        print('Congratulations, You win the prize!')\n",
    "    if input <4 and input>=1:\n",
    "         print('Sorry, try again')\n",
    "    if input >6 and input<=10:\n",
    "         print('Sorry, try again')\n",
    "    if input >10 or input<1 or type(input) != int:\n",
    "        print('Invalid input, please input an integer between 1 and 10')\n",
    "  "
   ]
  },
  {
   "cell_type": "code",
   "execution_count": 400,
   "id": "87b7c718",
   "metadata": {},
   "outputs": [
    {
     "name": "stdout",
     "output_type": "stream",
     "text": [
      "Congratulations, You win the prize!\n",
      "Congratulations, You win the prize!\n",
      "Congratulations, You win the prize!\n",
      "Sorry, try again\n",
      "Sorry, try again\n",
      "Invalid input, please input an integer between 1 and 10\n",
      "Invalid input, please input an integer between 1 and 10\n"
     ]
    }
   ],
   "source": [
    "prize(4)\n",
    "prize(5)\n",
    "prize(6)\n",
    "prize(10)\n",
    "prize(3)\n",
    "prize(0)\n",
    "prize(11)\n"
   ]
  },
  {
   "cell_type": "markdown",
   "id": "825c147b",
   "metadata": {},
   "source": [
    "# Problem 9\n",
    "Write a Rock-Paper-Scissors game function, that takes 2 strings, the inputs of player 1 and player 2, and output 1 or 2 corresponding to which player wins, or 0 if draw.\n",
    "\n",
    "Implement a Rock-Paper-Scissors game by soliciting input from 2 players, testing with this function, and repeating if there is a draw.\n",
    "\n",
    "Remember the rules:\n",
    "\n",
    "Rock beats scissors\n",
    "Scissors beats paper\n",
    "Paper beats rock"
   ]
  },
  {
   "cell_type": "code",
   "execution_count": 19,
   "id": "288818a7",
   "metadata": {},
   "outputs": [],
   "source": [
    "def RPS(player_1 = '', player_2 = ''):\n",
    "    if 'Rock'in player_1 and 'Paper' in player_2:\n",
    "        result = 2\n",
    "        print(result)\n",
    "    if 'Rock'in player_1 and 'Scissors'in player_2:\n",
    "        result = 1\n",
    "        print(result)\n",
    "    if 'Rock'in player_1 and 'Rock' in player_2:\n",
    "        result = 0\n",
    "        print(result)\n",
    "    if 'Scissors' in player_1 and 'Rock'in player_2:\n",
    "        result = 2\n",
    "        print(result)\n",
    "    if 'Scissors'in player_1 and 'Paper'in player_2:\n",
    "        result = 1\n",
    "        print(result)\n",
    "    if 'Scissors'in player_1 and 'Scissors'in player_2:\n",
    "        result = 0\n",
    "        print(result)\n",
    "    if 'Paper'in player_1 and 'Rock'in player_2:\n",
    "        result = 1\n",
    "        print(result)\n",
    "    if 'Paper'in player_1 and 'Scissors'in player_2:\n",
    "        result = 2\n",
    "        print(result)\n",
    "    if 'Paper'in player_1 and 'Paper'in player_2:\n",
    "        result = 0\n",
    "        print(result)\n",
    "        "
   ]
  },
  {
   "cell_type": "code",
   "execution_count": 21,
   "id": "f928c8e1",
   "metadata": {},
   "outputs": [
    {
     "name": "stdout",
     "output_type": "stream",
     "text": [
      "0\n",
      "1\n",
      "2\n",
      "0\n",
      "2\n",
      "1\n",
      "0\n",
      "2\n",
      "1\n"
     ]
    }
   ],
   "source": [
    "RPS('Scissors','Scissors')\n",
    "RPS('Scissors', 'Paper')\n",
    "RPS('Scissors', 'Rock')\n",
    "RPS('Rock', 'Rock')\n",
    "RPS('Rock', 'Paper')\n",
    "RPS('Rock', 'Scissors')\n",
    "RPS('Paper', 'Paper')\n",
    "RPS('Paper', 'Scissors')\n",
    "RPS('Paper', 'Rock')"
   ]
  },
  {
   "cell_type": "code",
   "execution_count": null,
   "id": "ff7c634a",
   "metadata": {},
   "outputs": [],
   "source": []
  },
  {
   "cell_type": "code",
   "execution_count": null,
   "id": "5fdc0329",
   "metadata": {},
   "outputs": [],
   "source": []
  }
 ],
 "metadata": {
  "kernelspec": {
   "display_name": "Python 3 (ipykernel)",
   "language": "python",
   "name": "python3"
  },
  "language_info": {
   "codemirror_mode": {
    "name": "ipython",
    "version": 3
   },
   "file_extension": ".py",
   "mimetype": "text/x-python",
   "name": "python",
   "nbconvert_exporter": "python",
   "pygments_lexer": "ipython3",
   "version": "3.8.10"
  }
 },
 "nbformat": 4,
 "nbformat_minor": 5
}
