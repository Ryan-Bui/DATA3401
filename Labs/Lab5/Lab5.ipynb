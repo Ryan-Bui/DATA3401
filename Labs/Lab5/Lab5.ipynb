{
 "cells": [
  {
   "cell_type": "markdown",
   "id": "3915ace2",
   "metadata": {},
   "source": [
    "## Exercise 1\n",
    "Create a function matrix(...) that will create a matrix with m rows of length n. Initialize all entries to take value value, which defaults to be 0 if unspecified."
   ]
  },
  {
   "cell_type": "code",
   "execution_count": 325,
   "id": "b9d63b67",
   "metadata": {},
   "outputs": [],
   "source": [
    "def matrix(m,n,value=0):\n",
    "    return  [[value]*n for i in range(m)]\n",
    "    \n",
    "def display_matrix(matrix):\n",
    "    for i in range(len(matrix)):\n",
    "        print(matrix[i])\n",
    "    \n",
    "            \n",
    "    \n",
    "    "
   ]
  },
  {
   "cell_type": "code",
   "execution_count": 326,
   "id": "29946594",
   "metadata": {},
   "outputs": [
    {
     "name": "stdout",
     "output_type": "stream",
     "text": [
      "[3, 3, 3, 3]\n",
      "[3, 3, 3, 3]\n",
      "[3, 3, 3, 3]\n",
      "[3, 3, 3, 3]\n",
      "[3, 3, 3, 3]\n"
     ]
    }
   ],
   "source": [
    "m_1 = matrix(5,4,3)\n",
    "display_matrix(m_1)\n"
   ]
  },
  {
   "cell_type": "code",
   "execution_count": 7,
   "id": "d661f13b",
   "metadata": {},
   "outputs": [
    {
     "name": "stdout",
     "output_type": "stream",
     "text": [
      "[2, 2, 2]\n",
      "[2, 2, 2]\n",
      "[2, 2, 2]\n"
     ]
    }
   ],
   "source": [
    "m_2 = matrix(3,3,2)\n",
    "display_matrix(m_2)\n"
   ]
  },
  {
   "cell_type": "code",
   "execution_count": 87,
   "id": "59624af2",
   "metadata": {},
   "outputs": [
    {
     "name": "stdout",
     "output_type": "stream",
     "text": [
      "[8, 8, 8, 8, 8, 8, 8]\n",
      "[8, 8, 8, 8, 8, 8, 8]\n",
      "[8, 8, 8, 8, 8, 8, 8]\n",
      "[8, 8, 8, 8, 8, 8, 8]\n",
      "[8, 8, 8, 8, 8, 8, 8]\n",
      "[8, 8, 8, 8, 8, 8, 8]\n",
      "[8, 8, 8, 8, 8, 8, 8]\n",
      "[8, 8, 8, 8, 8, 8, 8]\n",
      "[8, 8, 8, 8, 8, 8, 8]\n"
     ]
    }
   ],
   "source": [
    "m_3 = matrix(9,7,8)\n",
    "display_matrix(m_3)\n"
   ]
  },
  {
   "cell_type": "markdown",
   "id": "46c2c653",
   "metadata": {},
   "source": [
    "## Exercise 2\n",
    "Write a function to check if two matrices are equal (Note: you should first check that they are the same size!)"
   ]
  },
  {
   "cell_type": "code",
   "execution_count": 77,
   "id": "007a7904",
   "metadata": {},
   "outputs": [],
   "source": [
    "def check_size(mtx1,mtx2):\n",
    "    width1=mtx1[0]\n",
    "    width2=mtx2[0]\n",
    "    \n",
    "    if len(mtx1)!=len(mtx2) or len(width1)!=len(width2):\n",
    "        return False\n",
    "    else:\n",
    "        return True\n",
    "    \n",
    "    \n",
    "def is_equal(mtx1,mtx2):\n",
    "    if check_size(mtx1,mtx2) == False:\n",
    "        return False\n",
    "    mtx1_flat = [i for x in mtx1 for i in x]\n",
    "    mtx2_flat = [j for y in mtx2 for j in y]\n",
    "    \n",
    "    if mtx1_flat == mtx2_flat:\n",
    "        return True\n",
    "    else:\n",
    "        return False\n",
    "    \n",
    "    \n"
   ]
  },
  {
   "cell_type": "code",
   "execution_count": 78,
   "id": "6d4a29d5",
   "metadata": {},
   "outputs": [
    {
     "name": "stdout",
     "output_type": "stream",
     "text": [
      "[5, 5, 5]\n",
      "[5, 5, 5]\n",
      "[5, 5, 5]\n"
     ]
    }
   ],
   "source": [
    "m_4 = matrix(3,3,5)\n",
    "display_matrix(m_4)"
   ]
  },
  {
   "cell_type": "code",
   "execution_count": 81,
   "id": "9ca4e364",
   "metadata": {},
   "outputs": [
    {
     "name": "stdout",
     "output_type": "stream",
     "text": [
      "[2, 2, 2]\n",
      "[2, 2, 2]\n",
      "[2, 2, 2]\n"
     ]
    }
   ],
   "source": [
    "m_2 = matrix(3,3,2)\n",
    "display_matrix(m_2)"
   ]
  },
  {
   "cell_type": "code",
   "execution_count": 82,
   "id": "0d5c02d5",
   "metadata": {},
   "outputs": [
    {
     "data": {
      "text/plain": [
       "True"
      ]
     },
     "execution_count": 82,
     "metadata": {},
     "output_type": "execute_result"
    }
   ],
   "source": [
    "check_size(m_4,m_2)"
   ]
  },
  {
   "cell_type": "code",
   "execution_count": 83,
   "id": "6af141ac",
   "metadata": {},
   "outputs": [
    {
     "data": {
      "text/plain": [
       "False"
      ]
     },
     "execution_count": 83,
     "metadata": {},
     "output_type": "execute_result"
    }
   ],
   "source": [
    "is_equal(m_4,m_2)"
   ]
  },
  {
   "cell_type": "code",
   "execution_count": 85,
   "id": "c5c54af8",
   "metadata": {},
   "outputs": [
    {
     "name": "stdout",
     "output_type": "stream",
     "text": [
      "[5, 5, 5]\n",
      "[5, 5, 5]\n",
      "[5, 5, 5]\n"
     ]
    }
   ],
   "source": [
    "m_5 = matrix(3,3,5)\n",
    "display_matrix(m_5)"
   ]
  },
  {
   "cell_type": "code",
   "execution_count": 86,
   "id": "2d22a392",
   "metadata": {},
   "outputs": [
    {
     "data": {
      "text/plain": [
       "True"
      ]
     },
     "execution_count": 86,
     "metadata": {},
     "output_type": "execute_result"
    }
   ],
   "source": [
    "is_equal(m_4,m_5)"
   ]
  },
  {
   "cell_type": "markdown",
   "id": "087856d9",
   "metadata": {},
   "source": [
    "## Exercise 3\n",
    "Write the following functions for your matrix:\n",
    "\n",
    "1. shape(matrix) that returns a tuple of the form (m,n) with the number of rows (m) and columns (n) of the matrix\n",
    "2. transpose(matrix) that returns the transpose (matrix[i][j] becomes matrix[j][i])\n",
    "3. row(matrix,i) and col(matrix,j) that return a list of the i--th row and the j--th column of the matrix\n",
    "4. block(matrix,m0,m1,n0,n1) that returns a new matrix which has the original matrix entries where the rows are between m0 and m1 (inclusive) and columns are between n0 and n1"
   ]
  },
  {
   "cell_type": "code",
   "execution_count": 87,
   "id": "361d7af0",
   "metadata": {},
   "outputs": [],
   "source": [
    "def shape(matrix):\n",
    "    width_matrix = matrix[0]\n",
    "    return len(matrix), len(width_matrix)"
   ]
  },
  {
   "cell_type": "code",
   "execution_count": 93,
   "id": "5d29efc2",
   "metadata": {},
   "outputs": [
    {
     "name": "stdout",
     "output_type": "stream",
     "text": [
      "[3, 3, 3, 3]\n",
      "[3, 3, 3, 3]\n",
      "[3, 3, 3, 3]\n",
      "[3, 3, 3, 3]\n",
      "[3, 3, 3, 3]\n"
     ]
    }
   ],
   "source": [
    "m_1 = matrix(5,4,3)\n",
    "display_matrix(m_1)"
   ]
  },
  {
   "cell_type": "code",
   "execution_count": 91,
   "id": "053553e3",
   "metadata": {},
   "outputs": [
    {
     "data": {
      "text/plain": [
       "(5, 4)"
      ]
     },
     "execution_count": 91,
     "metadata": {},
     "output_type": "execute_result"
    }
   ],
   "source": [
    "shape_0 = shape(m_1)\n",
    "shape_0"
   ]
  },
  {
   "cell_type": "code",
   "execution_count": 92,
   "id": "88938922",
   "metadata": {},
   "outputs": [
    {
     "data": {
      "text/plain": [
       "tuple"
      ]
     },
     "execution_count": 92,
     "metadata": {},
     "output_type": "execute_result"
    }
   ],
   "source": [
    "type(shape_0)"
   ]
  },
  {
   "cell_type": "code",
   "execution_count": 122,
   "id": "ba46d874",
   "metadata": {},
   "outputs": [],
   "source": [
    "def transpose(matrix):\n",
    "    org_value = matrix[0][0]\n",
    "    new_len = shape(matrix)[1]\n",
    "    new_width = shape(matrix)[0]\n",
    "    \n",
    "    def create_new_matrix(new_len,new_width,org_value):\n",
    "        return  [[org_value]*new_width for i in range(new_len)]\n",
    "    new_matrix = create_new_matrix(new_len,new_width,org_value) \n",
    "    return new_matrix\n",
    "        \n",
    "    "
   ]
  },
  {
   "cell_type": "code",
   "execution_count": 107,
   "id": "e18571d4",
   "metadata": {},
   "outputs": [],
   "source": [
    "transposed_m_1 = transpose(m_1)"
   ]
  },
  {
   "cell_type": "code",
   "execution_count": 108,
   "id": "68d9fbaf",
   "metadata": {},
   "outputs": [
    {
     "name": "stdout",
     "output_type": "stream",
     "text": [
      "[3, 3, 3, 3, 3]\n",
      "[3, 3, 3, 3, 3]\n",
      "[3, 3, 3, 3, 3]\n",
      "[3, 3, 3, 3, 3]\n"
     ]
    }
   ],
   "source": [
    "display_matrix(transposed_m_1)"
   ]
  },
  {
   "cell_type": "code",
   "execution_count": 363,
   "id": "a923fbf0",
   "metadata": {},
   "outputs": [],
   "source": [
    "def row(matrix,i):\n",
    "    return matrix[i-1]"
   ]
  },
  {
   "cell_type": "code",
   "execution_count": 365,
   "id": "80cd75f1",
   "metadata": {},
   "outputs": [
    {
     "name": "stdout",
     "output_type": "stream",
     "text": [
      "[1, 0, 0]\n",
      "[0, 1, 0]\n",
      "[0, 0, 1]\n"
     ]
    }
   ],
   "source": [
    "display_matrix(testing)"
   ]
  },
  {
   "cell_type": "code",
   "execution_count": 528,
   "id": "dc82aeb6",
   "metadata": {},
   "outputs": [
    {
     "data": {
      "text/plain": [
       "list"
      ]
     },
     "execution_count": 528,
     "metadata": {},
     "output_type": "execute_result"
    }
   ],
   "source": [
    "is_type = row(testing,3)\n",
    "type(is_type)"
   ]
  },
  {
   "cell_type": "code",
   "execution_count": 443,
   "id": "cac15780",
   "metadata": {},
   "outputs": [],
   "source": [
    "def col(matrix,j):\n",
    "    len_matrix = shape(matrix)[0]\n",
    "    width_matrix = shape(matrix)[1]\n",
    "    out = []\n",
    "    for i in range(len_matrix):\n",
    "        out.append([matrix[i][j-1]])\n",
    "    return out\n",
    "\n",
    "               \n"
   ]
  },
  {
   "cell_type": "code",
   "execution_count": 444,
   "id": "f5a90aed",
   "metadata": {},
   "outputs": [
    {
     "name": "stdout",
     "output_type": "stream",
     "text": [
      "[1, 0, 0]\n",
      "[0, 1, 0]\n",
      "[0, 0, 1]\n"
     ]
    }
   ],
   "source": [
    "display_matrix(testing)"
   ]
  },
  {
   "cell_type": "code",
   "execution_count": 449,
   "id": "28e2a93b",
   "metadata": {},
   "outputs": [
    {
     "name": "stdout",
     "output_type": "stream",
     "text": [
      "[0]\n",
      "[1]\n",
      "[0]\n"
     ]
    }
   ],
   "source": [
    "test_1 = col(testing,2)\n",
    "type(rand)\n",
    "display_matrix(rand)"
   ]
  },
  {
   "cell_type": "code",
   "execution_count": 451,
   "id": "287f9482",
   "metadata": {},
   "outputs": [
    {
     "name": "stdout",
     "output_type": "stream",
     "text": [
      "[1]\n",
      "[0]\n",
      "[0]\n"
     ]
    }
   ],
   "source": [
    "test_2 = col(testing,1)\n",
    "display_matrix(test_2)"
   ]
  },
  {
   "cell_type": "code",
   "execution_count": 452,
   "id": "e33c759c",
   "metadata": {},
   "outputs": [
    {
     "name": "stdout",
     "output_type": "stream",
     "text": [
      "[0]\n",
      "[0]\n",
      "[1]\n"
     ]
    }
   ],
   "source": [
    "test_3 = col(testing,3)\n",
    "display_matrix(test_3)"
   ]
  },
  {
   "cell_type": "code",
   "execution_count": null,
   "id": "70ea5b7f",
   "metadata": {},
   "outputs": [],
   "source": [
    "def block(matrix,m0,m1,n0,n1):\n",
    "    "
   ]
  },
  {
   "cell_type": "markdown",
   "id": "68f8aa51",
   "metadata": {},
   "source": [
    "## Exercise 4\n",
    "Write functions to make the following special types of matrices:\n",
    "\n",
    "1. Identity matrices: eye(n) should have value 1 on its diagonal and 0 elsewhere\n",
    "2. zeros(m,n) and ones(m,n) that create matrices with all 0 and all 1 entries, respectively."
   ]
  },
  {
   "cell_type": "code",
   "execution_count": 177,
   "id": "53665c29",
   "metadata": {},
   "outputs": [],
   "source": [
    "empty = 0\n",
    "def matrix_zeroes(m,n):\n",
    "    return  [[empty]*n for i in range(m)]\n",
    "\n",
    "    \n",
    "    "
   ]
  },
  {
   "cell_type": "code",
   "execution_count": 178,
   "id": "c5a42d03",
   "metadata": {},
   "outputs": [
    {
     "data": {
      "text/plain": [
       "[[0, 0, 0, 0], [0, 0, 0, 0], [0, 0, 0, 0]]"
      ]
     },
     "execution_count": 178,
     "metadata": {},
     "output_type": "execute_result"
    }
   ],
   "source": [
    "matrix_zeroes(3,4)"
   ]
  },
  {
   "cell_type": "code",
   "execution_count": 175,
   "id": "4a043c60",
   "metadata": {},
   "outputs": [],
   "source": [
    "def matrix_ones(m,n):\n",
    "    return [[1]*n for i in range(m)]"
   ]
  },
  {
   "cell_type": "code",
   "execution_count": 176,
   "id": "5b4b5b82",
   "metadata": {},
   "outputs": [
    {
     "data": {
      "text/plain": [
       "[[1, 1, 1, 1, 1], [1, 1, 1, 1, 1], [1, 1, 1, 1, 1]]"
      ]
     },
     "execution_count": 176,
     "metadata": {},
     "output_type": "execute_result"
    }
   ],
   "source": [
    "matrix_ones(3,5)"
   ]
  },
  {
   "cell_type": "code",
   "execution_count": 183,
   "id": "45e226bc",
   "metadata": {},
   "outputs": [],
   "source": [
    "def identity_matrix(n):\n",
    "    matrix = matrix_zeroes(n,n)\n",
    "    for i in range(n):\n",
    "        matrix[i][i] = 1\n",
    "    return matrix\n",
    "            \n",
    "    \n",
    "        "
   ]
  },
  {
   "cell_type": "code",
   "execution_count": 327,
   "id": "9e5b8119",
   "metadata": {},
   "outputs": [],
   "source": [
    "testing = identity_matrix(3)"
   ]
  },
  {
   "cell_type": "code",
   "execution_count": 328,
   "id": "a0b998f2",
   "metadata": {},
   "outputs": [
    {
     "name": "stdout",
     "output_type": "stream",
     "text": [
      "[1, 0, 0]\n",
      "[0, 1, 0]\n",
      "[0, 0, 1]\n"
     ]
    }
   ],
   "source": [
    "display_matrix(testing)"
   ]
  },
  {
   "cell_type": "code",
   "execution_count": 193,
   "id": "5d4ad422",
   "metadata": {},
   "outputs": [],
   "source": [
    "testing_1 = identity_matrix(4)"
   ]
  },
  {
   "cell_type": "code",
   "execution_count": 195,
   "id": "6aea0424",
   "metadata": {},
   "outputs": [
    {
     "name": "stdout",
     "output_type": "stream",
     "text": [
      "[1, 0, 0, 0]\n",
      "[0, 1, 0, 0]\n",
      "[0, 0, 1, 0]\n",
      "[0, 0, 0, 1]\n"
     ]
    }
   ],
   "source": [
    "display_matrix(testing_1)"
   ]
  },
  {
   "cell_type": "code",
   "execution_count": 196,
   "id": "cd6bfc99",
   "metadata": {},
   "outputs": [],
   "source": [
    "testing_2 = identity_matrix(5)"
   ]
  },
  {
   "cell_type": "code",
   "execution_count": 197,
   "id": "1bf28fb2",
   "metadata": {},
   "outputs": [
    {
     "name": "stdout",
     "output_type": "stream",
     "text": [
      "[1, 0, 0, 0, 0]\n",
      "[0, 1, 0, 0, 0]\n",
      "[0, 0, 1, 0, 0]\n",
      "[0, 0, 0, 1, 0]\n",
      "[0, 0, 0, 0, 1]\n"
     ]
    }
   ],
   "source": [
    "display_matrix(testing_2)"
   ]
  },
  {
   "cell_type": "markdown",
   "id": "e21578cf",
   "metadata": {},
   "source": [
    "## Exercise 5\n",
    "Write functions to perform the following operations:\n",
    "\n",
    "1. Multiply a matrix by a scalar\n",
    "2. Take elementwise product of two matrices\n",
    "3. Take the dot product of two vectors and two matrices of the same size\n",
    "4. Multiply two matrices (note you should check that the sizes allow this)"
   ]
  },
  {
   "cell_type": "code",
   "execution_count": 333,
   "id": "0af0570d",
   "metadata": {},
   "outputs": [],
   "source": [
    "def scalar_matrix_multiply(scalar,matrix):\n",
    "    len_matrix = shape(matrix)[0] \n",
    "    width_matrix = shape(matrix)[1]\n",
    "    \n",
    "    def multiply_one_row(scalar,row):\n",
    "        out = []\n",
    "        for i in row:\n",
    "            out.append(scalar*i)\n",
    "        return out\n",
    "\n",
    "\n",
    "    for i in range(len_matrix):\n",
    "         print(multiply_one_row(3,matrix[i]))\n",
    "    \n",
    "    \n",
    "    \n",
    "                \n",
    "        "
   ]
  },
  {
   "cell_type": "code",
   "execution_count": 330,
   "id": "62dc86b2",
   "metadata": {},
   "outputs": [
    {
     "name": "stdout",
     "output_type": "stream",
     "text": [
      "[1, 0, 0]\n",
      "[0, 1, 0]\n",
      "[0, 0, 1]\n"
     ]
    }
   ],
   "source": [
    "testing = identity_matrix(3)\n",
    "display_matrix(testing)"
   ]
  },
  {
   "cell_type": "code",
   "execution_count": 353,
   "id": "75582c94",
   "metadata": {},
   "outputs": [
    {
     "name": "stdout",
     "output_type": "stream",
     "text": [
      "[3, 0, 0]\n",
      "[0, 3, 0]\n",
      "[0, 0, 3]\n"
     ]
    }
   ],
   "source": [
    "scalar_testing = scalar_matrix_multiply(3,testing)\n"
   ]
  },
  {
   "cell_type": "code",
   "execution_count": 331,
   "id": "b4f31ee4",
   "metadata": {},
   "outputs": [
    {
     "name": "stdout",
     "output_type": "stream",
     "text": [
      "[5, 5, 5]\n",
      "[5, 5, 5]\n",
      "[5, 5, 5]\n"
     ]
    }
   ],
   "source": [
    "m_5 = matrix(3,3,5)\n",
    "display_matrix(m_5)"
   ]
  },
  {
   "cell_type": "code",
   "execution_count": 334,
   "id": "4a68d648",
   "metadata": {},
   "outputs": [
    {
     "name": "stdout",
     "output_type": "stream",
     "text": [
      "[15, 15, 15]\n",
      "[15, 15, 15]\n",
      "[15, 15, 15]\n"
     ]
    }
   ],
   "source": [
    "scalar_matrix_multiply(3,m_5)"
   ]
  },
  {
   "cell_type": "code",
   "execution_count": 347,
   "id": "b7f708a9",
   "metadata": {},
   "outputs": [],
   "source": [
    "def element_product(mtx1,mtx2):\n",
    "    len_matrix1 = shape(mtx1)[0]\n",
    "    width_matrix1 = shape(mtx1)[1]\n",
    "    len_matrix2 = shape(mtx2)[0]\n",
    "    width_matrix2 = shape(mtx2)[1]\n",
    "    \n",
    "    def row_row_multiply(mtx1,mtx2):\n",
    "    ## NOT dot product!!!\n",
    "        if len_matrix1!=len_matrix2:\n",
    "            print(\"Error: lists must be the same length.\")\n",
    "            return None\n",
    "        else:\n",
    "            out = []\n",
    "            for item1,item2 in zip(mtx1,mtx2):\n",
    "                out.append(item1*item2)\n",
    "            return out\n",
    "    \n",
    "    def multiply_row(a,b):\n",
    "        if isinstance(a,(float,int)) and isinstance(b,(float,int)):\n",
    "            return a*b\n",
    "        elif isinstance(a,list) and isinstance(b,list):\n",
    "            return row_row_multiply(a,b)\n",
    "        elif isinstance (a,list) and isinstance(b,(float,int)):\n",
    "            multiply_one_row(b,a)\n",
    "        elif isinstance (b,list) and isinstance(a,(float,int)):\n",
    "            multiply_one_row(a,b)\n",
    "        else:\n",
    "            print(\"Invalid input.\")\n",
    "            return None\n",
    "        \n",
    "  \n",
    "    for i in range(len_matrix1):\n",
    "        print(multiply_row(mtx1[i],mtx2[i]))\n",
    "        "
   ]
  },
  {
   "cell_type": "code",
   "execution_count": 349,
   "id": "66ae5a25",
   "metadata": {},
   "outputs": [
    {
     "name": "stdout",
     "output_type": "stream",
     "text": [
      "[5, 5, 5]\n",
      "[5, 5, 5]\n",
      "[5, 5, 5]\n"
     ]
    }
   ],
   "source": [
    "display_matrix(m_5)"
   ]
  },
  {
   "cell_type": "code",
   "execution_count": 350,
   "id": "23d5e241",
   "metadata": {},
   "outputs": [
    {
     "name": "stdout",
     "output_type": "stream",
     "text": [
      "[2, 2, 2]\n",
      "[2, 2, 2]\n",
      "[2, 2, 2]\n"
     ]
    }
   ],
   "source": [
    "display_matrix(m_2)"
   ]
  },
  {
   "cell_type": "code",
   "execution_count": 348,
   "id": "8f661dbf",
   "metadata": {},
   "outputs": [
    {
     "name": "stdout",
     "output_type": "stream",
     "text": [
      "[10, 10, 10]\n",
      "[10, 10, 10]\n",
      "[10, 10, 10]\n"
     ]
    }
   ],
   "source": [
    "element_product(m_5,m_2)"
   ]
  },
  {
   "cell_type": "code",
   "execution_count": 357,
   "id": "1fe8d7bd",
   "metadata": {},
   "outputs": [
    {
     "name": "stdout",
     "output_type": "stream",
     "text": [
      "[0, 0, 0]\n",
      "[0, 0, 0]\n",
      "[0, 0, 0]\n"
     ]
    }
   ],
   "source": [
    "zero_matrix = matrix_zeroes(3,3)\n",
    "display_matrix(zero_matrix)\n"
   ]
  },
  {
   "cell_type": "code",
   "execution_count": 358,
   "id": "dbf028a4",
   "metadata": {},
   "outputs": [
    {
     "name": "stdout",
     "output_type": "stream",
     "text": [
      "[0, 0, 0]\n",
      "[0, 0, 0]\n",
      "[0, 0, 0]\n"
     ]
    }
   ],
   "source": [
    "element_product(m_5,zero_matrix)"
   ]
  },
  {
   "cell_type": "code",
   "execution_count": 592,
   "id": "efe69a12",
   "metadata": {},
   "outputs": [],
   "source": [
    "def dot_product(mtx1,mtx2):\n",
    "    matrix_len = shape(mtx1)[0]\n",
    "    if shape(mtx1) != shape(mtx2):\n",
    "        return print('Error: matrices must be square matrices')\n",
    "    out_1 = []\n",
    "    for i in range(matrix_len):\n",
    "        for j in row(mtx1,i+1):\n",
    "                out_1.append(col(mtx2,i)[i][i]*j)\n",
    "                return out_1\n",
    "            \n",
    "\n",
    "                     \n"
   ]
  },
  {
   "cell_type": "code",
   "execution_count": 593,
   "id": "0766db2c",
   "metadata": {},
   "outputs": [
    {
     "data": {
      "text/plain": [
       "[2]"
      ]
     },
     "execution_count": 593,
     "metadata": {},
     "output_type": "execute_result"
    }
   ],
   "source": [
    "dot_product(testing,m_2)"
   ]
  },
  {
   "cell_type": "code",
   "execution_count": 594,
   "id": "6d51dd4e",
   "metadata": {},
   "outputs": [
    {
     "data": {
      "text/plain": [
       "[1, 0, 0]"
      ]
     },
     "execution_count": 594,
     "metadata": {},
     "output_type": "execute_result"
    }
   ],
   "source": [
    "row(testing,1)"
   ]
  },
  {
   "cell_type": "code",
   "execution_count": 564,
   "id": "363a339b",
   "metadata": {},
   "outputs": [
    {
     "data": {
      "text/plain": [
       "1"
      ]
     },
     "execution_count": 564,
     "metadata": {},
     "output_type": "execute_result"
    }
   ],
   "source": [
    "row(testing,1)[0]"
   ]
  },
  {
   "cell_type": "code",
   "execution_count": 574,
   "id": "4de9a604",
   "metadata": {},
   "outputs": [
    {
     "data": {
      "text/plain": [
       "4"
      ]
     },
     "execution_count": 574,
     "metadata": {},
     "output_type": "execute_result"
    }
   ],
   "source": [
    "col(m_2,1)[0][0]*2"
   ]
  },
  {
   "cell_type": "code",
   "execution_count": null,
   "id": "7a231262",
   "metadata": {},
   "outputs": [],
   "source": []
  },
  {
   "cell_type": "code",
   "execution_count": null,
   "id": "8e0608cf",
   "metadata": {},
   "outputs": [],
   "source": []
  }
 ],
 "metadata": {
  "kernelspec": {
   "display_name": "Python 3 (ipykernel)",
   "language": "python",
   "name": "python3"
  },
  "language_info": {
   "codemirror_mode": {
    "name": "ipython",
    "version": 3
   },
   "file_extension": ".py",
   "mimetype": "text/x-python",
   "name": "python",
   "nbconvert_exporter": "python",
   "pygments_lexer": "ipython3",
   "version": "3.8.10"
  }
 },
 "nbformat": 4,
 "nbformat_minor": 5
}
