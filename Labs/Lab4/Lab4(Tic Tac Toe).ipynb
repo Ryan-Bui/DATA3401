{
 "cells": [
  {
   "cell_type": "markdown",
   "id": "6d7ba93a",
   "metadata": {},
   "source": [
    "# Exercise 1:\n",
    "Write a function that creates an n by n matrix (a list of lists) which will represent the state of a Tic Tac Toe game. Let 0, 1, and 2 represent empty, \"X\", or \"O\"."
   ]
  },
  {
   "cell_type": "code",
   "execution_count": 567,
   "id": "698a89b2",
   "metadata": {},
   "outputs": [],
   "source": [
    "player_1 = 1\n",
    "player_2 = 2\n",
    "empty = 0\n",
    "size = 3"
   ]
  },
  {
   "cell_type": "code",
   "execution_count": 41,
   "id": "0555af55",
   "metadata": {},
   "outputs": [
    {
     "data": {
      "text/plain": [
       "[[0, 0, 0], [0, 0, 0], [0, 0, 0]]"
      ]
     },
     "execution_count": 41,
     "metadata": {},
     "output_type": "execute_result"
    }
   ],
   "source": [
    "board3 = [[empty]*size for i in range(size)]\n",
    "board3"
   ]
  },
  {
   "cell_type": "code",
   "execution_count": 43,
   "id": "84728e82",
   "metadata": {},
   "outputs": [
    {
     "data": {
      "text/plain": [
       "[[0, 0, 0], [0, 1, 0], [0, 0, 0]]"
      ]
     },
     "execution_count": 43,
     "metadata": {},
     "output_type": "execute_result"
    }
   ],
   "source": [
    "board3[1][1] = 1\n",
    "board3"
   ]
  },
  {
   "cell_type": "code",
   "execution_count": null,
   "id": "0c29c396",
   "metadata": {},
   "outputs": [],
   "source": []
  },
  {
   "cell_type": "code",
   "execution_count": 566,
   "id": "bb157996",
   "metadata": {},
   "outputs": [
    {
     "ename": "SyntaxError",
     "evalue": "name 'size' is parameter and global (4089118672.py, line 3)",
     "output_type": "error",
     "traceback": [
      "\u001b[0;36m  File \u001b[0;32m\"/tmp/ipykernel_201/4089118672.py\"\u001b[0;36m, line \u001b[0;32m3\u001b[0m\n\u001b[0;31m    global size\u001b[0m\n\u001b[0m    ^\u001b[0m\n\u001b[0;31mSyntaxError\u001b[0m\u001b[0;31m:\u001b[0m name 'size' is parameter and global\n"
     ]
    }
   ],
   "source": [
    "def create_game_board(size):\n",
    "    board = [[empty]*size for i in range(size)]\n",
    "    \n",
    "\n",
    "    \n",
    "    return board\n",
    "    \n",
    "    "
   ]
  },
  {
   "cell_type": "code",
   "execution_count": 563,
   "id": "29b4560d",
   "metadata": {},
   "outputs": [
    {
     "data": {
      "text/plain": [
       "[[0, 0, 0, 0, 0, 0, 0, 0],\n",
       " [0, 0, 0, 0, 0, 0, 0, 0],\n",
       " [0, 0, 0, 0, 0, 0, 0, 0],\n",
       " [0, 0, 0, 0, 0, 0, 0, 0],\n",
       " [0, 0, 0, 0, 0, 0, 0, 0],\n",
       " [0, 0, 0, 0, 0, 0, 0, 0],\n",
       " [0, 0, 0, 0, 0, 0, 0, 0],\n",
       " [0, 0, 0, 0, 0, 0, 0, 0]]"
      ]
     },
     "execution_count": 563,
     "metadata": {},
     "output_type": "execute_result"
    }
   ],
   "source": [
    "create_game_board(8)"
   ]
  },
  {
   "cell_type": "code",
   "execution_count": 49,
   "id": "f012d990",
   "metadata": {},
   "outputs": [
    {
     "data": {
      "text/plain": [
       "[[0, 0, 0, 0, 0],\n",
       " [0, 0, 0, 0, 0],\n",
       " [0, 0, 0, 0, 0],\n",
       " [0, 0, 0, 0, 0],\n",
       " [0, 0, 0, 0, 0]]"
      ]
     },
     "execution_count": 49,
     "metadata": {},
     "output_type": "execute_result"
    }
   ],
   "source": [
    "create_game_board(5)"
   ]
  },
  {
   "cell_type": "code",
   "execution_count": 51,
   "id": "97ba53ba",
   "metadata": {},
   "outputs": [
    {
     "name": "stdout",
     "output_type": "stream",
     "text": [
      "[0, 0, 0]\n",
      "[0, 0, 0]\n",
      "[0, 0, 0]\n"
     ]
    }
   ],
   "source": [
    "board = create_game_board()\n",
    "for i in board:\n",
    "    print(i)"
   ]
  },
  {
   "cell_type": "code",
   "execution_count": 130,
   "id": "f1dab635",
   "metadata": {},
   "outputs": [
    {
     "data": {
      "text/plain": [
       "[[0, 0, 0], [1, 1, 1], [0, 0, 2]]"
      ]
     },
     "execution_count": 130,
     "metadata": {},
     "output_type": "execute_result"
    }
   ],
   "source": [
    "board[1][1] = player_1\n",
    "board"
   ]
  },
  {
   "cell_type": "code",
   "execution_count": 56,
   "id": "f6c5585d",
   "metadata": {},
   "outputs": [
    {
     "data": {
      "text/plain": [
       "[[0, 0, 0], [0, 1, 0], [0, 0, 2]]"
      ]
     },
     "execution_count": 56,
     "metadata": {},
     "output_type": "execute_result"
    }
   ],
   "source": [
    "board[2][2] = player_2\n",
    "board"
   ]
  },
  {
   "cell_type": "code",
   "execution_count": 59,
   "id": "5b0045c9",
   "metadata": {},
   "outputs": [
    {
     "data": {
      "text/plain": [
       "[[0, 0, 0], [1, 1, 1], [0, 0, 2]]"
      ]
     },
     "execution_count": 59,
     "metadata": {},
     "output_type": "execute_result"
    }
   ],
   "source": [
    "board[1][0] = player_1\n",
    "board[1][2] = player_1\n",
    "board"
   ]
  },
  {
   "cell_type": "markdown",
   "id": "13700822",
   "metadata": {},
   "source": [
    "# Exercise 2:\n",
    "Write a function that takes a n by n matrix representing a tic-tac-toe game, and returns -1, 0, 1, or 2 indicating the game is incomplete, the game is a draw, player 1 has won, or player 2 has one, respectively. Here are some example inputs you can use to test your code:"
   ]
  },
  {
   "cell_type": "code",
   "execution_count": 581,
   "id": "666a5ae9",
   "metadata": {},
   "outputs": [],
   "source": [
    "def check_win(board):\n",
    "    win_1 = None\n",
    "    win_2 = None\n",
    "    \n",
    "\n",
    "    #checking rows(p1)\n",
    "    for i in range(size):\n",
    "        win_1 = True\n",
    "        for j in range(size):\n",
    "            if board[i][j] != player_1:\n",
    "                win_1 = False\n",
    "                break\n",
    "        if win_1:\n",
    "            return print_message('P1 Wins')\n",
    "\n",
    "    # checking columns(p1)\n",
    "    for i in range(size):\n",
    "        win_1 = True\n",
    "        for j in range(size):\n",
    "            if board[j][i] != player_1:\n",
    "                win_1 = False\n",
    "                break\n",
    "        if win_1:\n",
    "            return print_message('P1 Wins')\n",
    "\n",
    "        # checking diagonals(p1)\n",
    "    win_1 = True\n",
    "    for i in range(size):\n",
    "        if board[i][i] != player_1:\n",
    "            win_1 = False\n",
    "            break\n",
    "    if win_1:\n",
    "        return print_message('P1 Wins')\n",
    "\n",
    "    win_1 = True\n",
    "    for i in range(size):\n",
    "        if board[i][size - 1 - i] != player_1:\n",
    "            win_1 = False\n",
    "            break\n",
    "    if win_1:\n",
    "        return print_message('P1 Wins')\n",
    "    \n",
    "\n",
    "# checking rows(p2)\n",
    "    for i in range(size):\n",
    "        win_2 = True\n",
    "        for j in range(size):\n",
    "            if board[i][j] != player_2:\n",
    "                win_2 = False\n",
    "                break\n",
    "        if win_2:\n",
    "            return print_message('P2 Wins')\n",
    "\n",
    "    # checking columns(p2)\n",
    "    for i in range(size):\n",
    "        win_2 = True\n",
    "        for j in range(size):\n",
    "            if board[j][i] != player_2:\n",
    "                win_2 = False\n",
    "                break\n",
    "        if win_2:\n",
    "            return print_message('P2 Wins')\n",
    "\n",
    "        # checking diagonals(p2)\n",
    "    win_2 = True\n",
    "    for i in range(size):\n",
    "        if board[i][i] != player_2:\n",
    "            win_2 = False\n",
    "            break\n",
    "    if win_2:\n",
    "        return print_message('P2 Wins')\n",
    "\n",
    "    win_2 = True\n",
    "    for i in range(size):\n",
    "        if board[i][size - 1 - i] != player_2:\n",
    "            win_2 = False\n",
    "            break\n",
    "    if win_2:\n",
    "        return print_message('P2 Wins')\n",
    "    for i in range(size):\n",
    "        if empty in board[i]:\n",
    "            return False\n",
    "    \n",
    "    for i in range(size):\n",
    "        if board[i] != empty:\n",
    "            return print_message('Tie')\n"
   ]
  },
  {
   "cell_type": "code",
   "execution_count": 230,
   "id": "fc8d263e",
   "metadata": {},
   "outputs": [
    {
     "name": "stdout",
     "output_type": "stream",
     "text": [
      "  1    2    3    \n",
      "A --- --- --- \n",
      "B --- --- --- \n",
      "C --- --- --- \n",
      "Players's piece has been placed.\n",
      "  1    2    3    \n",
      "A  O  --- --- \n",
      "B --- --- --- \n",
      "C --- --- --- \n",
      "Players's piece has been placed.\n",
      "  1    2    3    \n",
      "A  O  --- --- \n",
      "B  O  --- --- \n",
      "C --- --- --- \n",
      "Players's piece has been placed.\n",
      "  1    2    3    \n",
      "A  O  --- --- \n",
      "B  O  --- --- \n",
      "C  O  --- --- \n",
      "Players's piece has been placed.\n",
      "  1    2    3    \n",
      "A  O   O  --- \n",
      "B  O  --- --- \n",
      "C  O  --- --- \n",
      "Players's piece has been placed.\n",
      "  1    2    3    \n",
      "A  O   O  --- \n",
      "B  O   X  --- \n",
      "C  O  --- --- \n",
      "Players's piece has been placed.\n",
      "  1    2    3    \n",
      "A  O   O  --- \n",
      "B  O   X  --- \n",
      "C  O   X  --- \n",
      "Players's piece has been placed.\n",
      "  1    2    3    \n",
      "A  O   O  --- \n",
      "B  O   X  --- \n",
      "C  O   X   X  \n"
     ]
    }
   ],
   "source": [
    "board_6 = create_game_board()\n",
    "draw_board_1(board_6)\n",
    "nice_move_piece(board_6,player_2,\"A1\")\n",
    "draw_board_1(board_6)\n",
    "nice_move_piece(board_6,player_2,\"B1\")\n",
    "draw_board_1(board_6)\n",
    "nice_move_piece(board_6,player_2,\"C1\")\n",
    "draw_board_1(board_6)\n",
    "nice_move_piece(board_6,player_2,\"A2\")\n",
    "draw_board_1(board_6)\n",
    "nice_move_piece(board_6,player_1,\"B2\")\n",
    "draw_board_1(board_6)\n",
    "nice_move_piece(board_6,player_1,\"C2\")\n",
    "draw_board_1(board_6)\n",
    "nice_move_piece(board_6,player_1,\"C3\")\n",
    "draw_board_1(board_6)"
   ]
  },
  {
   "cell_type": "code",
   "execution_count": 319,
   "id": "f0c153ca",
   "metadata": {},
   "outputs": [
    {
     "name": "stdout",
     "output_type": "stream",
     "text": [
      "Player 2 Wins!\n"
     ]
    }
   ],
   "source": [
    "check_win(board_6)"
   ]
  },
  {
   "cell_type": "code",
   "execution_count": 258,
   "id": "968c116a",
   "metadata": {},
   "outputs": [
    {
     "name": "stdout",
     "output_type": "stream",
     "text": [
      "  1    2    3    \n",
      "A --- --- --- \n",
      "B --- --- --- \n",
      "C --- --- --- \n",
      "Players's piece has been placed.\n",
      "  1    2    3    \n",
      "A  X  --- --- \n",
      "B --- --- --- \n",
      "C --- --- --- \n",
      "Players's piece has been placed.\n",
      "  1    2    3    \n",
      "A  X  --- --- \n",
      "B  O  --- --- \n",
      "C --- --- --- \n",
      "Players's piece has been placed.\n",
      "  1    2    3    \n",
      "A  X  --- --- \n",
      "B  O  --- --- \n",
      "C  O  --- --- \n",
      "Players's piece has been placed.\n",
      "  1    2    3    \n",
      "A  X   X  --- \n",
      "B  O  --- --- \n",
      "C  O  --- --- \n",
      "Players's piece has been placed.\n",
      "  1    2    3    \n",
      "A  X   X  --- \n",
      "B  O   X  --- \n",
      "C  O  --- --- \n",
      "Players's piece has been placed.\n",
      "  1    2    3    \n",
      "A  X   X  --- \n",
      "B  O   X  --- \n",
      "C  O   X  --- \n",
      "Players's piece has been placed.\n",
      "  1    2    3    \n",
      "A  X   X  --- \n",
      "B  O   X  --- \n",
      "C  O   X   O  \n"
     ]
    }
   ],
   "source": [
    "board_7 = create_game_board()\n",
    "draw_board_1(board_7)\n",
    "nice_move_piece(board_7,player_1,\"A1\")\n",
    "draw_board_1(board_7)\n",
    "nice_move_piece(board_7,player_2,\"B1\")\n",
    "draw_board_1(board_7)\n",
    "nice_move_piece(board_7,player_2,\"C1\")\n",
    "draw_board_1(board_7)\n",
    "nice_move_piece(board_7,player_1,\"A2\")\n",
    "draw_board_1(board_7)\n",
    "nice_move_piece(board_7,player_1,\"B2\")\n",
    "draw_board_1(board_7)\n",
    "nice_move_piece(board_7,player_1,\"C2\")\n",
    "draw_board_1(board_7)\n",
    "nice_move_piece(board_7,player_2,\"C3\")\n",
    "draw_board_1(board_7)"
   ]
  },
  {
   "cell_type": "code",
   "execution_count": 320,
   "id": "236c5ce5",
   "metadata": {},
   "outputs": [
    {
     "name": "stdout",
     "output_type": "stream",
     "text": [
      "Player 1 Wins!\n"
     ]
    }
   ],
   "source": [
    "check_win(board_7)"
   ]
  },
  {
   "cell_type": "code",
   "execution_count": null,
   "id": "9aa42462",
   "metadata": {},
   "outputs": [],
   "source": []
  },
  {
   "cell_type": "code",
   "execution_count": 246,
   "id": "0d51ccaf",
   "metadata": {},
   "outputs": [
    {
     "name": "stdout",
     "output_type": "stream",
     "text": [
      "  1    2    3    \n",
      "A --- --- --- \n",
      "B --- --- --- \n",
      "C --- --- --- \n",
      "Players's piece has been placed.\n",
      "  1    2    3    \n",
      "A  X  --- --- \n",
      "B --- --- --- \n",
      "C --- --- --- \n",
      "Players's piece has been placed.\n",
      "  1    2    3    \n",
      "A  X  --- --- \n",
      "B  O  --- --- \n",
      "C --- --- --- \n",
      "Players's piece has been placed.\n",
      "  1    2    3    \n",
      "A  X  --- --- \n",
      "B  O  --- --- \n",
      "C  O  --- --- \n",
      "Players's piece has been placed.\n",
      "  1    2    3    \n",
      "A  X   O  --- \n",
      "B  O  --- --- \n",
      "C  O  --- --- \n",
      "Players's piece has been placed.\n",
      "  1    2    3    \n",
      "A  X   O  --- \n",
      "B  O   X  --- \n",
      "C  O  --- --- \n",
      "Players's piece has been placed.\n",
      "  1    2    3    \n",
      "A  X   O  --- \n",
      "B  O   X  --- \n",
      "C  O   X  --- \n",
      "Players's piece has been placed.\n",
      "  1    2    3    \n",
      "A  X   O  --- \n",
      "B  O   X  --- \n",
      "C  O   X   X  \n"
     ]
    }
   ],
   "source": [
    "board_8 = create_game_board()\n",
    "draw_board_1(board_8)\n",
    "nice_move_piece(board_8,player_1,\"A1\")\n",
    "draw_board_1(board_8)\n",
    "nice_move_piece(board_8,player_2,\"B1\")\n",
    "draw_board_1(board_8)\n",
    "nice_move_piece(board_8,player_2,\"C1\")\n",
    "draw_board_1(board_8)\n",
    "nice_move_piece(board_8,player_2,\"A2\")\n",
    "draw_board_1(board_8)\n",
    "nice_move_piece(board_8,player_1,\"B2\")\n",
    "draw_board_1(board_8)\n",
    "nice_move_piece(board_8,player_1,\"C2\")\n",
    "draw_board_1(board_8)\n",
    "nice_move_piece(board_8,player_1,\"C3\")\n",
    "draw_board_1(board_8)\n"
   ]
  },
  {
   "cell_type": "code",
   "execution_count": 495,
   "id": "aecddc94",
   "metadata": {},
   "outputs": [
    {
     "name": "stdout",
     "output_type": "stream",
     "text": [
      "P1 Wins\n"
     ]
    }
   ],
   "source": [
    "check_win(board_8)"
   ]
  },
  {
   "cell_type": "code",
   "execution_count": 261,
   "id": "b3732ba4",
   "metadata": {},
   "outputs": [
    {
     "name": "stdout",
     "output_type": "stream",
     "text": [
      "  1    2    3    \n",
      "A --- --- --- \n",
      "B --- --- --- \n",
      "C --- --- --- \n",
      "Players's piece has been placed.\n",
      "  1    2    3    \n",
      "A  X  --- --- \n",
      "B --- --- --- \n",
      "C --- --- --- \n",
      "Players's piece has been placed.\n",
      "  1    2    3    \n",
      "A  X  --- --- \n",
      "B  O  --- --- \n",
      "C --- --- --- \n",
      "Players's piece has been placed.\n",
      "  1    2    3    \n",
      "A  X  --- --- \n",
      "B  O  --- --- \n",
      "C  O  --- --- \n",
      "Players's piece has been placed.\n",
      "  1    2    3    \n",
      "A  X   O  --- \n",
      "B  O  --- --- \n",
      "C  O  --- --- \n",
      "Players's piece has been placed.\n",
      "  1    2    3    \n",
      "A  X   O  --- \n",
      "B  O   X  --- \n",
      "C  O  --- --- \n",
      "Players's piece has been placed.\n",
      "  1    2    3    \n",
      "A  X   O  --- \n",
      "B  O   X  --- \n",
      "C  O   X  --- \n",
      "Players's piece has been placed.\n",
      "  1    2    3    \n",
      "A  X   O  --- \n",
      "B  O   X  --- \n",
      "C  O   X   O  \n"
     ]
    }
   ],
   "source": [
    "board_9 = create_game_board()\n",
    "draw_board_1(board_9)\n",
    "nice_move_piece(board_9,player_1,\"A1\")\n",
    "draw_board_1(board_9)\n",
    "nice_move_piece(board_9,player_2,\"B1\")\n",
    "draw_board_1(board_9)\n",
    "nice_move_piece(board_9,player_2,\"C1\")\n",
    "draw_board_1(board_9)\n",
    "nice_move_piece(board_9,player_2,\"A2\")\n",
    "draw_board_1(board_9)\n",
    "nice_move_piece(board_9,player_1,\"B2\")\n",
    "draw_board_1(board_9)\n",
    "nice_move_piece(board_9,player_1,\"C2\")\n",
    "draw_board_1(board_9)\n",
    "nice_move_piece(board_9,player_2,\"C3\")\n",
    "draw_board_1(board_9)"
   ]
  },
  {
   "cell_type": "code",
   "execution_count": 494,
   "id": "3de0db03",
   "metadata": {},
   "outputs": [
    {
     "name": "stdout",
     "output_type": "stream",
     "text": [
      "Game Not Done Yet\n"
     ]
    }
   ],
   "source": [
    "check_win(board_9)"
   ]
  },
  {
   "cell_type": "code",
   "execution_count": null,
   "id": "f1a3d869",
   "metadata": {},
   "outputs": [],
   "source": [
    "board_10 = create_game_board()\n",
    "draw_board_1(board_10)\n",
    "nice_move_piece(board_10,player_1,\"A1\")\n",
    "draw_board_1(board_10)\n",
    "nice_move_piece(board_10,player_2,\"B1\")\n",
    "draw_board_1(board_10)\n",
    "nice_move_piece(board_10,player_2,\"C1\")\n",
    "draw_board_1(board_10)\n",
    "nice_move_piece(board_10,player_2,\"A2\")\n",
    "draw_board_1(board_10)\n",
    "nice_move_piece(board_10,player_1,\"B2\")\n",
    "draw_board_1(board_10)\n",
    "nice_move_piece(board_10,player_1,\"C2\")\n",
    "draw_board_1(board_10)\n",
    "nice_move_piece(board_10,player_2,\"C3\")\n",
    "draw_board_1(board_10)\n",
    "nice_move_piece(board_10,player_1,\"A3\")\n",
    "draw_board_1(board_10)\n",
    "nice_move_piece(board_10,player_2,\"B3\")\n",
    "draw_board_1(board_10)"
   ]
  },
  {
   "cell_type": "code",
   "execution_count": 502,
   "id": "b41aae51",
   "metadata": {},
   "outputs": [
    {
     "name": "stdout",
     "output_type": "stream",
     "text": [
      "  1    2    3    \n",
      "A --- --- --- \n",
      "B --- --- --- \n",
      "C --- --- --- \n",
      "Players's piece has been placed.\n",
      "  1    2    3    \n",
      "A  X  --- --- \n",
      "B --- --- --- \n",
      "C --- --- --- \n",
      "Players's piece has been placed.\n",
      "  1    2    3    \n",
      "A  X  --- --- \n",
      "B  O  --- --- \n",
      "C --- --- --- \n",
      "Players's piece has been placed.\n",
      "  1    2    3    \n",
      "A  X  --- --- \n",
      "B  O  --- --- \n",
      "C  O  --- --- \n",
      "Players's piece has been placed.\n",
      "  1    2    3    \n",
      "A  X   O  --- \n",
      "B  O  --- --- \n",
      "C  O  --- --- \n",
      "Players's piece has been placed.\n",
      "  1    2    3    \n",
      "A  X   O  --- \n",
      "B  O   X  --- \n",
      "C  O  --- --- \n",
      "Players's piece has been placed.\n",
      "  1    2    3    \n",
      "A  X   O  --- \n",
      "B  O   X  --- \n",
      "C  O   X  --- \n",
      "Players's piece has been placed.\n",
      "  1    2    3    \n",
      "A  X   O  --- \n",
      "B  O   X  --- \n",
      "C  O   X   O  \n",
      "Players's piece has been placed.\n",
      "  1    2    3    \n",
      "A  X   O   X  \n",
      "B  O   X  --- \n",
      "C  O   X   O  \n",
      "Players's piece has been placed.\n",
      "  1    2    3    \n",
      "A  X   O   X  \n",
      "B  O   X   O  \n",
      "C  O   X   O  \n"
     ]
    }
   ],
   "source": [
    "board_10 = create_game_board()\n",
    "draw_board_1(board_10)\n",
    "nice_move_piece(board_10,player_1,\"A1\")\n",
    "draw_board_1(board_10)\n",
    "nice_move_piece(board_10,player_2,\"B1\")\n",
    "draw_board_1(board_10)\n",
    "nice_move_piece(board_10,player_2,\"C1\")\n",
    "draw_board_1(board_10)\n",
    "nice_move_piece(board_10,player_2,\"A2\")\n",
    "draw_board_1(board_10)\n",
    "nice_move_piece(board_10,player_1,\"B2\")\n",
    "draw_board_1(board_10)\n",
    "nice_move_piece(board_10,player_1,\"C2\")\n",
    "draw_board_1(board_10)\n",
    "nice_move_piece(board_10,player_2,\"C3\")\n",
    "draw_board_1(board_10)\n",
    "nice_move_piece(board_10,player_1,\"A3\")\n",
    "draw_board_1(board_10)\n",
    "nice_move_piece(board_10,player_2,\"B3\")\n",
    "draw_board_1(board_10)"
   ]
  },
  {
   "cell_type": "code",
   "execution_count": 503,
   "id": "3b1d4fe8",
   "metadata": {},
   "outputs": [
    {
     "name": "stdout",
     "output_type": "stream",
     "text": [
      "Tie!\n"
     ]
    }
   ],
   "source": [
    "check_win(board_10)"
   ]
  },
  {
   "cell_type": "markdown",
   "id": "e8579896",
   "metadata": {},
   "source": [
    "# Exercise 3:\n",
    "Write a function that takes 2 integers n and m as input and draws a n by m game board. For example the following is a 3x3 board:"
   ]
  },
  {
   "cell_type": "code",
   "execution_count": 539,
   "id": "65756585",
   "metadata": {},
   "outputs": [],
   "source": [
    "def make_board(row, column):  \n",
    "    board_diff = [[\"|  |\" for i in range(row)] for b in range(column)]\n",
    "    border = ('---- ')\n",
    "    len_border = ('---- ')\n",
    "    border += border+len_border*(row-2)\n",
    "\n",
    "   \n",
    "    \n",
    "    for i in board_diff:\n",
    "        print(border)\n",
    "        print(' '.join(i))\n",
    "        print(border)\n",
    "\n",
    "def start_game():\n",
    "    row = input('Insert Row Size: ')\n",
    "    column = input('insert Column Size: ')\n",
    "    row = float(row)\n",
    "    column = float(column)\n",
    "    if row%1 != 0 or row <1:\n",
    "            print('Error Invalid Row size')\n",
    "            return row\n",
    "    else:\n",
    "        row = int(row)\n",
    "    if column%1 != 0 or column <1:\n",
    "        print('Error Invalid column size')\n",
    "        return column\n",
    "    else:\n",
    "        column = int(column)\n",
    "    board_diff = make_board(row, column)\n",
    "    \n",
    "    \n",
    "        "
   ]
  },
  {
   "cell_type": "code",
   "execution_count": 8,
   "id": "e2438927",
   "metadata": {},
   "outputs": [
    {
     "name": "stdout",
     "output_type": "stream",
     "text": [
      "---- ---- ---- \n",
      "|  | |  | |  |\n",
      "---- ---- ---- \n",
      "---- ---- ---- \n",
      "|  | |  | |  |\n",
      "---- ---- ---- \n",
      "---- ---- ---- \n",
      "|  | |  | |  |\n",
      "---- ---- ---- \n"
     ]
    }
   ],
   "source": [
    "make_board(3, 3)"
   ]
  },
  {
   "cell_type": "code",
   "execution_count": 3,
   "id": "74db1217",
   "metadata": {},
   "outputs": [
    {
     "name": "stdout",
     "output_type": "stream",
     "text": [
      "Insert Row Size: -3\n",
      "insert Column Size: 5\n",
      "Error Invalid Row size\n"
     ]
    },
    {
     "data": {
      "text/plain": [
       "-3.0"
      ]
     },
     "execution_count": 3,
     "metadata": {},
     "output_type": "execute_result"
    }
   ],
   "source": [
    "start_game()"
   ]
  },
  {
   "cell_type": "code",
   "execution_count": 4,
   "id": "2d6b14f9",
   "metadata": {},
   "outputs": [
    {
     "name": "stdout",
     "output_type": "stream",
     "text": [
      "Insert Row Size: 4\n",
      "insert Column Size: -5\n",
      "Error Invalid column size\n"
     ]
    },
    {
     "data": {
      "text/plain": [
       "-5.0"
      ]
     },
     "execution_count": 4,
     "metadata": {},
     "output_type": "execute_result"
    }
   ],
   "source": [
    "start_game()"
   ]
  },
  {
   "cell_type": "code",
   "execution_count": 5,
   "id": "83845940",
   "metadata": {},
   "outputs": [
    {
     "name": "stdout",
     "output_type": "stream",
     "text": [
      "Insert Row Size: 3.4\n",
      "insert Column Size: 5\n",
      "Error Invalid Row size\n"
     ]
    },
    {
     "data": {
      "text/plain": [
       "3.4"
      ]
     },
     "execution_count": 5,
     "metadata": {},
     "output_type": "execute_result"
    }
   ],
   "source": [
    "start_game()"
   ]
  },
  {
   "cell_type": "code",
   "execution_count": 6,
   "id": "4669e3bc",
   "metadata": {},
   "outputs": [
    {
     "name": "stdout",
     "output_type": "stream",
     "text": [
      "Insert Row Size: 6\n",
      "insert Column Size: 5.4\n",
      "Error Invalid column size\n"
     ]
    },
    {
     "data": {
      "text/plain": [
       "5.4"
      ]
     },
     "execution_count": 6,
     "metadata": {},
     "output_type": "execute_result"
    }
   ],
   "source": [
    "start_game()\n"
   ]
  },
  {
   "cell_type": "code",
   "execution_count": 7,
   "id": "f91368fc",
   "metadata": {},
   "outputs": [
    {
     "name": "stdout",
     "output_type": "stream",
     "text": [
      "Insert Row Size: 4\n",
      "insert Column Size: 5\n",
      "---- ---- ---- ---- \n",
      "|  | |  | |  | |  |\n",
      "---- ---- ---- ---- \n",
      "---- ---- ---- ---- \n",
      "|  | |  | |  | |  |\n",
      "---- ---- ---- ---- \n",
      "---- ---- ---- ---- \n",
      "|  | |  | |  | |  |\n",
      "---- ---- ---- ---- \n",
      "---- ---- ---- ---- \n",
      "|  | |  | |  | |  |\n",
      "---- ---- ---- ---- \n",
      "---- ---- ---- ---- \n",
      "|  | |  | |  | |  |\n",
      "---- ---- ---- ---- \n"
     ]
    }
   ],
   "source": [
    "start_game()"
   ]
  },
  {
   "cell_type": "markdown",
   "id": "50d675b2",
   "metadata": {},
   "source": [
    "# Exercise 4:\n",
    "Modify exercise 3, so that it takes a matrix of the form from exercise 2 and draws a tic-tac-tie board with \"X\"s and \"O\"s."
   ]
  },
  {
   "cell_type": "code",
   "execution_count": 115,
   "id": "1a562902",
   "metadata": {},
   "outputs": [],
   "source": [
    "player_1_piece = \" X \"\n",
    "player_2_piece = \" O \"\n",
    "empty_space = \"---\""
   ]
  },
  {
   "cell_type": "code",
   "execution_count": 116,
   "id": "3ad81195",
   "metadata": {},
   "outputs": [
    {
     "data": {
      "text/plain": [
       "{1: ' X ', 2: ' O ', 0: '---'}"
      ]
     },
     "execution_count": 116,
     "metadata": {},
     "output_type": "execute_result"
    }
   ],
   "source": [
    "space_character = {player_1: player_1_piece,\n",
    "                  player_2: player_2_piece,\n",
    "                  empty: empty_space}\n",
    "space_character"
   ]
  },
  {
   "cell_type": "code",
   "execution_count": 117,
   "id": "85fda3bc",
   "metadata": {},
   "outputs": [
    {
     "data": {
      "text/plain": [
       "'---'"
      ]
     },
     "execution_count": 117,
     "metadata": {},
     "output_type": "execute_result"
    }
   ],
   "source": [
    "space_character[empty]\n"
   ]
  },
  {
   "cell_type": "code",
   "execution_count": 144,
   "id": "37eca3c5",
   "metadata": {},
   "outputs": [],
   "source": [
    "def draw_board_0(board):\n",
    "    for i in range(size):\n",
    "        for j in range(size):\n",
    "            print(space_character[board[i][j]],end=\" \")\n",
    "        print()"
   ]
  },
  {
   "cell_type": "code",
   "execution_count": 149,
   "id": "4ff4b672",
   "metadata": {},
   "outputs": [
    {
     "name": "stdout",
     "output_type": "stream",
     "text": [
      "A piece is already there dummy\n",
      "A piece is already there dummy\n",
      "A piece is already there dummy\n",
      "Players's piece has been placed.\n"
     ]
    },
    {
     "data": {
      "text/plain": [
       "[[0, 0, 0], [1, 1, 0], [1, 2, 0]]"
      ]
     },
     "execution_count": 149,
     "metadata": {},
     "output_type": "execute_result"
    }
   ],
   "source": [
    "create_piece(board_1,player_1,(1,0))\n",
    "create_piece(board_1,player_1,(2,0))\n",
    "create_piece(board_1,player_1,(1,1))\n",
    "create_piece(board_1,player_2,(2,1))\n",
    "board_1"
   ]
  },
  {
   "cell_type": "code",
   "execution_count": 150,
   "id": "8e8479e1",
   "metadata": {},
   "outputs": [
    {
     "name": "stdout",
     "output_type": "stream",
     "text": [
      "--- --- --- \n",
      " X   X  --- \n",
      " X   O  --- \n"
     ]
    }
   ],
   "source": [
    "draw_board_0(board_1)"
   ]
  },
  {
   "cell_type": "markdown",
   "id": "13ade051",
   "metadata": {},
   "source": [
    "# Exercise 5:\n",
    "Write a function that takes a game board, player number, and (x,y) coordinates and places \"X\" or \"O\" in the correct location of the game board. Make sure that you only allow filling previously empty locations. Return True or False to indicate successful placement of \"X\" or \"O\"."
   ]
  },
  {
   "cell_type": "code",
   "execution_count": 122,
   "id": "4ef63829",
   "metadata": {},
   "outputs": [],
   "source": [
    "def print_message(message, verbose=True):\n",
    "    if verbose:\n",
    "        print(message)"
   ]
  },
  {
   "cell_type": "code",
   "execution_count": 577,
   "id": "cabdf2bc",
   "metadata": {},
   "outputs": [],
   "source": [
    "def create_piece(board,player,location,verbose=True):\n",
    "    x,y = location\n",
    "    move_possible = x < size and \\\n",
    "                    x >= 0 and \\\n",
    "                    y < size and \\\n",
    "                    y >= 0\n",
    "    if not (move_possible):\n",
    "        print_message('Move is off the board.',verbose)\n",
    "        return False\n",
    "    if board[x][y] == player:\n",
    "        print(\"A piece is already there dummy\")\n",
    "        return False\n",
    "\n",
    "    \n",
    "    if move_possible and board[x][y] == empty:\n",
    "        board[x][y] = player\n",
    "        print_message(\"Players's piece has been placed.\",verbose)\n",
    "        return True\n",
    "    else:\n",
    "        print_message('Move is invalid.',verbose)\n",
    "        return False"
   ]
  },
  {
   "cell_type": "code",
   "execution_count": 140,
   "id": "b2824e52",
   "metadata": {},
   "outputs": [
    {
     "data": {
      "text/plain": [
       "[[0, 0, 0], [0, 0, 0], [0, 0, 0]]"
      ]
     },
     "execution_count": 140,
     "metadata": {},
     "output_type": "execute_result"
    }
   ],
   "source": [
    "board_2 = create_game_board()\n",
    "board_2"
   ]
  },
  {
   "cell_type": "code",
   "execution_count": 141,
   "id": "0fae0dce",
   "metadata": {},
   "outputs": [
    {
     "name": "stdout",
     "output_type": "stream",
     "text": [
      "Players's piece has been placed.\n",
      "Players's piece has been placed.\n",
      "Players's piece has been placed.\n",
      "Players's piece has been placed.\n",
      "Players's piece has been placed.\n",
      "Players's piece has been placed.\n"
     ]
    },
    {
     "data": {
      "text/plain": [
       "[[0, 2, 2], [1, 1, 1], [0, 0, 2]]"
      ]
     },
     "execution_count": 141,
     "metadata": {},
     "output_type": "execute_result"
    }
   ],
   "source": [
    "create_piece(board_2,player_1,(1,0))\n",
    "create_piece(board_2,player_1,(1,1))\n",
    "create_piece(board_2,player_1,(1,2))\n",
    "create_piece(board_2,player_2,(0,2))\n",
    "create_piece(board_2,player_2,(2,2))\n",
    "create_piece(board_2,player_2,(0,1))\n",
    "board_2\n"
   ]
  },
  {
   "cell_type": "code",
   "execution_count": 142,
   "id": "297b6628",
   "metadata": {},
   "outputs": [
    {
     "name": "stdout",
     "output_type": "stream",
     "text": [
      "---  O   O  \n",
      " X   X   X  \n",
      "--- ---  O  \n"
     ]
    }
   ],
   "source": [
    "draw_board(board_2)"
   ]
  },
  {
   "cell_type": "code",
   "execution_count": 538,
   "id": "09aa4292",
   "metadata": {},
   "outputs": [
    {
     "data": {
      "text/plain": [
       "[[0, 0, 0, 0, 0],\n",
       " [0, 0, 0, 0, 0],\n",
       " [0, 0, 0, 0, 0],\n",
       " [0, 0, 0, 0, 0],\n",
       " [0, 0, 0, 0, 0]]"
      ]
     },
     "execution_count": 538,
     "metadata": {},
     "output_type": "execute_result"
    }
   ],
   "source": [
    "create_game_board(5)\n",
    "\n"
   ]
  },
  {
   "cell_type": "markdown",
   "id": "2e5f18d4",
   "metadata": {},
   "source": [
    "# Exercise 6:\n",
    "Modify Exercise 5 to show column and row labels so that players can specify location using \"A2\" or \"C1\"."
   ]
  },
  {
   "cell_type": "code",
   "execution_count": 153,
   "id": "bd5e8264",
   "metadata": {},
   "outputs": [],
   "source": [
    "row_names = list(\"ABCDEFGHIJKLMNOPQRSTUVWXYZ\")\n",
    "row_map = dict(zip(row_names,range(size)))\n",
    "\n",
    "column_names = list(map(str,range(1,size+1)))\n",
    "column_map = dict(zip(column_names,range(size)))"
   ]
  },
  {
   "cell_type": "code",
   "execution_count": 166,
   "id": "4de7267c",
   "metadata": {},
   "outputs": [],
   "source": [
    "def draw_board_1(board):\n",
    "    print(\" \",end=\" \")\n",
    "    for i in range(size):\n",
    "        print(column_names[i],end=\"    \")\n",
    "    print()\n",
    "    \n",
    "    for i in range(size):\n",
    "        print(row_names[i],end=\" \")\n",
    "        for j in range(size):\n",
    "            print(space_character[board[i][j]],end=\" \")\n",
    "        print()"
   ]
  },
  {
   "cell_type": "code",
   "execution_count": 167,
   "id": "73290a13",
   "metadata": {},
   "outputs": [
    {
     "name": "stdout",
     "output_type": "stream",
     "text": [
      "  1    2    3    \n",
      "A ---  O   O  \n",
      "B  X   X   X  \n",
      "C --- ---  O  \n"
     ]
    }
   ],
   "source": [
    "draw_board_1(board_2)"
   ]
  },
  {
   "cell_type": "code",
   "execution_count": 168,
   "id": "c413eed8",
   "metadata": {},
   "outputs": [],
   "source": [
    "def parse_location(location_string):\n",
    "    \n",
    "    if not isinstance(location_string,str):\n",
    "        print_message(\"Invalid input. Location must be a string.\")\n",
    "        return False\n",
    "    \n",
    "    if len(location_string)!=2:\n",
    "        print_message(\"Inavlid input. Location must be 2 characters\")\n",
    "        return False\n",
    "    \n",
    "    row = location_string[0].upper()\n",
    "    col = location_string[1].upper()\n",
    "    \n",
    "    if not row in row_map:\n",
    "        print_message(\"Not a valid row.\")\n",
    "        return False\n",
    "    \n",
    "    if not col in column_map:\n",
    "        print_message(\"Not a valid column.\")\n",
    "        return False\n",
    "    \n",
    "    return row_map[row], column_map[col]\n"
   ]
  },
  {
   "cell_type": "code",
   "execution_count": 169,
   "id": "cec9dc5d",
   "metadata": {},
   "outputs": [
    {
     "data": {
      "text/plain": [
       "(0, 0)"
      ]
     },
     "execution_count": 169,
     "metadata": {},
     "output_type": "execute_result"
    }
   ],
   "source": [
    "parse_location('a1')"
   ]
  },
  {
   "cell_type": "code",
   "execution_count": 170,
   "id": "f77b8d77",
   "metadata": {},
   "outputs": [
    {
     "data": {
      "text/plain": [
       "(0, 1)"
      ]
     },
     "execution_count": 170,
     "metadata": {},
     "output_type": "execute_result"
    }
   ],
   "source": [
    "parse_location('A2')"
   ]
  },
  {
   "cell_type": "code",
   "execution_count": 171,
   "id": "facf2532",
   "metadata": {},
   "outputs": [
    {
     "data": {
      "text/plain": [
       "(2, 0)"
      ]
     },
     "execution_count": 171,
     "metadata": {},
     "output_type": "execute_result"
    }
   ],
   "source": [
    "parse_location('C1')"
   ]
  },
  {
   "cell_type": "markdown",
   "id": "6dc93637",
   "metadata": {},
   "source": [
    "# Exercise 7:\n",
    "Write a function that takes a board, player number, and location specified as in exercise 6 and then calls exercise 5 to correctly modify the board."
   ]
  },
  {
   "cell_type": "code",
   "execution_count": 176,
   "id": "5e2f93fe",
   "metadata": {},
   "outputs": [],
   "source": [
    " # def parse_move(move_string):\n",
    "   # if not isinstance(move_string,str):\n",
    "     #   print_message(\"Invalid input. Location must be a string.\")\n",
    "      #  return False\n",
    "    \n",
    "   # if len(move_string)!=1:\n",
    "      #  print_message(\"Inavlid input. Location must be 2 characters\")\n",
    "      #  return False\n",
    "  #  print_message(\"Bad Move\")\n",
    "  #  return -1"
   ]
  },
  {
   "cell_type": "code",
   "execution_count": 197,
   "id": "ea8d1a8d",
   "metadata": {},
   "outputs": [],
   "source": [
    "def nice_move_piece(board,player,location_string):\n",
    "    location = parse_location(location_string)\n",
    "    if location !=-1:\n",
    "        return create_piece(board,player,location)\n",
    "    "
   ]
  },
  {
   "cell_type": "code",
   "execution_count": 198,
   "id": "062339b8",
   "metadata": {},
   "outputs": [
    {
     "name": "stdout",
     "output_type": "stream",
     "text": [
      "  1    2    3    \n",
      "A --- --- --- \n",
      "B --- --- --- \n",
      "C --- --- --- \n",
      "Players's piece has been placed.\n",
      "  1    2    3    \n",
      "A --- ---  X  \n",
      "B --- --- --- \n",
      "C --- --- --- \n",
      "Players's piece has been placed.\n",
      "  1    2    3    \n",
      "A --- ---  X  \n",
      "B --- --- --- \n",
      "C ---  O  --- \n",
      "Players's piece has been placed.\n",
      "  1    2    3    \n",
      "A --- ---  X  \n",
      "B  X  --- --- \n",
      "C ---  O  --- \n"
     ]
    }
   ],
   "source": [
    "board_3 = create_game_board()\n",
    "draw_board_1(board_3)\n",
    "nice_move_piece(board_3,player_1,\"A3\")\n",
    "draw_board_1(board_3)\n",
    "nice_move_piece(board_3,player_2,\"C2\")\n",
    "draw_board_1(board_3)\n",
    "nice_move_piece(board_3,player_1,\"B1\")\n",
    "draw_board_1(board_3)"
   ]
  },
  {
   "cell_type": "markdown",
   "id": "08be45d4",
   "metadata": {},
   "source": [
    "# Exercise 8:\n",
    "Write a function is called with a board and player number, takes input from the player using python's input, and modifies the board using your function from exercise 7. Note that you should keep asking for input until you have gotten a valid input that results in a valid move."
   ]
  },
  {
   "cell_type": "code",
   "execution_count": 199,
   "id": "fb327d68",
   "metadata": {},
   "outputs": [],
   "source": [
    "def take_move(board,player):\n",
    "    good_move = False\n",
    "    \n",
    "    while not good_move:\n",
    "        location_string = input(\"Input Move:\")\n",
    "        \n",
    "    \n",
    "        good_move = nice_move_piece(board,player,location_string)"
   ]
  },
  {
   "cell_type": "code",
   "execution_count": 200,
   "id": "9ae9999f",
   "metadata": {},
   "outputs": [
    {
     "name": "stdout",
     "output_type": "stream",
     "text": [
      "--- --- --- \n",
      "--- --- --- \n",
      "--- --- --- \n",
      "Input Move:a1\n",
      "Players's piece has been placed.\n",
      " X  --- --- \n",
      "--- --- --- \n",
      "--- --- --- \n"
     ]
    }
   ],
   "source": [
    "board_5 = create_game_board()\n",
    "draw_board(board_5)\n",
    "take_move(board_5,player_1)\n",
    "draw_board(board_5)"
   ]
  },
  {
   "cell_type": "code",
   "execution_count": 201,
   "id": "5f68ba57",
   "metadata": {},
   "outputs": [
    {
     "name": "stdout",
     "output_type": "stream",
     "text": [
      "Input Move:a1\n",
      "A piece is already there dummy\n",
      "Input Move:c5\n",
      "Not a valid column.\n"
     ]
    },
    {
     "ename": "TypeError",
     "evalue": "cannot unpack non-iterable bool object",
     "output_type": "error",
     "traceback": [
      "\u001b[0;31m---------------------------------------------------------------------------\u001b[0m",
      "\u001b[0;31mTypeError\u001b[0m                                 Traceback (most recent call last)",
      "\u001b[0;32m/tmp/ipykernel_201/4158597756.py\u001b[0m in \u001b[0;36m<module>\u001b[0;34m\u001b[0m\n\u001b[0;32m----> 1\u001b[0;31m \u001b[0mtake_move\u001b[0m\u001b[0;34m(\u001b[0m\u001b[0mboard_5\u001b[0m\u001b[0;34m,\u001b[0m\u001b[0mplayer_1\u001b[0m\u001b[0;34m)\u001b[0m\u001b[0;34m\u001b[0m\u001b[0;34m\u001b[0m\u001b[0m\n\u001b[0m",
      "\u001b[0;32m/tmp/ipykernel_201/2295045993.py\u001b[0m in \u001b[0;36mtake_move\u001b[0;34m(board, player)\u001b[0m\n\u001b[1;32m      6\u001b[0m \u001b[0;34m\u001b[0m\u001b[0m\n\u001b[1;32m      7\u001b[0m \u001b[0;34m\u001b[0m\u001b[0m\n\u001b[0;32m----> 8\u001b[0;31m         \u001b[0mgood_move\u001b[0m \u001b[0;34m=\u001b[0m \u001b[0mnice_move_piece\u001b[0m\u001b[0;34m(\u001b[0m\u001b[0mboard\u001b[0m\u001b[0;34m,\u001b[0m\u001b[0mplayer\u001b[0m\u001b[0;34m,\u001b[0m\u001b[0mlocation_string\u001b[0m\u001b[0;34m)\u001b[0m\u001b[0;34m\u001b[0m\u001b[0;34m\u001b[0m\u001b[0m\n\u001b[0m",
      "\u001b[0;32m/tmp/ipykernel_201/4176920175.py\u001b[0m in \u001b[0;36mnice_move_piece\u001b[0;34m(board, player, location_string)\u001b[0m\n\u001b[1;32m      2\u001b[0m     \u001b[0mlocation\u001b[0m \u001b[0;34m=\u001b[0m \u001b[0mparse_location\u001b[0m\u001b[0;34m(\u001b[0m\u001b[0mlocation_string\u001b[0m\u001b[0;34m)\u001b[0m\u001b[0;34m\u001b[0m\u001b[0;34m\u001b[0m\u001b[0m\n\u001b[1;32m      3\u001b[0m     \u001b[0;32mif\u001b[0m \u001b[0mlocation\u001b[0m \u001b[0;34m!=\u001b[0m\u001b[0;34m-\u001b[0m\u001b[0;36m1\u001b[0m\u001b[0;34m:\u001b[0m\u001b[0;34m\u001b[0m\u001b[0;34m\u001b[0m\u001b[0m\n\u001b[0;32m----> 4\u001b[0;31m         \u001b[0;32mreturn\u001b[0m \u001b[0mcreate_piece\u001b[0m\u001b[0;34m(\u001b[0m\u001b[0mboard\u001b[0m\u001b[0;34m,\u001b[0m\u001b[0mplayer\u001b[0m\u001b[0;34m,\u001b[0m\u001b[0mlocation\u001b[0m\u001b[0;34m)\u001b[0m\u001b[0;34m\u001b[0m\u001b[0;34m\u001b[0m\u001b[0m\n\u001b[0m\u001b[1;32m      5\u001b[0m \u001b[0;34m\u001b[0m\u001b[0m\n",
      "\u001b[0;32m/tmp/ipykernel_201/1429313747.py\u001b[0m in \u001b[0;36mcreate_piece\u001b[0;34m(board, player, location, verbose)\u001b[0m\n\u001b[1;32m      1\u001b[0m \u001b[0;32mdef\u001b[0m \u001b[0mcreate_piece\u001b[0m\u001b[0;34m(\u001b[0m\u001b[0mboard\u001b[0m\u001b[0;34m,\u001b[0m\u001b[0mplayer\u001b[0m\u001b[0;34m,\u001b[0m\u001b[0mlocation\u001b[0m\u001b[0;34m,\u001b[0m\u001b[0mverbose\u001b[0m\u001b[0;34m=\u001b[0m\u001b[0;32mTrue\u001b[0m\u001b[0;34m)\u001b[0m\u001b[0;34m:\u001b[0m\u001b[0;34m\u001b[0m\u001b[0;34m\u001b[0m\u001b[0m\n\u001b[0;32m----> 2\u001b[0;31m     \u001b[0mx\u001b[0m\u001b[0;34m,\u001b[0m\u001b[0my\u001b[0m \u001b[0;34m=\u001b[0m \u001b[0mlocation\u001b[0m\u001b[0;34m\u001b[0m\u001b[0;34m\u001b[0m\u001b[0m\n\u001b[0m\u001b[1;32m      3\u001b[0m     \u001b[0mmove_possible\u001b[0m \u001b[0;34m=\u001b[0m \u001b[0mx\u001b[0m \u001b[0;34m<\u001b[0m \u001b[0msize\u001b[0m \u001b[0;32mand\u001b[0m\u001b[0;31m \u001b[0m\u001b[0;31m\\\u001b[0m\u001b[0;34m\u001b[0m\u001b[0;34m\u001b[0m\u001b[0m\n\u001b[1;32m      4\u001b[0m                     \u001b[0mx\u001b[0m \u001b[0;34m>=\u001b[0m \u001b[0;36m0\u001b[0m \u001b[0;32mand\u001b[0m\u001b[0;31m \u001b[0m\u001b[0;31m\\\u001b[0m\u001b[0;34m\u001b[0m\u001b[0;34m\u001b[0m\u001b[0m\n\u001b[1;32m      5\u001b[0m                     \u001b[0my\u001b[0m \u001b[0;34m<\u001b[0m \u001b[0msize\u001b[0m \u001b[0;32mand\u001b[0m\u001b[0;31m \u001b[0m\u001b[0;31m\\\u001b[0m\u001b[0;34m\u001b[0m\u001b[0;34m\u001b[0m\u001b[0m\n",
      "\u001b[0;31mTypeError\u001b[0m: cannot unpack non-iterable bool object"
     ]
    }
   ],
   "source": [
    "take_move(board_5,player_1)\n"
   ]
  },
  {
   "cell_type": "markdown",
   "id": "877f9a29",
   "metadata": {},
   "source": [
    "# Exercise 9:\n",
    "Use all of the previous exercises to implement a full tic-tac-toe game, where an appropriate board is drawn, 2 players are repeatedly asked for a location coordinates of where they wish to place a mark, and the game status is checked until a player wins or a draw occurs."
   ]
  },
  {
   "cell_type": "code",
   "execution_count": 586,
   "id": "7cd72813",
   "metadata": {},
   "outputs": [],
   "source": [
    "def check_win_1(board):\n",
    "    win_1 = None\n",
    "    win_2 = None\n",
    "    \n",
    "\n",
    "    #checking rows(p1)\n",
    "    for i in range(size):\n",
    "        win_1 = True\n",
    "        for j in range(size):\n",
    "            if board[i][j] != player_1:\n",
    "                win_1 = False\n",
    "                break\n",
    "        if win_1:\n",
    "            return True\n",
    "\n",
    "    # checking columns(p1)\n",
    "    for i in range(size):\n",
    "        win_1 = True\n",
    "        for j in range(size):\n",
    "            if board[j][i] != player_1:\n",
    "                win_1 = False\n",
    "                break\n",
    "        if win_1:\n",
    "            return True\n",
    "\n",
    "        # checking diagonals(p1)\n",
    "    win_1 = True\n",
    "    for i in range(size):\n",
    "        if board[i][i] != player_1:\n",
    "            win_1 = False\n",
    "            break\n",
    "    if win_1:\n",
    "        return True\n",
    "\n",
    "    win_1 = True\n",
    "    for i in range(size):\n",
    "        if board[i][size - 1 - i] != player_1:\n",
    "            win_1 = False\n",
    "            break\n",
    "    if win_1:\n",
    "        return True\n",
    "    \n",
    "\n",
    "# checking rows(p2)\n",
    "    for i in range(size):\n",
    "        win_2 = True\n",
    "        for j in range(size):\n",
    "            if board[i][j] != player_2:\n",
    "                win_2 = False\n",
    "                break\n",
    "        if win_2:\n",
    "            return True\n",
    "\n",
    "    # checking columns(p2)\n",
    "    for i in range(size):\n",
    "        win_2 = True\n",
    "        for j in range(size):\n",
    "            if board[j][i] != player_2:\n",
    "                win_2 = False\n",
    "                break\n",
    "        if win_2:\n",
    "            return True\n",
    "\n",
    "        # checking diagonals(p2)\n",
    "    win_2 = True\n",
    "    for i in range(size):\n",
    "        if board[i][i] != player_2:\n",
    "            win_2 = False\n",
    "            break\n",
    "    if win_2:\n",
    "        return True\n",
    "\n",
    "    win_2 = True\n",
    "    for i in range(size):\n",
    "        if board[i][size - 1 - i] != player_2:\n",
    "            win_2 = False\n",
    "            break\n",
    "    if win_2:\n",
    "        return True\n",
    "    for i in range(size):\n",
    "        if empty in board[i]:\n",
    "            return False\n",
    "    \n",
    "    for i in range(size):\n",
    "        if board[i] != empty:\n",
    "            return True\n",
    "        \n",
    "            \n",
    "        \n",
    "        \n"
   ]
  },
  {
   "cell_type": "code",
   "execution_count": 569,
   "id": "57e45682",
   "metadata": {},
   "outputs": [],
   "source": [
    "def TTT_game():\n",
    "    print(\"Ryan's Tic Tac Toe Game!\")\n",
    "    print(\"------------------------\")\n",
    "    \n",
    "    size = input('Input board size:  ')\n",
    "    size = int(size)\n",
    "    board_0 = create_game_board(size)\n",
    "    player = player_1\n",
    "    \n",
    "    \n",
    "    this_game_won = False\n",
    "    while not this_game_won:\n",
    "        draw_board_1(board_0)\n",
    "        \n",
    "        print('Player',player,'move:')\n",
    "        new_move = take_move(board_0,player)\n",
    "        \n",
    "        this_game_won = check_win_1(board_0)\n",
    "        \n",
    "       \n",
    "        if player==player_1:\n",
    "            player = player_2\n",
    "        else:\n",
    "            player = player_1\n",
    "            \n",
    "    check_win(board_0)"
   ]
  },
  {
   "cell_type": "code",
   "execution_count": 570,
   "id": "e34a2cd7",
   "metadata": {},
   "outputs": [
    {
     "name": "stdout",
     "output_type": "stream",
     "text": [
      "Ryan's Tic Tac Toe Game!\n",
      "------------------------\n",
      "Input board size:  3\n",
      "  1    2    3    \n",
      "A --- --- --- \n",
      "B --- --- --- \n",
      "C --- --- --- \n",
      "Player 1 move:\n",
      "Input Move:a1\n",
      "Players's piece has been placed.\n",
      "  1    2    3    \n",
      "A  X  --- --- \n",
      "B --- --- --- \n",
      "C --- --- --- \n",
      "Player 2 move:\n",
      "Input Move:b2\n",
      "Players's piece has been placed.\n",
      "  1    2    3    \n",
      "A  X  --- --- \n",
      "B ---  O  --- \n",
      "C --- --- --- \n",
      "Player 1 move:\n",
      "Input Move:b1\n",
      "Players's piece has been placed.\n",
      "  1    2    3    \n",
      "A  X  --- --- \n",
      "B  X   O  --- \n",
      "C --- --- --- \n",
      "Player 2 move:\n",
      "Input Move:c3\n",
      "Players's piece has been placed.\n",
      "  1    2    3    \n",
      "A  X  --- --- \n",
      "B  X   O  --- \n",
      "C --- ---  O  \n",
      "Player 1 move:\n",
      "Input Move:c1\n",
      "Players's piece has been placed.\n",
      "P1 Wins\n"
     ]
    }
   ],
   "source": [
    "TTT_game()"
   ]
  },
  {
   "cell_type": "markdown",
   "id": "bb94d3d4",
   "metadata": {},
   "source": []
  },
  {
   "cell_type": "code",
   "execution_count": 571,
   "id": "16a71f6d",
   "metadata": {},
   "outputs": [
    {
     "name": "stdout",
     "output_type": "stream",
     "text": [
      "Ryan's Tic Tac Toe Game!\n",
      "------------------------\n",
      "Input board size:  3\n",
      "  1    2    3    \n",
      "A --- --- --- \n",
      "B --- --- --- \n",
      "C --- --- --- \n",
      "Player 1 move:\n",
      "Input Move:a1\n",
      "Players's piece has been placed.\n",
      "  1    2    3    \n",
      "A  X  --- --- \n",
      "B --- --- --- \n",
      "C --- --- --- \n",
      "Player 2 move:\n",
      "Input Move:c1\n",
      "Players's piece has been placed.\n",
      "  1    2    3    \n",
      "A  X  --- --- \n",
      "B --- --- --- \n",
      "C  O  --- --- \n",
      "Player 1 move:\n",
      "Input Move:b1\n",
      "Players's piece has been placed.\n",
      "  1    2    3    \n",
      "A  X  --- --- \n",
      "B  X  --- --- \n",
      "C  O  --- --- \n",
      "Player 2 move:\n",
      "Input Move:b2\n",
      "Players's piece has been placed.\n",
      "  1    2    3    \n",
      "A  X  --- --- \n",
      "B  X   O  --- \n",
      "C  O  --- --- \n",
      "Player 1 move:\n",
      "Input Move:c3\n",
      "Players's piece has been placed.\n",
      "  1    2    3    \n",
      "A  X  --- --- \n",
      "B  X   O  --- \n",
      "C  O  ---  X  \n",
      "Player 2 move:\n",
      "Input Move:a3\n",
      "Players's piece has been placed.\n",
      "P2 Wins\n"
     ]
    }
   ],
   "source": [
    "TTT_game()"
   ]
  },
  {
   "cell_type": "code",
   "execution_count": 588,
   "id": "86995171",
   "metadata": {},
   "outputs": [
    {
     "name": "stdout",
     "output_type": "stream",
     "text": [
      "Ryan's Tic Tac Toe Game!\n",
      "------------------------\n",
      "Input board size:  3\n",
      "  1    2    3    \n",
      "A --- --- --- \n",
      "B --- --- --- \n",
      "C --- --- --- \n",
      "Player 1 move:\n",
      "Input Move:a1\n",
      "Players's piece has been placed.\n",
      "  1    2    3    \n",
      "A  X  --- --- \n",
      "B --- --- --- \n",
      "C --- --- --- \n",
      "Player 2 move:\n",
      "Input Move:b1\n",
      "Players's piece has been placed.\n",
      "  1    2    3    \n",
      "A  X  --- --- \n",
      "B  O  --- --- \n",
      "C --- --- --- \n",
      "Player 1 move:\n",
      "Input Move:c1\n",
      "Players's piece has been placed.\n",
      "  1    2    3    \n",
      "A  X  --- --- \n",
      "B  O  --- --- \n",
      "C  X  --- --- \n",
      "Player 2 move:\n",
      "Input Move:b2\n",
      "Players's piece has been placed.\n",
      "  1    2    3    \n",
      "A  X  --- --- \n",
      "B  O   O  --- \n",
      "C  X  --- --- \n",
      "Player 1 move:\n",
      "Input Move:b3\n",
      "Players's piece has been placed.\n",
      "  1    2    3    \n",
      "A  X  --- --- \n",
      "B  O   O   X  \n",
      "C  X  --- --- \n",
      "Player 2 move:\n",
      "Input Move:a2\n",
      "Players's piece has been placed.\n",
      "  1    2    3    \n",
      "A  X   O  --- \n",
      "B  O   O   X  \n",
      "C  X  --- --- \n",
      "Player 1 move:\n",
      "Input Move:c2\n",
      "Players's piece has been placed.\n",
      "  1    2    3    \n",
      "A  X   O  --- \n",
      "B  O   O   X  \n",
      "C  X   X  --- \n",
      "Player 2 move:\n",
      "Input Move:c3\n",
      "Players's piece has been placed.\n",
      "  1    2    3    \n",
      "A  X   O  --- \n",
      "B  O   O   X  \n",
      "C  X   X   O  \n",
      "Player 1 move:\n",
      "Input Move:a3\n",
      "Players's piece has been placed.\n",
      "Tie\n"
     ]
    }
   ],
   "source": [
    "TTT_game()"
   ]
  },
  {
   "cell_type": "code",
   "execution_count": 553,
   "id": "8f93414e",
   "metadata": {},
   "outputs": [],
   "source": []
  },
  {
   "cell_type": "code",
   "execution_count": null,
   "id": "e06f60a8",
   "metadata": {},
   "outputs": [],
   "source": []
  },
  {
   "cell_type": "code",
   "execution_count": null,
   "id": "26b13cbc",
   "metadata": {
    "scrolled": true
   },
   "outputs": [],
   "source": []
  },
  {
   "cell_type": "code",
   "execution_count": null,
   "id": "a4e6e8b7",
   "metadata": {},
   "outputs": [],
   "source": []
  },
  {
   "cell_type": "code",
   "execution_count": null,
   "id": "7a37625d",
   "metadata": {},
   "outputs": [],
   "source": [
    "\n"
   ]
  },
  {
   "cell_type": "code",
   "execution_count": null,
   "id": "eac3f152",
   "metadata": {},
   "outputs": [],
   "source": []
  },
  {
   "cell_type": "code",
   "execution_count": null,
   "id": "27d13d26",
   "metadata": {},
   "outputs": [],
   "source": []
  },
  {
   "cell_type": "code",
   "execution_count": null,
   "id": "92068954",
   "metadata": {},
   "outputs": [],
   "source": []
  },
  {
   "cell_type": "code",
   "execution_count": null,
   "id": "d16557df",
   "metadata": {},
   "outputs": [],
   "source": []
  },
  {
   "cell_type": "code",
   "execution_count": null,
   "id": "7fdf9605",
   "metadata": {},
   "outputs": [],
   "source": [
    "\n"
   ]
  },
  {
   "cell_type": "code",
   "execution_count": null,
   "id": "d7b7d560",
   "metadata": {},
   "outputs": [],
   "source": []
  },
  {
   "cell_type": "code",
   "execution_count": null,
   "id": "d9c3c9e1",
   "metadata": {},
   "outputs": [],
   "source": []
  },
  {
   "cell_type": "code",
   "execution_count": null,
   "id": "fe6596b2",
   "metadata": {},
   "outputs": [],
   "source": []
  },
  {
   "cell_type": "code",
   "execution_count": null,
   "id": "b9b5ecfb",
   "metadata": {},
   "outputs": [],
   "source": []
  },
  {
   "cell_type": "code",
   "execution_count": null,
   "id": "c191d19f",
   "metadata": {},
   "outputs": [],
   "source": []
  },
  {
   "cell_type": "code",
   "execution_count": null,
   "id": "5a805936",
   "metadata": {},
   "outputs": [],
   "source": []
  },
  {
   "cell_type": "code",
   "execution_count": null,
   "id": "fe94341b",
   "metadata": {},
   "outputs": [],
   "source": []
  },
  {
   "cell_type": "code",
   "execution_count": 496,
   "id": "a24190fc",
   "metadata": {},
   "outputs": [],
   "source": []
  },
  {
   "cell_type": "code",
   "execution_count": null,
   "id": "d702544d",
   "metadata": {},
   "outputs": [],
   "source": []
  }
 ],
 "metadata": {
  "kernelspec": {
   "display_name": "Python 3 (ipykernel)",
   "language": "python",
   "name": "python3"
  },
  "language_info": {
   "codemirror_mode": {
    "name": "ipython",
    "version": 3
   },
   "file_extension": ".py",
   "mimetype": "text/x-python",
   "name": "python",
   "nbconvert_exporter": "python",
   "pygments_lexer": "ipython3",
   "version": "3.8.10"
  }
 },
 "nbformat": 4,
 "nbformat_minor": 5
}
