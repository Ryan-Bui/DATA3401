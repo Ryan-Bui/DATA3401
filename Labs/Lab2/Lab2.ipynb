{
 "cells": [
  {
   "cell_type": "markdown",
   "id": "e947a95d",
   "metadata": {},
   "source": [
    "# Problem 1: \n",
    "Write a script that defines two strings: your first name and last name, and prints them in reverse order with a space between them."
   ]
  },
  {
   "cell_type": "code",
   "execution_count": 13,
   "id": "d5bee7f9",
   "metadata": {},
   "outputs": [
    {
     "name": "stdout",
     "output_type": "stream",
     "text": [
      "Bui Ryan\n"
     ]
    }
   ],
   "source": [
    "a = \"Ryan\" \n",
    "b = \"Bui\" \n",
    "print(b,a)"
   ]
  },
  {
   "cell_type": "markdown",
   "id": "ed01f49b",
   "metadata": {},
   "source": [
    "# Problem 2:\n",
    "Write a print command that displays the following (replace all my information with yours)\n",
    "\n",
    "My name is Keaton Hamm\n",
    "\n",
    "I am a Math major\n",
    "\n",
    "This is my Python string"
   ]
  },
  {
   "cell_type": "code",
   "execution_count": 14,
   "id": "5f02d145",
   "metadata": {},
   "outputs": [
    {
     "name": "stdout",
     "output_type": "stream",
     "text": [
      "My name is Ryan Bui\n",
      "I am a Math Major\n",
      "This is my python string\n"
     ]
    }
   ],
   "source": [
    "a = 'My name is Ryan Bui'\n",
    "b = 'I am a Math Major'\n",
    "c = 'This is my python string'\n",
    "print(a)\n",
    "print(b)\n",
    "print(c)"
   ]
  },
  {
   "cell_type": "markdown",
   "id": "6adc4659",
   "metadata": {},
   "source": [
    "# Problem 3:\n",
    "Think about what the results would be for the following expressions, and then type them into the terminal to verify your answers. Briefly explain the results for each one."
   ]
  },
  {
   "cell_type": "code",
   "execution_count": 27,
   "id": "3993a671",
   "metadata": {
    "scrolled": true
   },
   "outputs": [],
   "source": [
    "# 1\\2 #This results in an syntax error because backslash is not used for division but instead used as an escape character.\n",
    "# 1/2 #This outputs 0.5 because foward slash is the symbol used for division.\n",
    "# int(1/2) #This outputs the integer 0 because it is rounding down to the lowest integer\n",
    "# int(1/3) #This also outputs the integer 0 because it is rounding down to the lowest integer\n",
    "# -5**2 #This outputs -25 because it is following order of operations so it squares 5 first then it applies the negative\n",
    "# (-5)**2 #This outputs 25 because of the parenthesis surrounding the -5 so the exponent is applied to -5 and not just 5.\n",
    "# 10-6/2 #This outputs 7.0 because it is following order of operations so it performs the division first and then the subtraction.\n",
    "# 5*4/2*3 #This outputs 30.0 because it is following order of operations so it will go from left to right since multiplcation and division are of the same priority.\n",
    "# 5*4/2**2*3 #This outputs 15.0 because it is following order of operations so it will do the exponent first and then go from left to right."
   ]
  },
  {
   "cell_type": "markdown",
   "id": "3242561a",
   "metadata": {},
   "source": [
    "# Problem 4:\n",
    "Define the list x = ['this', 'is', 'a', 'test', 'string', 'list']\n",
    "\n",
    "1. Write code to check if the word 'this' is in the string\n",
    "2. Write code to sort the list by length and print the sorted list\n",
    "3. Write code that will print out each word in the list one by one"
   ]
  },
  {
   "cell_type": "code",
   "execution_count": 15,
   "id": "2f8171b2",
   "metadata": {},
   "outputs": [
    {
     "name": "stdout",
     "output_type": "stream",
     "text": [
      "Item Found\n"
     ]
    }
   ],
   "source": [
    "x = ['this', 'is', 'a', 'test', 'string', 'list']\n",
    "if 'this' in x: print('Item Found')"
   ]
  },
  {
   "cell_type": "code",
   "execution_count": 21,
   "id": "abe5671d",
   "metadata": {},
   "outputs": [
    {
     "name": "stdout",
     "output_type": "stream",
     "text": [
      "['a', 'is', 'this', 'test', 'list', 'string']\n"
     ]
    }
   ],
   "source": [
    "x = ['this', 'is', 'a', 'test', 'string', 'list']\n",
    "x_sort = list(sorted(x, key = len))\n",
    "print(x_sort)"
   ]
  },
  {
   "cell_type": "code",
   "execution_count": 33,
   "id": "2f3ec88f",
   "metadata": {},
   "outputs": [
    {
     "name": "stdout",
     "output_type": "stream",
     "text": [
      "this\n",
      "is\n",
      "a\n",
      "test\n",
      "string\n",
      "list\n"
     ]
    }
   ],
   "source": [
    "x = ['this', 'is', 'a', 'test', 'string', 'list']\n",
    "for z in x:\n",
    "    print(z)\n",
    "\n"
   ]
  },
  {
   "cell_type": "markdown",
   "id": "7aeb305f",
   "metadata": {},
   "source": [
    "# Problem 5\n",
    "Write code that will print your name 10 times but without you writing your name out 10 times."
   ]
  },
  {
   "cell_type": "code",
   "execution_count": 46,
   "id": "8d2b3601",
   "metadata": {},
   "outputs": [
    {
     "name": "stdout",
     "output_type": "stream",
     "text": [
      "Ryan Bui Ryan Bui Ryan Bui Ryan Bui Ryan Bui Ryan Bui Ryan Bui Ryan Bui Ryan Bui Ryan Bui \n"
     ]
    }
   ],
   "source": [
    "print('Ryan Bui '*10)"
   ]
  },
  {
   "cell_type": "code",
   "execution_count": null,
   "id": "c5ed3b09",
   "metadata": {},
   "outputs": [],
   "source": []
  }
 ],
 "metadata": {
  "kernelspec": {
   "display_name": "Python 3 (ipykernel)",
   "language": "python",
   "name": "python3"
  },
  "language_info": {
   "codemirror_mode": {
    "name": "ipython",
    "version": 3
   },
   "file_extension": ".py",
   "mimetype": "text/x-python",
   "name": "python",
   "nbconvert_exporter": "python",
   "pygments_lexer": "ipython3",
   "version": "3.8.10"
  }
 },
 "nbformat": 4,
 "nbformat_minor": 5
}
