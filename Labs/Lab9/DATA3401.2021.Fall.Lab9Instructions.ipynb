{
 "cells": [
  {
   "cell_type": "markdown",
   "id": "c45fe2af",
   "metadata": {},
   "source": [
    "# <center>Lab 9 &ndash; DATA 3401 (Fall 2021)</center>\n",
    "\n",
    "## Lab Date: 11/19\n",
    "## Due Date 12/3 (at the **end** of lab)\n",
    "\n",
    "## Lab Description\n",
    "The purpose of this lab is for you to become more familiar object oriented programming by wrapping up the matrix functions you did in Lab 5.\n",
    "\n",
    "**Important Note!!!** You are **not** allowed to use numpy in this lab. The purpose of the lab is to give you experience writing a class yourself and to appreciate what numpy does in the background for you automatically.\n",
    "\n",
    "You may use either your solution to Lab 5, or if your solution had errors, you may use the code given at the end of this Lab."
   ]
  },
  {
   "cell_type": "markdown",
   "id": "8fb0c5f2",
   "metadata": {},
   "source": [
    "# Exercise 1 &ndash; Matrix Class\n",
    "1. Create a matrix class with the following properties:\n",
    "    1. Matrices will be represented as lists of lists as we have done before\n",
    "    1. The class can be initialized in 2 ways:\n",
    "        1. with arguments `n` and `m`, the size of the matrix. A newly instanciated matrix will contain all zeros.\n",
    "        1. with a list of lists of values. Note that since we are using lists of lists to implement matrices, it is possible that not all rows have the same number of columns. Test explicitly that the matrix is properly specified.\n",
    "    1. Matrix instances M can be indexed with `M[i][j]` and `M[i,j]`.\n",
    "    1. Matrix assignment works in 2 ways:\n",
    "        1. If `M_1` and `M_2` are `matrix` instances `M_1=M_2` sets the values of `M_1` to those of `M_2`, if they are the same size. Error otherwise.\n",
    "        1. Assignment should also work if `M_2` is a list of lists of correct size."
   ]
  },
  {
   "cell_type": "code",
   "execution_count": 5,
   "id": "94d2ba0a",
   "metadata": {},
   "outputs": [],
   "source": [
    "class Matrix:\n",
    "    def __init__(self, n, m, list_here=None):\n",
    "        self.n = n\n",
    "        self.m = m\n",
    "        self.zeros = [[0]*self.n for x in range(self.m)]\n",
    "        if list_here = \n",
    "        \n"
   ]
  },
  {
   "cell_type": "code",
   "execution_count": 6,
   "id": "d253403e",
   "metadata": {},
   "outputs": [
    {
     "data": {
      "text/plain": [
       "[[0, 0, 0], [0, 0, 0], [0, 0, 0], [0, 0, 0], [0, 0, 0]]"
      ]
     },
     "execution_count": 6,
     "metadata": {},
     "output_type": "execute_result"
    }
   ],
   "source": [
    "mtx = Matrix(3,5)\n",
    "mtx.zeros\n"
   ]
  },
  {
   "cell_type": "markdown",
   "id": "8ca10282",
   "metadata": {},
   "source": [
    "## Exercise 2 &ndash; Internal methods\n",
    "Add the following methods to your class (note you may call your functions from Lab 5 or those below in these methods). Make sure to appropriately test the dimensions of the matrices to make sure the operations are correct.\n",
    "1. `M.scalarmul(c)`: a matrix that is scalar product $cM$, where every element of $M$ is multiplied by $c$.\n",
    "1. `M.add(N)`: adds two matrices $M$ and $N$. Don’t forget to test that the sizes of the matrices are compatible for this and all other operations.\n",
    "1. `M.sub(N)`: subtracts two matrices $M$ and $N$.\n",
    "1. `M.mat_mult(N)`: returns a matrix that is the matrix product of two matrices $M$ and $N$.\n",
    "1. `M.element_mult(N)`: returns a matrix that is the element-wise product of two matrices $M$ and $N$.\n",
    "1. `M.equals(N)`: returns true/false if $M==N$."
   ]
  },
  {
   "cell_type": "code",
   "execution_count": 9,
   "id": "515ec22d",
   "metadata": {},
   "outputs": [],
   "source": [
    "# Add these to your class here (copy and paste the class from Exercise 1)\n"
   ]
  },
  {
   "cell_type": "code",
   "execution_count": 10,
   "id": "7e4b8fd7",
   "metadata": {},
   "outputs": [],
   "source": [
    "# Test your functions thoroughly\n"
   ]
  },
  {
   "cell_type": "markdown",
   "id": "36fda2c0",
   "metadata": {},
   "source": [
    "## Exercise 3\n",
    "Modify the functions `zeros`, `ones`, and `constant` (of your own or those below) to create objects of your matrix class. Note these should be functions outside of your class."
   ]
  },
  {
   "cell_type": "code",
   "execution_count": null,
   "id": "5eeee64e",
   "metadata": {},
   "outputs": [],
   "source": [
    "# Write your functions here\n"
   ]
  },
  {
   "cell_type": "code",
   "execution_count": null,
   "id": "d16293d5",
   "metadata": {},
   "outputs": [],
   "source": [
    "# Test your functions here\n"
   ]
  },
  {
   "cell_type": "markdown",
   "id": "f3b3ac5e",
   "metadata": {},
   "source": [
    "## Exercise 4\n",
    "Overload python operators to appropriately use your functions in 4 and allow expressions like:\n",
    "- 2*M\n",
    "- M*2\n",
    "- M+N\n",
    "- M-N\n",
    "- M*N\n",
    "- M==N\n",
    "- M=N\n",
    "\n",
    "You may find this tutorial useful [https://realpython.com/operator-function-overloading/]. I will also discuss overloading in Lecture Monday 11/22.\n",
    "\n",
    "Demonstrate the basic properties of matrices with your matrix class by creating two 2 by 2 example matrices using your Matrix class and illustrating the following:\n",
    "\n",
    "1. $(AB)C = A(BC)$\n",
    "1. $A(B+C)=AB+AC$\n",
    "1. $AB \\neq BA$\n",
    "1. $AI = A$\n",
    "1. $AB = 0$ if $B$ is the 0 matrix"
   ]
  },
  {
   "cell_type": "code",
   "execution_count": null,
   "id": "83ace0ed",
   "metadata": {},
   "outputs": [],
   "source": [
    "# Modify your class here (copy and paste it from Exercise 2)\n"
   ]
  },
  {
   "cell_type": "code",
   "execution_count": 11,
   "id": "0d8df67a",
   "metadata": {},
   "outputs": [],
   "source": [
    "# Test your functions here\n"
   ]
  },
  {
   "cell_type": "markdown",
   "id": "02e9850f",
   "metadata": {},
   "source": [
    "## Functions from Lab 5\n",
    "You can use these freely"
   ]
  },
  {
   "cell_type": "code",
   "execution_count": 5,
   "id": "4ca5c7e6",
   "metadata": {},
   "outputs": [],
   "source": [
    "def zeros(m,n):\n",
    "    return [[0]*n for x in range(m)]\n",
    "\n",
    "def constant(m,n,c):\n",
    "    return [[c]*n for x in range(m)]\n",
    "\n",
    "def ones(m,n,c):\n",
    "    return constant(m,n,1)\n",
    "\n",
    "def eye(n):\n",
    "    x = zeros(n,n)\n",
    "    for i in range(n):\n",
    "        x[i][i]=1\n",
    "    return x\n",
    "\n",
    "def is_matrix(matrix):\n",
    "    if type(matrix)!=list:\n",
    "        print(\"Not a matrix\")\n",
    "        return False\n",
    "    if type(matrix[0])!=list:\n",
    "        print(\"Not a matrix\")\n",
    "        return False\n",
    "    _ = len(matrix[0])\n",
    "    for i in matrix:\n",
    "        if len(i)!=_:\n",
    "            print(\"Not a matrix\")\n",
    "            return False\n",
    "    return True\n",
    "\n",
    "def shape(matrix):\n",
    "    if not is_matrix(matrix):\n",
    "        return\n",
    "    row_len = len(matrix)\n",
    "    col_len = len(matrix[0])\n",
    "    return (row_len,col_len)\n",
    "\n",
    "def is_square_matrix(matrix):\n",
    "    x,y = matrix_shape(matrix)\n",
    "    if x != y:\n",
    "        print(\"Not a square matrix\")\n",
    "        return False\n",
    "    return True\n",
    "\n",
    "def matrix_add(a,b):\n",
    "    if not is_matrix(a): \n",
    "        print(\"A is not a matrix\")\n",
    "        return \n",
    "    if not is_matrix(b):\n",
    "        print(\"B is not a matrix\")\n",
    "        return \n",
    "    if matrix_shape(a)!=matrix_shape(b):\n",
    "        print(\"Matrices must be the same shape\")\n",
    "        return \n",
    "    row,col = matrix_shape(a)\n",
    "    return_matrix = zero_matrix(row,col)\n",
    "    for i in range(len(a)):\n",
    "        for j in range(len(a[i])):\n",
    "            return_matrix[i][j] = a[i][j]+b[i][j]\n",
    "    return return_matrix\n",
    "\n",
    "def matrix_neg(matrix):  \n",
    "    return matrix_scalar_multiply(-1,matrix)\n",
    "\n",
    "def matrix_sub(a,b):\n",
    "    return matrix_add(a,matrix_neg(b))\n",
    "\n",
    "def transpose(matrix):\n",
    "    if not is_matrix(matrix): \n",
    "        print(\"Error. Not a matrix\")\n",
    "        return \n",
    "    col,row = matrix_shape(matrix)\n",
    "    return_matrix = zero_matrix(row,col)\n",
    "    for i in range(row):\n",
    "        for j in range(col):\n",
    "            return_matrix[i][j]=matrix[j][i]\n",
    "    return return_matrix\n",
    "\n",
    "def matrix_scalar_multiply(scalar,matrix):\n",
    "    if not is_matrix(matrix): \n",
    "        print(\"Error. Not a matrix\")\n",
    "        return \n",
    "    row,col = matrix_shape(matrix)\n",
    "    return_matrix = zero_matrix(row,col)\n",
    "    for i in range(row):\n",
    "        for j in range(col):\n",
    "            return_matrix[i][j]=matrix[i][j]*scalar\n",
    "    return return_matrix\n",
    "\n",
    "def matrix_multiply(M1,M2):\n",
    "    m1,n1=matrix_shape(M1)\n",
    "    m2,n2=matrix_shape(M2)\n",
    "    \n",
    "    if n1==m2:\n",
    "        \n",
    "        M3=zero_matrix(m1,n2)\n",
    "        \n",
    "        for i in range(m1):\n",
    "            for j in range(n2):\n",
    "                # Compute the element\n",
    "                for k in range(n1):\n",
    "                    M3[i][j]+=M1[i][k]*M2[k][j]\n",
    "        return M3\n",
    "    else:\n",
    "        print(\"Error, matrix dimensions do not match.\")\n",
    "    \n",
    "def elementwise_multiply(M1,M2):\n",
    "    m1,n1=matrix_shape(M1)\n",
    "    m2,n2=matrix_shape(M2)\n",
    "    \n",
    "    if m1==m2 and n1==n2:\n",
    "        M3 = zero_matrix(m1,n1)\n",
    "        for i in range(m1):\n",
    "            for j in range(n1):\n",
    "                M3[i][j] = M1[i][j]*M2[i][j]\n",
    "        return M3\n",
    "    else:\n",
    "        print(\"Error: matrices must be the same shape.\")\n",
    "        \n",
    "def dot_product(M1,M2):\n",
    "    m1,n1=matrix_shape(M1)\n",
    "    m2,n2=matrix_shape(M2)\n",
    "    \n",
    "    if m1==m2 and n1==n2:\n",
    "        dotprod = 0\n",
    "        for i in range(m1):\n",
    "            for j in range(n1):\n",
    "                dotprod += M1[i][j]*M2[i][j]\n",
    "        return dotprod\n",
    "    else:\n",
    "        print(\"Error: matrices must be the same shape.\")"
   ]
  }
 ],
 "metadata": {
  "kernelspec": {
   "display_name": "Python 3 (ipykernel)",
   "language": "python",
   "name": "python3"
  },
  "language_info": {
   "codemirror_mode": {
    "name": "ipython",
    "version": 3
   },
   "file_extension": ".py",
   "mimetype": "text/x-python",
   "name": "python",
   "nbconvert_exporter": "python",
   "pygments_lexer": "ipython3",
   "version": "3.8.10"
  }
 },
 "nbformat": 4,
 "nbformat_minor": 5
}
