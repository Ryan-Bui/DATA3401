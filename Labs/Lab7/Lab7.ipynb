{
 "cells": [
  {
   "cell_type": "markdown",
   "id": "7158db75",
   "metadata": {},
   "source": [
    "# <center>Lab 7 &ndash; DATA 3401 (Fall 2021)</center>\n",
    "\n",
    "## Lab Date: 11/5\n",
    "## Due Date 11/12 (before the beginning of lab)\n",
    "\n",
    "## Lab Description\n",
    "The purpose of this lab is for you to become more familiar with numpy and matplotlib"
   ]
  },
  {
   "cell_type": "markdown",
   "id": "0a27e961",
   "metadata": {},
   "source": [
    "## Exercise 1\n",
    "On the same plot, graph the functions $y=\\sin x$, $y=\\cos x$, and $y = \\begin{cases} 1, x \\geq0\\\\ 0, x<0\\end{cases}$ on the interval $[-2\\pi,2\\pi]$.\n",
    "1. Make sure the curves have different colors\n",
    "1. Add a legend and label each curve appropriately "
   ]
  },
  {
   "cell_type": "code",
   "execution_count": 1,
   "id": "a2e127ee",
   "metadata": {},
   "outputs": [],
   "source": [
    "import numpy as np\n",
    "import matplotlib\n",
    "from matplotlib import pyplot as plt"
   ]
  },
  {
   "cell_type": "code",
   "execution_count": 22,
   "id": "5bfc4df8",
   "metadata": {},
   "outputs": [
    {
     "data": {
      "image/png": "[encoded data removed]",
      "text/plain": [
       "<Figure size 432x288 with 1 Axes>"
      ]
     },
     "metadata": {
      "needs_background": "light"
     },
     "output_type": "display_data"
    }
   ],
   "source": [
    "x = np.linspace(-2*np.pi,2*np.pi,100)\n",
    "\n",
    "fig, ax = plt.subplots()\n",
    "\n",
    "ax.plot(x,np.sin(x), color = \"red\", label=\"y = sin(x)\")\n",
    "ax.plot(x,np.cos(x), color = \"blue\", label=\"y = cos(x)\")\n",
    "ax.legend(loc=0)\n",
    "ax.set_xlabel('x')\n",
    "ax.set_ylabel('y')\n",
    "ax.set_title('Cos and Sin')\n",
    "plt.show()"
   ]
  },
  {
   "cell_type": "markdown",
   "id": "caa3584e",
   "metadata": {},
   "source": [
    "## Exercise 2\n",
    "1. Write a function that rolls a dice `n` times for a given integer `n` and computes a *running percentage* of times each number is rolled (# of times 1 has been rolled)/(# of rolls so far) and so on. That is, at the `i`-th roll, you should compute (# of 1s)/i, (# of 2s)/i, ... and store these values.\n",
    "1. Modify this function to take in a probability distribution over the 6 numbers of the form `p=np.array([p1,p2,p3,p4,p5,p6])` and roll a dice `n` times with these probabilities\n",
    "1. Run your function from part 1 with $n=1000$ and graph the rolling averages for all numbers vs. `i in range(n)`\n",
    "1. Run your function from part 2 with $n=1000$ and $p= [.2,.1,.2,.1..1,.3]$\n",
    "1. Use the plots above to justify that the first dice is fair and the second is unfair"
   ]
  },
  {
   "cell_type": "code",
   "execution_count": 548,
   "id": "87bcf79f",
   "metadata": {},
   "outputs": [],
   "source": [
    "def average_roll(num_dicerolls):\n",
    "    dice = np.array([1,2,3,4,5,6])\n",
    "    def roll_dice():\n",
    "        dice_roll = np.random.choice((dice),1,replace=True)\n",
    "        return dice_roll[0]\n",
    "    counter = 0\n",
    "    percentages_1 = []\n",
    "    percentages_2 = []\n",
    "    percentages_3 = []\n",
    "    percentages_4 = []\n",
    "    percentages_5 = []\n",
    "    percentages_6 = []\n",
    "    while counter < num_dicerolls:\n",
    "        temp = roll_dice()\n",
    "        counter += 1\n",
    "        count_1 = np.count_nonzero(temp == 1)\n",
    "        percentages_1.append(count_1/counter)\n",
    "        count_2 = np.count_nonzero(temp == 2)\n",
    "        percentages_2.append(count_2/counter)\n",
    "        count_3 = np.count_nonzero(temp == 3)\n",
    "        percentages_3.append(count_3/counter)\n",
    "        count_4 = np.count_nonzero(temp == 4)\n",
    "        percentages_4.append(count_4/counter)\n",
    "        count_5 = np.count_nonzero(temp == 5)\n",
    "        percentages_5.append(count_5/counter)\n",
    "        count_6 = np.count_nonzero(temp == 6)\n",
    "        percentages_6.append(count_6/counter)\n",
    "    \n",
    "    array_1 = np.array(percentages_1)\n",
    "    array_2 = np.array(percentages_2)\n",
    "    array_3 = np.array(percentages_3)\n",
    "    array_4 = np.array(percentages_4)\n",
    "    array_5 = np.array(percentages_5)\n",
    "    array_6 = np.array(percentages_6)\n",
    "    \n",
    "            \n",
    "    return array_1\n",
    "\n",
    "    #print(roll_dice)\n",
    "   # print(\"This is the percentages of the dice rolls of 1-6 respectively: \",(dice_percentages))\n",
    "    \n"
   ]
  },
  {
   "cell_type": "code",
   "execution_count": 547,
   "id": "398dfff1",
   "metadata": {},
   "outputs": [
    {
     "data": {
      "text/plain": [
       "(20,\n",
       " array([0.        , 0.        , 0.        , 0.        , 0.        ,\n",
       "        0.        , 0.        , 0.        , 0.        , 0.1       ,\n",
       "        0.09090909, 0.        , 0.        , 0.        , 0.06666667,\n",
       "        0.        , 0.05882353, 0.        , 0.        , 0.05      ]))"
      ]
     },
     "execution_count": 547,
     "metadata": {},
     "output_type": "execute_result"
    }
   ],
   "source": [
    "average_roll(20)"
   ]
  },
  {
   "cell_type": "code",
   "execution_count": 554,
   "id": "5c2f27d2",
   "metadata": {},
   "outputs": [],
   "source": [
    "def fair_average_roll(num_dicerolls):\n",
    "    dice = np.array([1,2,3,4,5,6])\n",
    "    p = np.array([1/6,1/6,1/6,1/6,1/6,1/6])\n",
    "    def roll_dice():\n",
    "        dice_roll = np.random.choice((dice),1,p=p,replace=True)\n",
    "        return dice_roll[0]\n",
    "    counter = 0\n",
    "    percentages_1 = []\n",
    "    percentages_2 = []\n",
    "    percentages_3 = []\n",
    "    percentages_4 = []\n",
    "    percentages_5 = []\n",
    "    percentages_6 = []\n",
    "    while counter < num_dicerolls:\n",
    "        temp = roll_dice()\n",
    "        counter += 1\n",
    "        count_1 = np.count_nonzero(temp == 1)\n",
    "        percentages_1.append(count_1/counter)\n",
    "        count_2 = np.count_nonzero(temp == 2)\n",
    "        percentages_2.append(count_2/counter)\n",
    "        count_3 = np.count_nonzero(temp == 3)\n",
    "        percentages_3.append(count_3/counter)\n",
    "        count_4 = np.count_nonzero(temp == 4)\n",
    "        percentages_4.append(count_4/counter)\n",
    "        count_5 = np.count_nonzero(temp == 5)\n",
    "        percentages_5.append(count_5/counter)\n",
    "        count_6 = np.count_nonzero(temp == 6)\n",
    "        percentages_6.append(count_6/counter)\n",
    "    \n",
    "    array_1 = np.array(percentages_1)\n",
    "    array_2 = np.array(percentages_2)\n",
    "    array_3 = np.array(percentages_3)\n",
    "    array_4 = np.array(percentages_4)\n",
    "    array_5 = np.array(percentages_5)\n",
    "    array_6 = np.array(percentages_6)\n",
    "    return array_1\n",
    "    \n",
    "\n",
    "\n",
    "\n",
    "\n",
    "def unfair_dice_roll(num_dicerolls):\n",
    "    dice = np.array([1,2,3,4,5,6])\n",
    "    p = np.array([0.2,0.1,0.2,0.1,0.1,0.3])\n",
    "   "
   ]
  },
  {
   "cell_type": "code",
   "execution_count": 595,
   "id": "b13791a8",
   "metadata": {},
   "outputs": [
    {
     "data": {
      "text/plain": [
       "[<matplotlib.lines.Line2D at 0x7f6cf61e1df0>]"
      ]
     },
     "execution_count": 595,
     "metadata": {},
     "output_type": "execute_result"
    },
    {
     "data": {
      "image/png": "[encoded data removed]",
      "text/plain": [
       "<Figure size 432x288 with 1 Axes>"
      ]
     },
     "metadata": {
      "needs_background": "light"
     },
     "output_type": "display_data"
    }
   ],
   "source": [
    "rolls = 1000\n",
    "run = fair_average_roll(rolls)\n",
    "x = range(rolls)\n",
    "y = run\n",
    "plt.plot(x,y)"
   ]
  },
  {
   "cell_type": "code",
   "execution_count": 579,
   "id": "1f3cf938",
   "metadata": {},
   "outputs": [
    {
     "data": {
      "text/plain": [
       "<Figure size 432x288 with 0 Axes>"
      ]
     },
     "execution_count": 579,
     "metadata": {},
     "output_type": "execute_result"
    },
    {
     "data": {
      "text/plain": [
       "<Figure size 432x288 with 0 Axes>"
      ]
     },
     "metadata": {},
     "output_type": "display_data"
    }
   ],
   "source": []
  },
  {
   "cell_type": "code",
   "execution_count": 538,
   "id": "b8c8b739",
   "metadata": {},
   "outputs": [],
   "source": []
  },
  {
   "cell_type": "code",
   "execution_count": null,
   "id": "4a2e4604",
   "metadata": {},
   "outputs": [],
   "source": []
  },
  {
   "cell_type": "code",
   "execution_count": 405,
   "id": "ca7ecdb0",
   "metadata": {},
   "outputs": [
    {
     "data": {
      "image/png": "[encoded data removed]",
      "text/plain": [
       "<Figure size 576x432 with 1 Axes>"
      ]
     },
     "metadata": {
      "needs_background": "light"
     },
     "output_type": "display_data"
    }
   ],
   "source": [
    "plt.figure(figsize=(8,6))\n",
    "plt.xlim(0,7)\n",
    "plt.ylim(0,0.25)\n",
    "plt.scatter(domain,run)\n",
    "plt.grid()\n",
    "plt.show()"
   ]
  },
  {
   "cell_type": "code",
   "execution_count": 407,
   "id": "8c723411",
   "metadata": {},
   "outputs": [
    {
     "data": {
      "image/png": "[encoded data removed]",
      "text/plain": [
       "<Figure size 576x432 with 1 Axes>"
      ]
     },
     "metadata": {
      "needs_background": "light"
     },
     "output_type": "display_data"
    }
   ],
   "source": [
    "run_unfair = unfair_dice_roll(rolls)\n",
    "plt.figure(figsize=(8,6))\n",
    "plt.xlim(0,7)\n",
    "plt.ylim(0,0.5)\n",
    "plt.scatter(domain,run_unfair)\n",
    "plt.grid()\n",
    "plt.show()"
   ]
  },
  {
   "cell_type": "code",
   "execution_count": 410,
   "id": "3140e86a",
   "metadata": {},
   "outputs": [
    {
     "data": {
      "text/plain": [
       "<function matplotlib.pyplot.show(close=None, block=None)>"
      ]
     },
     "execution_count": 410,
     "metadata": {},
     "output_type": "execute_result"
    }
   ],
   "source": [
    "ax.plot(domain,run, color = \"red\", label=\"Distribution\")\n",
    "plt.show"
   ]
  },
  {
   "cell_type": "markdown",
   "id": "5dbb30ec",
   "metadata": {},
   "source": [
    "## Exercise 3\n",
    "Plot the 2-variable function $\\sin(10(x^2+y^2))/10$ for $x\\in[-1,1]$ and $y\\in[-1,1]$"
   ]
  },
  {
   "cell_type": "code",
   "execution_count": 140,
   "id": "0e2b2f7a",
   "metadata": {},
   "outputs": [
    {
     "data": {
      "image/png": "[encoded data removed]",
      "text/plain": [
       "<Figure size 432x288 with 1 Axes>"
      ]
     },
     "metadata": {
      "needs_background": "light"
     },
     "output_type": "display_data"
    }
   ],
   "source": [
    "fig, ax = plt.subplots()\n",
    "\n",
    "\n",
    "ax.plot(x,np.sin(10*(x**2+y**2))/10,label = \"y = $\\sin(10(x^2+y^2))/10$\")\n",
    "ax.legend(loc=8)\n",
    "ax.set_xlim([-1,1])\n",
    "ax.set_ylim([-1,1])\n",
    "ax.set_xlabel('x')\n",
    "ax.set_ylabel('y')\n",
    "ax.set_title('N/A')\n",
    "plt.show()\n"
   ]
  },
  {
   "cell_type": "markdown",
   "id": "e7ebbd9e",
   "metadata": {},
   "source": [
    "## Background: Central Limit Theorem\n",
    "In probability theory, the central limit theorem (CLT) establishes that, when independent random variables are added together, their properly normalized sum tends toward a normal distribution (informally a “bell curve”) even if the original variables themselves are not normally distributed. To understand this theorem, suppose you generate 100 uniform random numbers and sum them to get a single number. Then you repeat this procedure 1000 times to get 1000 of these sums of 100 uniform random numbers. The CLT theorem implies that if you plot a histogram of the values of these 1000 sums, then the resulting distribution looks very much like the Gaussian bell-shaped function. The larger the number of these sums (for example, 100000 instead of 1000 sums), the more the resulting distribution will look like a Gaussian. Here we want to see this theorem in action.\n",
    "\n",
    "## Exercise 4\n",
    "Consider that a person is standing on the real line at a given point $x_0$. The person then goes on a \"random walk\", meaning that they first take a step of size 1 in a random direction (so after this step they are either standing at $x_0+1$ or $x_0-1$), then they take another step of size 1 in a random direction (after the second step they are standing at one of $x_0-2, x_0,$ or  $x_0+2$), and they continue this process for $n$ steps. At each stage, the person flips a fair coin to decide which direction to go in.\n",
    "1. Write a function `RandomWalk(num_steps,start_position)`, that takes the number of steps `num_steps` for a random walk and the `start_position` of the random walk on the real line (so a float), and returns the location of the final step of the random walker.\n",
    "2. Write another function `SimulateRandomWalk(num_sims,num_steps,start_position)` that simulates num_sims number of random walks, each of which contains `num_steps` steps and starts at `start_position`. Then, this function calls `RandomWalk()` repeatedly for `num_sims` times and finally returns a vector of size `num_sim` containing the final locations of all of the `num_sims` simulated random-walks.\n",
    "3. Now write a script that plots the output of `SimulateRandomWalk(num_sims = 10000, num_steps = 10, start_position = 0)` in a histogram\n",
    "4. Interpret your results"
   ]
  },
  {
   "cell_type": "code",
   "execution_count": 365,
   "id": "cc8fa85b",
   "metadata": {},
   "outputs": [],
   "source": [
    "def RandomWalk(num_steps,start_position):\n",
    "    print('You have started here:',start_position)\n",
    "    def rand_direction():\n",
    "        random_direction = np.random.choice(([1,0]),1,replace = True)\n",
    "        return(random_direction[0])\n",
    "    #return(rand_direction())\n",
    "    for i in range(num_steps):\n",
    "        if rand_direction() == 1:\n",
    "            start_position += 1\n",
    "        else:\n",
    "            start_position -= 1\n",
    "        print(start_position)\n",
    "    "
   ]
  },
  {
   "cell_type": "code",
   "execution_count": 366,
   "id": "66ecb352",
   "metadata": {},
   "outputs": [
    {
     "name": "stdout",
     "output_type": "stream",
     "text": [
      "You have started here: 1.5\n",
      "0.5\n",
      "1.5\n",
      "2.5\n",
      "1.5\n"
     ]
    }
   ],
   "source": [
    "RandomWalk(4,1.5)\n"
   ]
  },
  {
   "cell_type": "code",
   "execution_count": 387,
   "id": "d2f23788",
   "metadata": {},
   "outputs": [],
   "source": [
    "def RandomWalk_new(num_steps,start_position):\n",
    "    #print('You have started here:',start_position)\n",
    "    def rand_direction():\n",
    "        random_direction = np.random.choice(([1,0]),1,replace = True)\n",
    "        return(random_direction[0])\n",
    "    #return(rand_direction())\n",
    "    for i in range(num_steps):\n",
    "        if rand_direction() == 1:\n",
    "            start_position += 1\n",
    "        else:\n",
    "            start_position -= 1\n",
    "    return(start_position)\n",
    "\n",
    "\n",
    "\n",
    "def SimulateRandomWalk(num_sims,num_steps,start_position):\n",
    "    empty = []\n",
    "    for i in range(num_sims):\n",
    "        temp1 = empyt.append(RandomWalk_new(num_steps,start_position))\n",
    "    positions = np.array(temp)\n",
    "    return positions\n",
    "    "
   ]
  },
  {
   "cell_type": "code",
   "execution_count": 389,
   "id": "d9939181",
   "metadata": {},
   "outputs": [
    {
     "data": {
      "text/plain": [
       "array([-3, -3, -1, -1,  1,  5,  5,  7,  5,  1,  3, -1,  9, -1, -1, -1,  3,\n",
       "        1, -3,  5])"
      ]
     },
     "execution_count": 389,
     "metadata": {},
     "output_type": "execute_result"
    }
   ],
   "source": [
    "SimulateRandomWalk(20,10,1)"
   ]
  },
  {
   "cell_type": "code",
   "execution_count": 391,
   "id": "fb228de7",
   "metadata": {},
   "outputs": [
    {
     "data": {
      "text/plain": [
       "(array([   9.,   96.,  447., 1226., 2089., 2397., 2022., 1132.,  462.,\n",
       "         120.]),\n",
       " array([-10.,  -8.,  -6.,  -4.,  -2.,   0.,   2.,   4.,   6.,   8.,  10.]),\n",
       " <BarContainer object of 10 artists>)"
      ]
     },
     "execution_count": 391,
     "metadata": {},
     "output_type": "execute_result"
    },
    {
     "data": {
      "image/png": "[encoded data removed]",
      "text/plain": [
       "<Figure size 432x288 with 1 Axes>"
      ]
     },
     "metadata": {
      "needs_background": "light"
     },
     "output_type": "display_data"
    }
   ],
   "source": [
    "plt.hist(SimulateRandomWalk(10000,10,0),bins=10,range=(-10,10))"
   ]
  },
  {
   "cell_type": "markdown",
   "id": "b9501ade",
   "metadata": {},
   "source": [
    "I can see that after 10000 trials the distrubtion resembles a bell curve that the central limit theorem predicts.\n"
   ]
  },
  {
   "cell_type": "code",
   "execution_count": null,
   "id": "83316c6d",
   "metadata": {},
   "outputs": [],
   "source": []
  },
  {
   "cell_type": "code",
   "execution_count": null,
   "id": "262d1a4b",
   "metadata": {},
   "outputs": [],
   "source": []
  }
 ],
 "metadata": {
  "kernelspec": {
   "display_name": "Python 3 (ipykernel)",
   "language": "python",
   "name": "python3"
  },
  "language_info": {
   "codemirror_mode": {
    "name": "ipython",
    "version": 3
   },
   "file_extension": ".py",
   "mimetype": "text/x-python",
   "name": "python",
   "nbconvert_exporter": "python",
   "pygments_lexer": "ipython3",
   "version": "3.8.10"
  }
 },
 "nbformat": 4,
 "nbformat_minor": 5
}
