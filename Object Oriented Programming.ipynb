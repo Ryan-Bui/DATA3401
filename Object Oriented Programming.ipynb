{
 "cells": [
  {
   "cell_type": "code",
   "execution_count": 1,
   "id": "80ed79c9",
   "metadata": {},
   "outputs": [],
   "source": [
    "import numpy as np\n",
    "a = np.matrix([[1,2,3],[4,5,6]])"
   ]
  },
  {
   "cell_type": "code",
   "execution_count": 4,
   "id": "e7802b8e",
   "metadata": {},
   "outputs": [
    {
     "name": "stdout",
     "output_type": "stream",
     "text": [
      "<class 'numpy.matrix'>\n",
      "[[1 4]\n",
      " [2 5]\n",
      " [3 6]]\n",
      "(2, 3)\n",
      "[[1 4]\n",
      " [2 5]\n",
      " [3 6]]\n"
     ]
    }
   ],
   "source": [
    "print(type(a))\n",
    "print(a.T)\n",
    "print(a.shape)\n",
    "print(a.transpose())"
   ]
  },
  {
   "cell_type": "code",
   "execution_count": 5,
   "id": "c8a79c04",
   "metadata": {},
   "outputs": [],
   "source": [
    "class Dog:\n",
    "    pass # placeholder"
   ]
  },
  {
   "cell_type": "code",
   "execution_count": 7,
   "id": "b25bb2f3",
   "metadata": {},
   "outputs": [
    {
     "name": "stdout",
     "output_type": "stream",
     "text": [
      "<class '__main__.Dog'>\n"
     ]
    }
   ],
   "source": [
    "my_dog = Dog() # must have ()!!\n",
    "print(type(my_dog))"
   ]
  },
  {
   "cell_type": "code",
   "execution_count": 8,
   "id": "3de87bf7",
   "metadata": {},
   "outputs": [
    {
     "data": {
      "text/plain": [
       "True"
      ]
     },
     "execution_count": 8,
     "metadata": {},
     "output_type": "execute_result"
    }
   ],
   "source": [
    "isinstance(my_dog,Dog)"
   ]
  },
  {
   "cell_type": "markdown",
   "id": "b0325f0f",
   "metadata": {},
   "source": [
    "## Class Attributes\n",
    "In practice a dog as a color, breed, age, and other attributes, and it can do things like eat, run, sleep, bark etc.\n"
   ]
  },
  {
   "cell_type": "code",
   "execution_count": 9,
   "id": "272a83db",
   "metadata": {},
   "outputs": [],
   "source": [
    "class Dog:\n",
    "    # Atributes\n",
    "    age = 0\n",
    "    name = 'noname'\n",
    "    breed = 'nobreed'\n",
    "    color = 'nocolor'\n",
    "    "
   ]
  },
  {
   "cell_type": "code",
   "execution_count": 10,
   "id": "f08734ee",
   "metadata": {},
   "outputs": [
    {
     "name": "stdout",
     "output_type": "stream",
     "text": [
      "noname is a 0-year old nocolor nobreed.\n"
     ]
    }
   ],
   "source": [
    "my_dog = Dog()\n",
    "print('{} is a {}-year old {} {}.'.format(my_dog.name,my_dog.age,my_dog.color,my_dog.breed))"
   ]
  },
  {
   "cell_type": "code",
   "execution_count": 11,
   "id": "e7123ebf",
   "metadata": {},
   "outputs": [
    {
     "name": "stdout",
     "output_type": "stream",
     "text": [
      "Fido is a 2-year old brown Labradoodle.\n"
     ]
    }
   ],
   "source": [
    "my_dog = Dog()\n",
    "my_dog.age = 2\n",
    "my_dog.name = 'Fido'\n",
    "my_dog.color = 'brown'\n",
    "my_dog.breed = 'Labradoodle'\n",
    "print('{} is a {}-year old {} {}.'.format(my_dog.name,my_dog.age,my_dog.color,my_dog.breed))\n",
    "\n"
   ]
  },
  {
   "cell_type": "markdown",
   "id": "d88fe205",
   "metadata": {},
   "source": [
    "## Object Constructor\n"
   ]
  },
  {
   "cell_type": "code",
   "execution_count": 14,
   "id": "e8c826d4",
   "metadata": {},
   "outputs": [],
   "source": [
    "class Dog:\n",
    "    def __init__(self, age ,name ,breed ,color):\n",
    "        self.age = age\n",
    "        self.name = name\n",
    "        self.breed = breed\n",
    "        self.color = color"
   ]
  },
  {
   "cell_type": "code",
   "execution_count": 16,
   "id": "ab085cea",
   "metadata": {},
   "outputs": [
    {
     "name": "stdout",
     "output_type": "stream",
     "text": [
      "Coco is a 4-year old Brown Corgie.\n"
     ]
    }
   ],
   "source": [
    "my_dog = Dog('4','Coco','Corgie','Brown')\n",
    "print('{} is a {}-year old {} {}.'.format(my_dog.name,my_dog.age,my_dog.color,my_dog.breed))"
   ]
  },
  {
   "cell_type": "code",
   "execution_count": 17,
   "id": "293da82c",
   "metadata": {},
   "outputs": [],
   "source": [
    "class Dog:\n",
    "    def __init__(self, age ,name ,breed ,color):\n",
    "        self.age = age\n",
    "        self.name = name\n",
    "        self.breed = breed\n",
    "        self.color = color\n",
    "    def info(self):\n",
    "        print('{} is a {}-year old {} {}.'.format(my_dog.name,my_dog.age,my_dog.color,my_dog.breed))"
   ]
  },
  {
   "cell_type": "code",
   "execution_count": 18,
   "id": "3fae9637",
   "metadata": {},
   "outputs": [
    {
     "name": "stdout",
     "output_type": "stream",
     "text": [
      "Coco is a 4-year old Brown Corgie.\n"
     ]
    }
   ],
   "source": [
    "my_dog = Dog('4','Coco','Corgie','Brown')\n",
    "my_dog.info()"
   ]
  },
  {
   "cell_type": "code",
   "execution_count": 20,
   "id": "10085b26",
   "metadata": {},
   "outputs": [],
   "source": [
    "class Dog:\n",
    "    def __init__(self, age = 0 ,name = 'noname' ,breed = 'nobreed' ,color = 'nocolor'):\n",
    "        self.age = age\n",
    "        self.name = name\n",
    "        self.breed = breed\n",
    "        self.color = color\n",
    "    def info(self):\n",
    "        print('{} is a {}-year old {} {}.'.format(my_dog.name,my_dog.age,my_dog.color,my_dog.breed))"
   ]
  },
  {
   "cell_type": "code",
   "execution_count": 21,
   "id": "19d44588",
   "metadata": {},
   "outputs": [
    {
     "name": "stdout",
     "output_type": "stream",
     "text": [
      "noname is a 0-year old nocolor nobreed.\n"
     ]
    }
   ],
   "source": [
    "my_dog = Dog()\n",
    "my_dog.info()"
   ]
  },
  {
   "cell_type": "code",
   "execution_count": 22,
   "id": "01fcd0c4",
   "metadata": {},
   "outputs": [],
   "source": [
    "class Dog:\n",
    "    #Global Attributes\n",
    "    species = 'mammal'\n",
    "    \n",
    "    def __init__(self, age = 0 ,name = 'noname' ,breed = 'nobreed' ,color = 'nocolor'):\n",
    "        self.age = age\n",
    "        self.name = name\n",
    "        self.breed = breed\n",
    "        self.color = color\n",
    "    def info(self):\n",
    "        print('{} is a {}-year old {} {}.'.format(my_dog.name,my_dog.age,my_dog.color,my_dog.breed))"
   ]
  },
  {
   "cell_type": "code",
   "execution_count": 23,
   "id": "5f7a78f0",
   "metadata": {},
   "outputs": [
    {
     "name": "stdout",
     "output_type": "stream",
     "text": [
      "Ralph is a 7-year old gray Chihuahua.\n",
      "mammal\n"
     ]
    }
   ],
   "source": [
    "my_dog = Dog(name = 'Ralph', age = 7, color = 'gray', breed = 'Chihuahua')\n",
    "my_dog.info()\n",
    "print(my_dog.species)"
   ]
  },
  {
   "cell_type": "markdown",
   "id": "66fd3124",
   "metadata": {},
   "source": [
    "## A physics example"
   ]
  },
  {
   "cell_type": "code",
   "execution_count": 37,
   "id": "677c0eec",
   "metadata": {},
   "outputs": [],
   "source": [
    "class Projectile():\n",
    "    gravityConstant = 9.81 # m/s^2\n",
    "\n",
    "    def __init__(self, initVelocity):\n",
    "        self.initVelocity = initVelocity\n",
    "        #self.time = time\n",
    "    def getHeight(self, time):\n",
    "        return self.initVelocity*time-.5*self.gravityConstant*time**2\n",
    "    \n",
    "    "
   ]
  },
  {
   "cell_type": "code",
   "execution_count": 40,
   "id": "e23e3f61",
   "metadata": {},
   "outputs": [
    {
     "name": "stdout",
     "output_type": "stream",
     "text": [
      "0.95095\n",
      "10\n"
     ]
    }
   ],
   "source": [
    "ball = Projectile(initVelocity = 10)\n",
    "height = ball.getHeight(.1)\n",
    "print(height)\n",
    "print(ball.initVelocity)\n"
   ]
  },
  {
   "cell_type": "code",
   "execution_count": 42,
   "id": "b6a8dd50",
   "metadata": {},
   "outputs": [],
   "source": [
    "class Projectile():\n",
    "    gravityConstant = 9.81 # m/s^2\n",
    "\n",
    "    def __init__(self, initVelocity):\n",
    "        self.initVelocity = initVelocity\n",
    "        #self.time = time\n",
    "        \n",
    "\n",
    "        \n",
    "    def getHeight(self, time):\n",
    "        return self.initVelocity*time-.5*self.gravityConstant*time**2\n",
    "    "
   ]
  },
  {
   "cell_type": "markdown",
   "id": "5a4bc9e7",
   "metadata": {},
   "source": [
    "## Inhertiance"
   ]
  },
  {
   "cell_type": "code",
   "execution_count": 44,
   "id": "63bf00e0",
   "metadata": {},
   "outputs": [
    {
     "ename": "SyntaxError",
     "evalue": "unexpected EOF while parsing (3181131011.py, line 4)",
     "output_type": "error",
     "traceback": [
      "\u001b[0;36m  File \u001b[0;32m\"/tmp/ipykernel_128/3181131011.py\"\u001b[0;36m, line \u001b[0;32m4\u001b[0m\n\u001b[0;31m    \u001b[0m\n\u001b[0m    ^\u001b[0m\n\u001b[0;31mSyntaxError\u001b[0m\u001b[0;31m:\u001b[0m unexpected EOF while parsing\n"
     ]
    }
   ],
   "source": [
    "class childName(parentName):\n",
    "    ## list of all new, sub-class specific attributes and methods\n",
    "     # including the sub-class constructor\n",
    "        "
   ]
  },
  {
   "cell_type": "code",
   "execution_count": 45,
   "id": "4a126467",
   "metadata": {},
   "outputs": [],
   "source": [
    "class Animal: \n",
    "    #Animal Constructor\n",
    "    def __init__(self,age = 0, weight = 0, animal_is_alive = True):\n",
    "        self.age = age\n",
    "        self.weigt = weight\n",
    "        self.animal_is_alive = animal_is_alive\n",
    "        \n",
    "        #eat food\n",
    "    def eat(self, food = None):\n",
    "        if food  == None:\n",
    "            print(\"There is nothing to eat :-(\")\n",
    "        else:\n",
    "            print('Eating {}...yum yum....'.format(food))\n",
    "    #sleeping\n",
    "    def sleep(self):\n",
    "        print('Sleeping...zzzzzzzz....')\n",
    "        "
   ]
  },
  {
   "cell_type": "code",
   "execution_count": 46,
   "id": "cfd7ab0c",
   "metadata": {},
   "outputs": [
    {
     "name": "stdout",
     "output_type": "stream",
     "text": [
      "Sleeping...zzzzzzzz....\n",
      "Eating bananas...yum yum....\n"
     ]
    }
   ],
   "source": [
    "Coco = Animal(3,10,True)\n",
    "Coco.sleep()\n",
    "Coco.eat(food = 'bananas')"
   ]
  },
  {
   "cell_type": "code",
   "execution_count": 52,
   "id": "578efb7e",
   "metadata": {},
   "outputs": [],
   "source": [
    "class Dog(Animal):\n",
    "    #Dog Constructor\n",
    "    def __init__(self, age = 0, weight = 0, animal_is_alive = True, breed = 'nobreed', color = 'nocolor', name = 'noname', bark_sound = 'ruff'):\n",
    "        self.breed = breed\n",
    "        self.color = color\n",
    "        self.bark_sound = bark_sound\n",
    "        self.name = name\n",
    "        Animal.__init__(self,age,weight,animal_is_alive)\n",
    "    # barking method\n",
    "    def bark(self, num_barks = 3):\n",
    "        for i in range(num_barks):\n",
    "            print('{}'.format(self.bark),end = ' ')\n",
    "    def info(self):\n",
    "        print('{} is a {}-year old {} {}.'.format(my_dog.name,my_dog.age,my_dog.color,my_dog.breed))"
   ]
  },
  {
   "cell_type": "code",
   "execution_count": 56,
   "id": "d83191ec",
   "metadata": {},
   "outputs": [],
   "source": [
    "Fido = Dog(age = 1, weight = 15, animal_is_alive = True, breed='Husky',color = 'gray',name = 'Fido')"
   ]
  },
  {
   "cell_type": "code",
   "execution_count": 57,
   "id": "ae0f34c3",
   "metadata": {},
   "outputs": [
    {
     "name": "stdout",
     "output_type": "stream",
     "text": [
      "Ralph is a 7-year old gray Chihuahua.\n"
     ]
    }
   ],
   "source": [
    "Fido.info()"
   ]
  },
  {
   "cell_type": "code",
   "execution_count": 59,
   "id": "c64f8fb5",
   "metadata": {},
   "outputs": [
    {
     "name": "stdout",
     "output_type": "stream",
     "text": [
      "<bound method Dog.bark of <__main__.Dog object at 0x7f3e86e1ba30>> <bound method Dog.bark of <__main__.Dog object at 0x7f3e86e1ba30>> <bound method Dog.bark of <__main__.Dog object at 0x7f3e86e1ba30>> "
     ]
    }
   ],
   "source": [
    "Fido.bark(3)"
   ]
  },
  {
   "cell_type": "markdown",
   "id": "8fb45b2f",
   "metadata": {},
   "source": [
    "## Overloading and Multiple Inheritances"
   ]
  },
  {
   "cell_type": "code",
   "execution_count": 60,
   "id": "cf1a3ef2",
   "metadata": {},
   "outputs": [
    {
     "ename": "SyntaxError",
     "evalue": "unexpected EOF while parsing (1087725883.py, line 1)",
     "output_type": "error",
     "traceback": [
      "\u001b[0;36m  File \u001b[0;32m\"/tmp/ipykernel_128/1087725883.py\"\u001b[0;36m, line \u001b[0;32m1\u001b[0m\n\u001b[0;31m    class MotherDog(Animal):\u001b[0m\n\u001b[0m                            ^\u001b[0m\n\u001b[0;31mSyntaxError\u001b[0m\u001b[0;31m:\u001b[0m unexpected EOF while parsing\n"
     ]
    }
   ],
   "source": [
    "class MotherDog(Animal):\n",
    "    \n",
    "    def __init__(self,age = 0,weight = 0,animal_is_alive = True, breed = 'nobreed', color = 'nocolor', name = 'noname',):\n",
    "        \n",
    "    def bark(self, num_barks = 3):\n",
    "        for i in range(num_barks):\n",
    "            print('arf', end = ' ') \n",
    "    class FatherDog(Animal)"
   ]
  },
  {
   "cell_type": "markdown",
   "id": "2dc1d5cc",
   "metadata": {},
   "source": [
    "## Polymorphism"
   ]
  },
  {
   "cell_type": "code",
   "execution_count": null,
   "id": "b4bde0b5",
   "metadata": {},
   "outputs": [],
   "source": [
    "Tito = FatherDog(age=12,breed='Doberman',)"
   ]
  },
  {
   "cell_type": "markdown",
   "id": "5a8c026e",
   "metadata": {},
   "source": [
    "## Overloading Operations and Functions"
   ]
  },
  {
   "cell_type": "code",
   "execution_count": 1,
   "id": "b837b362",
   "metadata": {},
   "outputs": [],
   "source": [
    "class Vector:\n",
    "    def __init__(self,x_comp,y_comp):\n",
    "        self.x_comp = x_comp\n",
    "        self.y_comp = y_comp\n",
    "    def __abs__(self):\n",
    "        return (self.x_comp**2+self.y_comp**2)**(0.5)\n",
    "\n",
    "    "
   ]
  },
  {
   "cell_type": "code",
   "execution_count": 3,
   "id": "0edf834e",
   "metadata": {},
   "outputs": [],
   "source": [
    "x = Vector(1,2)"
   ]
  },
  {
   "cell_type": "code",
   "execution_count": 4,
   "id": "397feb51",
   "metadata": {},
   "outputs": [
    {
     "name": "stdout",
     "output_type": "stream",
     "text": [
      "<__main__.Vector object at 0x7f1480360070>\n"
     ]
    }
   ],
   "source": [
    "print(x)\n"
   ]
  },
  {
   "cell_type": "code",
   "execution_count": 11,
   "id": "5567dafb",
   "metadata": {},
   "outputs": [],
   "source": [
    "class Vector:\n",
    "    def __init__(self,x_comp,y_comp):\n",
    "        self.x_comp = x_comp\n",
    "        self.y_comp = y_comp\n",
    "    def __abs__(self):\n",
    "        return (self.x_comp**2+self.y_comp**2)**(0.5)\n",
    "    def __len__(self):\n",
    "        return 2\n",
    "    def __add__(self,other):\n",
    "        return Vector(self.x_comp + other.x_comp, self.y_comp + other.y_comp)"
   ]
  },
  {
   "cell_type": "code",
   "execution_count": 14,
   "id": "307b446e",
   "metadata": {},
   "outputs": [
    {
     "name": "stdout",
     "output_type": "stream",
     "text": [
      "4\n",
      "9\n"
     ]
    }
   ],
   "source": [
    "x = Vector(1,2)\n",
    "y = Vector(3,7)\n",
    "z = x+y\n",
    "print(z.x_comp)\n",
    "print(z.y_comp)"
   ]
  },
  {
   "cell_type": "code",
   "execution_count": 39,
   "id": "e5b8a1af",
   "metadata": {},
   "outputs": [],
   "source": [
    "class Vector:\n",
    "    def __init__(self,x_comp,y_comp):\n",
    "        self.x_comp = x_comp\n",
    "        self.y_comp = y_comp\n",
    "    def __abs__(self):\n",
    "        return (self.x_comp**2+self.y_comp**2)**(0.5)\n",
    "    def __len__(self):\n",
    "        return 2\n",
    "    def __add__(self,other):\n",
    "        return Vector(self.x_comp + other.x_comp, self.y_comp + other.y_comp)\n",
    "    def __mul__(self,other):\n",
    "        return Vector(self.x_comp*other, self.y_comp*other)\n",
    "    #def __mul__(other,self):\n",
    "       #return Vector(other*self.x_comp, other*self.y_comp)"
   ]
  },
  {
   "cell_type": "code",
   "execution_count": 40,
   "id": "3ffa470f",
   "metadata": {},
   "outputs": [],
   "source": [
    "x = Vector(1,2)\n",
    "y = 2\n",
    "z = x*y"
   ]
  },
  {
   "cell_type": "code",
   "execution_count": 41,
   "id": "bb38e77c",
   "metadata": {},
   "outputs": [
    {
     "name": "stdout",
     "output_type": "stream",
     "text": [
      "2\n",
      "4\n"
     ]
    }
   ],
   "source": [
    "print(z.x_comp)\n",
    "print(z.y_comp)"
   ]
  },
  {
   "cell_type": "code",
   "execution_count": 44,
   "id": "6c8534dd",
   "metadata": {},
   "outputs": [
    {
     "ename": "TypeError",
     "evalue": "unsupported operand type(s) for *: 'int' and 'Vector'",
     "output_type": "error",
     "traceback": [
      "\u001b[0;31m---------------------------------------------------------------------------\u001b[0m",
      "\u001b[0;31mTypeError\u001b[0m                                 Traceback (most recent call last)",
      "\u001b[0;32m/tmp/ipykernel_293/1494313711.py\u001b[0m in \u001b[0;36m<module>\u001b[0;34m\u001b[0m\n\u001b[0;32m----> 1\u001b[0;31m \u001b[0mz2\u001b[0m \u001b[0;34m=\u001b[0m \u001b[0my\u001b[0m\u001b[0;34m*\u001b[0m\u001b[0mx\u001b[0m\u001b[0;34m\u001b[0m\u001b[0;34m\u001b[0m\u001b[0m\n\u001b[0m",
      "\u001b[0;31mTypeError\u001b[0m: unsupported operand type(s) for *: 'int' and 'Vector'"
     ]
    }
   ],
   "source": [
    "z2 = y*x"
   ]
  },
  {
   "cell_type": "code",
   "execution_count": 43,
   "id": "6cd4c8ac",
   "metadata": {},
   "outputs": [],
   "source": [
    "class Vector:\n",
    "    def __init__(self,x_comp,y_comp):\n",
    "        self.x_comp = x_comp\n",
    "        self.y_comp = y_comp\n",
    "    def __abs__(self):\n",
    "        return (self.x_comp**2+self.y_comp**2)**(0.5)\n",
    "    def __len__(self):\n",
    "        return 2\n",
    "    def __add__(self,other):\n",
    "        return Vector(self.x_comp + other.x_comp, self.y_comp + other.y_comp)\n",
    "    def __mul__(self,other):\n",
    "        return Vector(self.x_comp*other, self.y_comp*other)\n",
    "    def __rmul__(self,other):\n",
    "        return Vector(self.x_comp*other, self.y_comp*other)"
   ]
  },
  {
   "cell_type": "code",
   "execution_count": null,
   "id": "d212be05",
   "metadata": {},
   "outputs": [],
   "source": []
  }
 ],
 "metadata": {
  "kernelspec": {
   "display_name": "Python 3 (ipykernel)",
   "language": "python",
   "name": "python3"
  },
  "language_info": {
   "codemirror_mode": {
    "name": "ipython",
    "version": 3
   },
   "file_extension": ".py",
   "mimetype": "text/x-python",
   "name": "python",
   "nbconvert_exporter": "python",
   "pygments_lexer": "ipython3",
   "version": "3.8.10"
  }
 },
 "nbformat": 4,
 "nbformat_minor": 5
}
